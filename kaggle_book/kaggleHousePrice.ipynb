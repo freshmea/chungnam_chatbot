{
 "cells": [
  {
   "cell_type": "code",
   "execution_count": 88,
   "metadata": {},
   "outputs": [],
   "source": [
    "# import library\n",
    "%matplotlib inline\n",
    "import matplotlib.pyplot as plt\n",
    "import numpy as np\n",
    "import pandas as pd\n",
    "import seaborn as sns\n",
    "import random\n",
    "\n",
    "plt.style.use(style='ggplot')\n",
    "np.random.seed(1234)\n",
    "random.seed(1234)"
   ]
  },
  {
   "cell_type": "code",
   "execution_count": 89,
   "metadata": {},
   "outputs": [],
   "source": [
    "train_df = pd.read_csv(\"./data/train.csv\")\n",
    "test_df = pd.read_csv(\"./data/test.csv\")\n",
    "submission = pd.read_csv(\"./data/sample_submission.csv\")"
   ]
  },
  {
   "cell_type": "code",
   "execution_count": 90,
   "metadata": {},
   "outputs": [
    {
     "data": {
      "text/html": [
       "<div>\n",
       "<style scoped>\n",
       "    .dataframe tbody tr th:only-of-type {\n",
       "        vertical-align: middle;\n",
       "    }\n",
       "\n",
       "    .dataframe tbody tr th {\n",
       "        vertical-align: top;\n",
       "    }\n",
       "\n",
       "    .dataframe thead th {\n",
       "        text-align: right;\n",
       "    }\n",
       "</style>\n",
       "<table border=\"1\" class=\"dataframe\">\n",
       "  <thead>\n",
       "    <tr style=\"text-align: right;\">\n",
       "      <th></th>\n",
       "      <th>Id</th>\n",
       "      <th>MSSubClass</th>\n",
       "      <th>MSZoning</th>\n",
       "      <th>LotFrontage</th>\n",
       "      <th>LotArea</th>\n",
       "      <th>Street</th>\n",
       "      <th>Alley</th>\n",
       "      <th>LotShape</th>\n",
       "      <th>LandContour</th>\n",
       "      <th>Utilities</th>\n",
       "      <th>...</th>\n",
       "      <th>PoolArea</th>\n",
       "      <th>PoolQC</th>\n",
       "      <th>Fence</th>\n",
       "      <th>MiscFeature</th>\n",
       "      <th>MiscVal</th>\n",
       "      <th>MoSold</th>\n",
       "      <th>YrSold</th>\n",
       "      <th>SaleType</th>\n",
       "      <th>SaleCondition</th>\n",
       "      <th>SalePrice</th>\n",
       "    </tr>\n",
       "  </thead>\n",
       "  <tbody>\n",
       "    <tr>\n",
       "      <th>0</th>\n",
       "      <td>1</td>\n",
       "      <td>60</td>\n",
       "      <td>RL</td>\n",
       "      <td>65.0</td>\n",
       "      <td>8450</td>\n",
       "      <td>Pave</td>\n",
       "      <td>NaN</td>\n",
       "      <td>Reg</td>\n",
       "      <td>Lvl</td>\n",
       "      <td>AllPub</td>\n",
       "      <td>...</td>\n",
       "      <td>0</td>\n",
       "      <td>NaN</td>\n",
       "      <td>NaN</td>\n",
       "      <td>NaN</td>\n",
       "      <td>0</td>\n",
       "      <td>2</td>\n",
       "      <td>2008</td>\n",
       "      <td>WD</td>\n",
       "      <td>Normal</td>\n",
       "      <td>208500</td>\n",
       "    </tr>\n",
       "    <tr>\n",
       "      <th>1</th>\n",
       "      <td>2</td>\n",
       "      <td>20</td>\n",
       "      <td>RL</td>\n",
       "      <td>80.0</td>\n",
       "      <td>9600</td>\n",
       "      <td>Pave</td>\n",
       "      <td>NaN</td>\n",
       "      <td>Reg</td>\n",
       "      <td>Lvl</td>\n",
       "      <td>AllPub</td>\n",
       "      <td>...</td>\n",
       "      <td>0</td>\n",
       "      <td>NaN</td>\n",
       "      <td>NaN</td>\n",
       "      <td>NaN</td>\n",
       "      <td>0</td>\n",
       "      <td>5</td>\n",
       "      <td>2007</td>\n",
       "      <td>WD</td>\n",
       "      <td>Normal</td>\n",
       "      <td>181500</td>\n",
       "    </tr>\n",
       "    <tr>\n",
       "      <th>2</th>\n",
       "      <td>3</td>\n",
       "      <td>60</td>\n",
       "      <td>RL</td>\n",
       "      <td>68.0</td>\n",
       "      <td>11250</td>\n",
       "      <td>Pave</td>\n",
       "      <td>NaN</td>\n",
       "      <td>IR1</td>\n",
       "      <td>Lvl</td>\n",
       "      <td>AllPub</td>\n",
       "      <td>...</td>\n",
       "      <td>0</td>\n",
       "      <td>NaN</td>\n",
       "      <td>NaN</td>\n",
       "      <td>NaN</td>\n",
       "      <td>0</td>\n",
       "      <td>9</td>\n",
       "      <td>2008</td>\n",
       "      <td>WD</td>\n",
       "      <td>Normal</td>\n",
       "      <td>223500</td>\n",
       "    </tr>\n",
       "    <tr>\n",
       "      <th>3</th>\n",
       "      <td>4</td>\n",
       "      <td>70</td>\n",
       "      <td>RL</td>\n",
       "      <td>60.0</td>\n",
       "      <td>9550</td>\n",
       "      <td>Pave</td>\n",
       "      <td>NaN</td>\n",
       "      <td>IR1</td>\n",
       "      <td>Lvl</td>\n",
       "      <td>AllPub</td>\n",
       "      <td>...</td>\n",
       "      <td>0</td>\n",
       "      <td>NaN</td>\n",
       "      <td>NaN</td>\n",
       "      <td>NaN</td>\n",
       "      <td>0</td>\n",
       "      <td>2</td>\n",
       "      <td>2006</td>\n",
       "      <td>WD</td>\n",
       "      <td>Abnorml</td>\n",
       "      <td>140000</td>\n",
       "    </tr>\n",
       "    <tr>\n",
       "      <th>4</th>\n",
       "      <td>5</td>\n",
       "      <td>60</td>\n",
       "      <td>RL</td>\n",
       "      <td>84.0</td>\n",
       "      <td>14260</td>\n",
       "      <td>Pave</td>\n",
       "      <td>NaN</td>\n",
       "      <td>IR1</td>\n",
       "      <td>Lvl</td>\n",
       "      <td>AllPub</td>\n",
       "      <td>...</td>\n",
       "      <td>0</td>\n",
       "      <td>NaN</td>\n",
       "      <td>NaN</td>\n",
       "      <td>NaN</td>\n",
       "      <td>0</td>\n",
       "      <td>12</td>\n",
       "      <td>2008</td>\n",
       "      <td>WD</td>\n",
       "      <td>Normal</td>\n",
       "      <td>250000</td>\n",
       "    </tr>\n",
       "  </tbody>\n",
       "</table>\n",
       "<p>5 rows × 81 columns</p>\n",
       "</div>"
      ],
      "text/plain": [
       "   Id  MSSubClass MSZoning  LotFrontage  LotArea Street Alley LotShape  \\\n",
       "0   1          60       RL         65.0     8450   Pave   NaN      Reg   \n",
       "1   2          20       RL         80.0     9600   Pave   NaN      Reg   \n",
       "2   3          60       RL         68.0    11250   Pave   NaN      IR1   \n",
       "3   4          70       RL         60.0     9550   Pave   NaN      IR1   \n",
       "4   5          60       RL         84.0    14260   Pave   NaN      IR1   \n",
       "\n",
       "  LandContour Utilities  ... PoolArea PoolQC Fence MiscFeature MiscVal MoSold  \\\n",
       "0         Lvl    AllPub  ...        0    NaN   NaN         NaN       0      2   \n",
       "1         Lvl    AllPub  ...        0    NaN   NaN         NaN       0      5   \n",
       "2         Lvl    AllPub  ...        0    NaN   NaN         NaN       0      9   \n",
       "3         Lvl    AllPub  ...        0    NaN   NaN         NaN       0      2   \n",
       "4         Lvl    AllPub  ...        0    NaN   NaN         NaN       0     12   \n",
       "\n",
       "  YrSold  SaleType  SaleCondition  SalePrice  \n",
       "0   2008        WD         Normal     208500  \n",
       "1   2007        WD         Normal     181500  \n",
       "2   2008        WD         Normal     223500  \n",
       "3   2006        WD        Abnorml     140000  \n",
       "4   2008        WD         Normal     250000  \n",
       "\n",
       "[5 rows x 81 columns]"
      ]
     },
     "execution_count": 90,
     "metadata": {},
     "output_type": "execute_result"
    }
   ],
   "source": [
    "train_df.head()"
   ]
  },
  {
   "cell_type": "code",
   "execution_count": 91,
   "metadata": {},
   "outputs": [
    {
     "data": {
      "text/html": [
       "<div>\n",
       "<style scoped>\n",
       "    .dataframe tbody tr th:only-of-type {\n",
       "        vertical-align: middle;\n",
       "    }\n",
       "\n",
       "    .dataframe tbody tr th {\n",
       "        vertical-align: top;\n",
       "    }\n",
       "\n",
       "    .dataframe thead th {\n",
       "        text-align: right;\n",
       "    }\n",
       "</style>\n",
       "<table border=\"1\" class=\"dataframe\">\n",
       "  <thead>\n",
       "    <tr style=\"text-align: right;\">\n",
       "      <th></th>\n",
       "      <th>Id</th>\n",
       "      <th>MSSubClass</th>\n",
       "      <th>MSZoning</th>\n",
       "      <th>LotFrontage</th>\n",
       "      <th>LotArea</th>\n",
       "      <th>Street</th>\n",
       "      <th>Alley</th>\n",
       "      <th>LotShape</th>\n",
       "      <th>LandContour</th>\n",
       "      <th>Utilities</th>\n",
       "      <th>...</th>\n",
       "      <th>ScreenPorch</th>\n",
       "      <th>PoolArea</th>\n",
       "      <th>PoolQC</th>\n",
       "      <th>Fence</th>\n",
       "      <th>MiscFeature</th>\n",
       "      <th>MiscVal</th>\n",
       "      <th>MoSold</th>\n",
       "      <th>YrSold</th>\n",
       "      <th>SaleType</th>\n",
       "      <th>SaleCondition</th>\n",
       "    </tr>\n",
       "  </thead>\n",
       "  <tbody>\n",
       "    <tr>\n",
       "      <th>0</th>\n",
       "      <td>1461</td>\n",
       "      <td>20</td>\n",
       "      <td>RH</td>\n",
       "      <td>80.0</td>\n",
       "      <td>11622</td>\n",
       "      <td>Pave</td>\n",
       "      <td>NaN</td>\n",
       "      <td>Reg</td>\n",
       "      <td>Lvl</td>\n",
       "      <td>AllPub</td>\n",
       "      <td>...</td>\n",
       "      <td>120</td>\n",
       "      <td>0</td>\n",
       "      <td>NaN</td>\n",
       "      <td>MnPrv</td>\n",
       "      <td>NaN</td>\n",
       "      <td>0</td>\n",
       "      <td>6</td>\n",
       "      <td>2010</td>\n",
       "      <td>WD</td>\n",
       "      <td>Normal</td>\n",
       "    </tr>\n",
       "    <tr>\n",
       "      <th>1</th>\n",
       "      <td>1462</td>\n",
       "      <td>20</td>\n",
       "      <td>RL</td>\n",
       "      <td>81.0</td>\n",
       "      <td>14267</td>\n",
       "      <td>Pave</td>\n",
       "      <td>NaN</td>\n",
       "      <td>IR1</td>\n",
       "      <td>Lvl</td>\n",
       "      <td>AllPub</td>\n",
       "      <td>...</td>\n",
       "      <td>0</td>\n",
       "      <td>0</td>\n",
       "      <td>NaN</td>\n",
       "      <td>NaN</td>\n",
       "      <td>Gar2</td>\n",
       "      <td>12500</td>\n",
       "      <td>6</td>\n",
       "      <td>2010</td>\n",
       "      <td>WD</td>\n",
       "      <td>Normal</td>\n",
       "    </tr>\n",
       "    <tr>\n",
       "      <th>2</th>\n",
       "      <td>1463</td>\n",
       "      <td>60</td>\n",
       "      <td>RL</td>\n",
       "      <td>74.0</td>\n",
       "      <td>13830</td>\n",
       "      <td>Pave</td>\n",
       "      <td>NaN</td>\n",
       "      <td>IR1</td>\n",
       "      <td>Lvl</td>\n",
       "      <td>AllPub</td>\n",
       "      <td>...</td>\n",
       "      <td>0</td>\n",
       "      <td>0</td>\n",
       "      <td>NaN</td>\n",
       "      <td>MnPrv</td>\n",
       "      <td>NaN</td>\n",
       "      <td>0</td>\n",
       "      <td>3</td>\n",
       "      <td>2010</td>\n",
       "      <td>WD</td>\n",
       "      <td>Normal</td>\n",
       "    </tr>\n",
       "    <tr>\n",
       "      <th>3</th>\n",
       "      <td>1464</td>\n",
       "      <td>60</td>\n",
       "      <td>RL</td>\n",
       "      <td>78.0</td>\n",
       "      <td>9978</td>\n",
       "      <td>Pave</td>\n",
       "      <td>NaN</td>\n",
       "      <td>IR1</td>\n",
       "      <td>Lvl</td>\n",
       "      <td>AllPub</td>\n",
       "      <td>...</td>\n",
       "      <td>0</td>\n",
       "      <td>0</td>\n",
       "      <td>NaN</td>\n",
       "      <td>NaN</td>\n",
       "      <td>NaN</td>\n",
       "      <td>0</td>\n",
       "      <td>6</td>\n",
       "      <td>2010</td>\n",
       "      <td>WD</td>\n",
       "      <td>Normal</td>\n",
       "    </tr>\n",
       "    <tr>\n",
       "      <th>4</th>\n",
       "      <td>1465</td>\n",
       "      <td>120</td>\n",
       "      <td>RL</td>\n",
       "      <td>43.0</td>\n",
       "      <td>5005</td>\n",
       "      <td>Pave</td>\n",
       "      <td>NaN</td>\n",
       "      <td>IR1</td>\n",
       "      <td>HLS</td>\n",
       "      <td>AllPub</td>\n",
       "      <td>...</td>\n",
       "      <td>144</td>\n",
       "      <td>0</td>\n",
       "      <td>NaN</td>\n",
       "      <td>NaN</td>\n",
       "      <td>NaN</td>\n",
       "      <td>0</td>\n",
       "      <td>1</td>\n",
       "      <td>2010</td>\n",
       "      <td>WD</td>\n",
       "      <td>Normal</td>\n",
       "    </tr>\n",
       "  </tbody>\n",
       "</table>\n",
       "<p>5 rows × 80 columns</p>\n",
       "</div>"
      ],
      "text/plain": [
       "     Id  MSSubClass MSZoning  LotFrontage  LotArea Street Alley LotShape  \\\n",
       "0  1461          20       RH         80.0    11622   Pave   NaN      Reg   \n",
       "1  1462          20       RL         81.0    14267   Pave   NaN      IR1   \n",
       "2  1463          60       RL         74.0    13830   Pave   NaN      IR1   \n",
       "3  1464          60       RL         78.0     9978   Pave   NaN      IR1   \n",
       "4  1465         120       RL         43.0     5005   Pave   NaN      IR1   \n",
       "\n",
       "  LandContour Utilities  ... ScreenPorch PoolArea PoolQC  Fence MiscFeature  \\\n",
       "0         Lvl    AllPub  ...         120        0    NaN  MnPrv         NaN   \n",
       "1         Lvl    AllPub  ...           0        0    NaN    NaN        Gar2   \n",
       "2         Lvl    AllPub  ...           0        0    NaN  MnPrv         NaN   \n",
       "3         Lvl    AllPub  ...           0        0    NaN    NaN         NaN   \n",
       "4         HLS    AllPub  ...         144        0    NaN    NaN         NaN   \n",
       "\n",
       "  MiscVal MoSold  YrSold  SaleType  SaleCondition  \n",
       "0       0      6    2010        WD         Normal  \n",
       "1   12500      6    2010        WD         Normal  \n",
       "2       0      3    2010        WD         Normal  \n",
       "3       0      6    2010        WD         Normal  \n",
       "4       0      1    2010        WD         Normal  \n",
       "\n",
       "[5 rows x 80 columns]"
      ]
     },
     "execution_count": 91,
     "metadata": {},
     "output_type": "execute_result"
    }
   ],
   "source": [
    "test_df.head()"
   ]
  },
  {
   "cell_type": "code",
   "execution_count": 92,
   "metadata": {},
   "outputs": [
    {
     "data": {
      "text/html": [
       "<div>\n",
       "<style scoped>\n",
       "    .dataframe tbody tr th:only-of-type {\n",
       "        vertical-align: middle;\n",
       "    }\n",
       "\n",
       "    .dataframe tbody tr th {\n",
       "        vertical-align: top;\n",
       "    }\n",
       "\n",
       "    .dataframe thead th {\n",
       "        text-align: right;\n",
       "    }\n",
       "</style>\n",
       "<table border=\"1\" class=\"dataframe\">\n",
       "  <thead>\n",
       "    <tr style=\"text-align: right;\">\n",
       "      <th></th>\n",
       "      <th>Id</th>\n",
       "      <th>SalePrice</th>\n",
       "    </tr>\n",
       "  </thead>\n",
       "  <tbody>\n",
       "    <tr>\n",
       "      <th>0</th>\n",
       "      <td>1461</td>\n",
       "      <td>169277.052498</td>\n",
       "    </tr>\n",
       "    <tr>\n",
       "      <th>1</th>\n",
       "      <td>1462</td>\n",
       "      <td>187758.393989</td>\n",
       "    </tr>\n",
       "    <tr>\n",
       "      <th>2</th>\n",
       "      <td>1463</td>\n",
       "      <td>183583.683570</td>\n",
       "    </tr>\n",
       "    <tr>\n",
       "      <th>3</th>\n",
       "      <td>1464</td>\n",
       "      <td>179317.477511</td>\n",
       "    </tr>\n",
       "    <tr>\n",
       "      <th>4</th>\n",
       "      <td>1465</td>\n",
       "      <td>150730.079977</td>\n",
       "    </tr>\n",
       "  </tbody>\n",
       "</table>\n",
       "</div>"
      ],
      "text/plain": [
       "     Id      SalePrice\n",
       "0  1461  169277.052498\n",
       "1  1462  187758.393989\n",
       "2  1463  183583.683570\n",
       "3  1464  179317.477511\n",
       "4  1465  150730.079977"
      ]
     },
     "execution_count": 92,
     "metadata": {},
     "output_type": "execute_result"
    }
   ],
   "source": [
    "submission.head()"
   ]
  },
  {
   "cell_type": "code",
   "execution_count": 93,
   "metadata": {},
   "outputs": [
    {
     "data": {
      "text/plain": [
       "Id                 int64\n",
       "MSSubClass         int64\n",
       "MSZoning          object\n",
       "LotFrontage      float64\n",
       "LotArea            int64\n",
       "                  ...   \n",
       "MoSold             int64\n",
       "YrSold             int64\n",
       "SaleType          object\n",
       "SaleCondition     object\n",
       "SalePrice          int64\n",
       "Length: 81, dtype: object"
      ]
     },
     "execution_count": 93,
     "metadata": {},
     "output_type": "execute_result"
    }
   ],
   "source": [
    "train_df.dtypes"
   ]
  },
  {
   "cell_type": "code",
   "execution_count": 94,
   "metadata": {},
   "outputs": [
    {
     "data": {
      "text/plain": [
       "RL         1151\n",
       "RM          218\n",
       "FV           65\n",
       "RH           16\n",
       "C (all)      10\n",
       "Name: MSZoning, dtype: int64"
      ]
     },
     "execution_count": 94,
     "metadata": {},
     "output_type": "execute_result"
    }
   ],
   "source": [
    "train_df[\"MSZoning\"].value_counts()"
   ]
  },
  {
   "cell_type": "code",
   "execution_count": 95,
   "metadata": {},
   "outputs": [],
   "source": [
    "all_df = pd.concat([train_df, test_df], axis=0, sort=False).reset_index(drop=True)"
   ]
  },
  {
   "cell_type": "code",
   "execution_count": 96,
   "metadata": {},
   "outputs": [
    {
     "data": {
      "text/html": [
       "<div>\n",
       "<style scoped>\n",
       "    .dataframe tbody tr th:only-of-type {\n",
       "        vertical-align: middle;\n",
       "    }\n",
       "\n",
       "    .dataframe tbody tr th {\n",
       "        vertical-align: top;\n",
       "    }\n",
       "\n",
       "    .dataframe thead th {\n",
       "        text-align: right;\n",
       "    }\n",
       "</style>\n",
       "<table border=\"1\" class=\"dataframe\">\n",
       "  <thead>\n",
       "    <tr style=\"text-align: right;\">\n",
       "      <th></th>\n",
       "      <th>Id</th>\n",
       "      <th>MSSubClass</th>\n",
       "      <th>MSZoning</th>\n",
       "      <th>LotFrontage</th>\n",
       "      <th>LotArea</th>\n",
       "      <th>Street</th>\n",
       "      <th>Alley</th>\n",
       "      <th>LotShape</th>\n",
       "      <th>LandContour</th>\n",
       "      <th>Utilities</th>\n",
       "      <th>...</th>\n",
       "      <th>PoolArea</th>\n",
       "      <th>PoolQC</th>\n",
       "      <th>Fence</th>\n",
       "      <th>MiscFeature</th>\n",
       "      <th>MiscVal</th>\n",
       "      <th>MoSold</th>\n",
       "      <th>YrSold</th>\n",
       "      <th>SaleType</th>\n",
       "      <th>SaleCondition</th>\n",
       "      <th>SalePrice</th>\n",
       "    </tr>\n",
       "  </thead>\n",
       "  <tbody>\n",
       "    <tr>\n",
       "      <th>0</th>\n",
       "      <td>1</td>\n",
       "      <td>60</td>\n",
       "      <td>RL</td>\n",
       "      <td>65.0</td>\n",
       "      <td>8450</td>\n",
       "      <td>Pave</td>\n",
       "      <td>NaN</td>\n",
       "      <td>Reg</td>\n",
       "      <td>Lvl</td>\n",
       "      <td>AllPub</td>\n",
       "      <td>...</td>\n",
       "      <td>0</td>\n",
       "      <td>NaN</td>\n",
       "      <td>NaN</td>\n",
       "      <td>NaN</td>\n",
       "      <td>0</td>\n",
       "      <td>2</td>\n",
       "      <td>2008</td>\n",
       "      <td>WD</td>\n",
       "      <td>Normal</td>\n",
       "      <td>208500.0</td>\n",
       "    </tr>\n",
       "    <tr>\n",
       "      <th>1</th>\n",
       "      <td>2</td>\n",
       "      <td>20</td>\n",
       "      <td>RL</td>\n",
       "      <td>80.0</td>\n",
       "      <td>9600</td>\n",
       "      <td>Pave</td>\n",
       "      <td>NaN</td>\n",
       "      <td>Reg</td>\n",
       "      <td>Lvl</td>\n",
       "      <td>AllPub</td>\n",
       "      <td>...</td>\n",
       "      <td>0</td>\n",
       "      <td>NaN</td>\n",
       "      <td>NaN</td>\n",
       "      <td>NaN</td>\n",
       "      <td>0</td>\n",
       "      <td>5</td>\n",
       "      <td>2007</td>\n",
       "      <td>WD</td>\n",
       "      <td>Normal</td>\n",
       "      <td>181500.0</td>\n",
       "    </tr>\n",
       "    <tr>\n",
       "      <th>2</th>\n",
       "      <td>3</td>\n",
       "      <td>60</td>\n",
       "      <td>RL</td>\n",
       "      <td>68.0</td>\n",
       "      <td>11250</td>\n",
       "      <td>Pave</td>\n",
       "      <td>NaN</td>\n",
       "      <td>IR1</td>\n",
       "      <td>Lvl</td>\n",
       "      <td>AllPub</td>\n",
       "      <td>...</td>\n",
       "      <td>0</td>\n",
       "      <td>NaN</td>\n",
       "      <td>NaN</td>\n",
       "      <td>NaN</td>\n",
       "      <td>0</td>\n",
       "      <td>9</td>\n",
       "      <td>2008</td>\n",
       "      <td>WD</td>\n",
       "      <td>Normal</td>\n",
       "      <td>223500.0</td>\n",
       "    </tr>\n",
       "    <tr>\n",
       "      <th>3</th>\n",
       "      <td>4</td>\n",
       "      <td>70</td>\n",
       "      <td>RL</td>\n",
       "      <td>60.0</td>\n",
       "      <td>9550</td>\n",
       "      <td>Pave</td>\n",
       "      <td>NaN</td>\n",
       "      <td>IR1</td>\n",
       "      <td>Lvl</td>\n",
       "      <td>AllPub</td>\n",
       "      <td>...</td>\n",
       "      <td>0</td>\n",
       "      <td>NaN</td>\n",
       "      <td>NaN</td>\n",
       "      <td>NaN</td>\n",
       "      <td>0</td>\n",
       "      <td>2</td>\n",
       "      <td>2006</td>\n",
       "      <td>WD</td>\n",
       "      <td>Abnorml</td>\n",
       "      <td>140000.0</td>\n",
       "    </tr>\n",
       "    <tr>\n",
       "      <th>4</th>\n",
       "      <td>5</td>\n",
       "      <td>60</td>\n",
       "      <td>RL</td>\n",
       "      <td>84.0</td>\n",
       "      <td>14260</td>\n",
       "      <td>Pave</td>\n",
       "      <td>NaN</td>\n",
       "      <td>IR1</td>\n",
       "      <td>Lvl</td>\n",
       "      <td>AllPub</td>\n",
       "      <td>...</td>\n",
       "      <td>0</td>\n",
       "      <td>NaN</td>\n",
       "      <td>NaN</td>\n",
       "      <td>NaN</td>\n",
       "      <td>0</td>\n",
       "      <td>12</td>\n",
       "      <td>2008</td>\n",
       "      <td>WD</td>\n",
       "      <td>Normal</td>\n",
       "      <td>250000.0</td>\n",
       "    </tr>\n",
       "    <tr>\n",
       "      <th>...</th>\n",
       "      <td>...</td>\n",
       "      <td>...</td>\n",
       "      <td>...</td>\n",
       "      <td>...</td>\n",
       "      <td>...</td>\n",
       "      <td>...</td>\n",
       "      <td>...</td>\n",
       "      <td>...</td>\n",
       "      <td>...</td>\n",
       "      <td>...</td>\n",
       "      <td>...</td>\n",
       "      <td>...</td>\n",
       "      <td>...</td>\n",
       "      <td>...</td>\n",
       "      <td>...</td>\n",
       "      <td>...</td>\n",
       "      <td>...</td>\n",
       "      <td>...</td>\n",
       "      <td>...</td>\n",
       "      <td>...</td>\n",
       "      <td>...</td>\n",
       "    </tr>\n",
       "    <tr>\n",
       "      <th>2914</th>\n",
       "      <td>2915</td>\n",
       "      <td>160</td>\n",
       "      <td>RM</td>\n",
       "      <td>21.0</td>\n",
       "      <td>1936</td>\n",
       "      <td>Pave</td>\n",
       "      <td>NaN</td>\n",
       "      <td>Reg</td>\n",
       "      <td>Lvl</td>\n",
       "      <td>AllPub</td>\n",
       "      <td>...</td>\n",
       "      <td>0</td>\n",
       "      <td>NaN</td>\n",
       "      <td>NaN</td>\n",
       "      <td>NaN</td>\n",
       "      <td>0</td>\n",
       "      <td>6</td>\n",
       "      <td>2006</td>\n",
       "      <td>WD</td>\n",
       "      <td>Normal</td>\n",
       "      <td>NaN</td>\n",
       "    </tr>\n",
       "    <tr>\n",
       "      <th>2915</th>\n",
       "      <td>2916</td>\n",
       "      <td>160</td>\n",
       "      <td>RM</td>\n",
       "      <td>21.0</td>\n",
       "      <td>1894</td>\n",
       "      <td>Pave</td>\n",
       "      <td>NaN</td>\n",
       "      <td>Reg</td>\n",
       "      <td>Lvl</td>\n",
       "      <td>AllPub</td>\n",
       "      <td>...</td>\n",
       "      <td>0</td>\n",
       "      <td>NaN</td>\n",
       "      <td>NaN</td>\n",
       "      <td>NaN</td>\n",
       "      <td>0</td>\n",
       "      <td>4</td>\n",
       "      <td>2006</td>\n",
       "      <td>WD</td>\n",
       "      <td>Abnorml</td>\n",
       "      <td>NaN</td>\n",
       "    </tr>\n",
       "    <tr>\n",
       "      <th>2916</th>\n",
       "      <td>2917</td>\n",
       "      <td>20</td>\n",
       "      <td>RL</td>\n",
       "      <td>160.0</td>\n",
       "      <td>20000</td>\n",
       "      <td>Pave</td>\n",
       "      <td>NaN</td>\n",
       "      <td>Reg</td>\n",
       "      <td>Lvl</td>\n",
       "      <td>AllPub</td>\n",
       "      <td>...</td>\n",
       "      <td>0</td>\n",
       "      <td>NaN</td>\n",
       "      <td>NaN</td>\n",
       "      <td>NaN</td>\n",
       "      <td>0</td>\n",
       "      <td>9</td>\n",
       "      <td>2006</td>\n",
       "      <td>WD</td>\n",
       "      <td>Abnorml</td>\n",
       "      <td>NaN</td>\n",
       "    </tr>\n",
       "    <tr>\n",
       "      <th>2917</th>\n",
       "      <td>2918</td>\n",
       "      <td>85</td>\n",
       "      <td>RL</td>\n",
       "      <td>62.0</td>\n",
       "      <td>10441</td>\n",
       "      <td>Pave</td>\n",
       "      <td>NaN</td>\n",
       "      <td>Reg</td>\n",
       "      <td>Lvl</td>\n",
       "      <td>AllPub</td>\n",
       "      <td>...</td>\n",
       "      <td>0</td>\n",
       "      <td>NaN</td>\n",
       "      <td>MnPrv</td>\n",
       "      <td>Shed</td>\n",
       "      <td>700</td>\n",
       "      <td>7</td>\n",
       "      <td>2006</td>\n",
       "      <td>WD</td>\n",
       "      <td>Normal</td>\n",
       "      <td>NaN</td>\n",
       "    </tr>\n",
       "    <tr>\n",
       "      <th>2918</th>\n",
       "      <td>2919</td>\n",
       "      <td>60</td>\n",
       "      <td>RL</td>\n",
       "      <td>74.0</td>\n",
       "      <td>9627</td>\n",
       "      <td>Pave</td>\n",
       "      <td>NaN</td>\n",
       "      <td>Reg</td>\n",
       "      <td>Lvl</td>\n",
       "      <td>AllPub</td>\n",
       "      <td>...</td>\n",
       "      <td>0</td>\n",
       "      <td>NaN</td>\n",
       "      <td>NaN</td>\n",
       "      <td>NaN</td>\n",
       "      <td>0</td>\n",
       "      <td>11</td>\n",
       "      <td>2006</td>\n",
       "      <td>WD</td>\n",
       "      <td>Normal</td>\n",
       "      <td>NaN</td>\n",
       "    </tr>\n",
       "  </tbody>\n",
       "</table>\n",
       "<p>2919 rows × 81 columns</p>\n",
       "</div>"
      ],
      "text/plain": [
       "        Id  MSSubClass MSZoning  LotFrontage  LotArea Street Alley LotShape  \\\n",
       "0        1          60       RL         65.0     8450   Pave   NaN      Reg   \n",
       "1        2          20       RL         80.0     9600   Pave   NaN      Reg   \n",
       "2        3          60       RL         68.0    11250   Pave   NaN      IR1   \n",
       "3        4          70       RL         60.0     9550   Pave   NaN      IR1   \n",
       "4        5          60       RL         84.0    14260   Pave   NaN      IR1   \n",
       "...    ...         ...      ...          ...      ...    ...   ...      ...   \n",
       "2914  2915         160       RM         21.0     1936   Pave   NaN      Reg   \n",
       "2915  2916         160       RM         21.0     1894   Pave   NaN      Reg   \n",
       "2916  2917          20       RL        160.0    20000   Pave   NaN      Reg   \n",
       "2917  2918          85       RL         62.0    10441   Pave   NaN      Reg   \n",
       "2918  2919          60       RL         74.0     9627   Pave   NaN      Reg   \n",
       "\n",
       "     LandContour Utilities  ... PoolArea PoolQC  Fence MiscFeature MiscVal  \\\n",
       "0            Lvl    AllPub  ...        0    NaN    NaN         NaN       0   \n",
       "1            Lvl    AllPub  ...        0    NaN    NaN         NaN       0   \n",
       "2            Lvl    AllPub  ...        0    NaN    NaN         NaN       0   \n",
       "3            Lvl    AllPub  ...        0    NaN    NaN         NaN       0   \n",
       "4            Lvl    AllPub  ...        0    NaN    NaN         NaN       0   \n",
       "...          ...       ...  ...      ...    ...    ...         ...     ...   \n",
       "2914         Lvl    AllPub  ...        0    NaN    NaN         NaN       0   \n",
       "2915         Lvl    AllPub  ...        0    NaN    NaN         NaN       0   \n",
       "2916         Lvl    AllPub  ...        0    NaN    NaN         NaN       0   \n",
       "2917         Lvl    AllPub  ...        0    NaN  MnPrv        Shed     700   \n",
       "2918         Lvl    AllPub  ...        0    NaN    NaN         NaN       0   \n",
       "\n",
       "     MoSold YrSold  SaleType  SaleCondition  SalePrice  \n",
       "0         2   2008        WD         Normal   208500.0  \n",
       "1         5   2007        WD         Normal   181500.0  \n",
       "2         9   2008        WD         Normal   223500.0  \n",
       "3         2   2006        WD        Abnorml   140000.0  \n",
       "4        12   2008        WD         Normal   250000.0  \n",
       "...     ...    ...       ...            ...        ...  \n",
       "2914      6   2006        WD         Normal        NaN  \n",
       "2915      4   2006        WD        Abnorml        NaN  \n",
       "2916      9   2006        WD        Abnorml        NaN  \n",
       "2917      7   2006        WD         Normal        NaN  \n",
       "2918     11   2006        WD         Normal        NaN  \n",
       "\n",
       "[2919 rows x 81 columns]"
      ]
     },
     "execution_count": 96,
     "metadata": {},
     "output_type": "execute_result"
    }
   ],
   "source": [
    "all_df"
   ]
  },
  {
   "cell_type": "code",
   "execution_count": 97,
   "metadata": {},
   "outputs": [
    {
     "data": {
      "text/plain": [
       "0       208500.0\n",
       "1       181500.0\n",
       "2       223500.0\n",
       "3       140000.0\n",
       "4       250000.0\n",
       "          ...   \n",
       "2914         NaN\n",
       "2915         NaN\n",
       "2916         NaN\n",
       "2917         NaN\n",
       "2918         NaN\n",
       "Name: SalePrice, Length: 2919, dtype: float64"
      ]
     },
     "execution_count": 97,
     "metadata": {},
     "output_type": "execute_result"
    }
   ],
   "source": [
    "all_df[\"SalePrice\"]"
   ]
  },
  {
   "cell_type": "code",
   "execution_count": 98,
   "metadata": {},
   "outputs": [
    {
     "data": {
      "text/plain": [
       "count      1460.000000\n",
       "mean     180921.195890\n",
       "std       79442.502883\n",
       "min       34900.000000\n",
       "25%      129975.000000\n",
       "50%      163000.000000\n",
       "75%      214000.000000\n",
       "max      755000.000000\n",
       "Name: SalePrice, dtype: float64"
      ]
     },
     "execution_count": 98,
     "metadata": {},
     "output_type": "execute_result"
    }
   ],
   "source": [
    "all_df[\"SalePrice\"].describe()"
   ]
  },
  {
   "cell_type": "code",
   "execution_count": 99,
   "metadata": {},
   "outputs": [
    {
     "name": "stdout",
     "output_type": "stream",
     "text": [
      "Index(['MSZoning', 'Street', 'Alley', 'LotShape', 'LandContour', 'Utilities',\n",
      "       'LotConfig', 'LandSlope', 'Neighborhood', 'Condition1', 'Condition2',\n",
      "       'BldgType', 'HouseStyle', 'RoofStyle', 'RoofMatl', 'Exterior1st',\n",
      "       'Exterior2nd', 'MasVnrType', 'ExterQual', 'ExterCond', 'Foundation',\n",
      "       'BsmtQual', 'BsmtCond', 'BsmtExposure', 'BsmtFinType1', 'BsmtFinType2',\n",
      "       'Heating', 'HeatingQC', 'CentralAir', 'Electrical', 'KitchenQual',\n",
      "       'Functional', 'FireplaceQu', 'GarageType', 'GarageFinish', 'GarageQual',\n",
      "       'GarageCond', 'PavedDrive', 'PoolQC', 'Fence', 'MiscFeature',\n",
      "       'SaleType', 'SaleCondition'],\n",
      "      dtype='object')\n",
      "43\n"
     ]
    }
   ],
   "source": [
    "from sklearn.preprocessing import LabelEncoder\n",
    "\n",
    "categories = all_df.columns[all_df.dtypes == \"object\"]\n",
    "print(categories)\n",
    "print(len(categories))"
   ]
  },
  {
   "cell_type": "code",
   "execution_count": 100,
   "metadata": {},
   "outputs": [
    {
     "data": {
      "text/plain": [
       "Grvl    120\n",
       "Pave     78\n",
       "Name: Alley, dtype: int64"
      ]
     },
     "execution_count": 100,
     "metadata": {},
     "output_type": "execute_result"
    }
   ],
   "source": [
    "all_df[\"Alley\"].value_counts()"
   ]
  },
  {
   "cell_type": "code",
   "execution_count": 101,
   "metadata": {},
   "outputs": [],
   "source": [
    "for cat in categories:\n",
    "    le = LabelEncoder()\n",
    "    all_df[cat].fillna(\"missing\", inplace=True)\n",
    "    le = le.fit(all_df[cat])\n",
    "    all_df[cat] = le.transform(all_df[cat])\n",
    "    all_df[cat] = all_df[cat].astype(\"category\")"
   ]
  },
  {
   "cell_type": "code",
   "execution_count": 102,
   "metadata": {},
   "outputs": [
    {
     "data": {
      "text/plain": [
       "LotFrontage      486\n",
       "MasVnrArea        23\n",
       "BsmtFinSF1         1\n",
       "BsmtFinSF2         1\n",
       "BsmtUnfSF          1\n",
       "TotalBsmtSF        1\n",
       "BsmtFullBath       2\n",
       "BsmtHalfBath       2\n",
       "GarageYrBlt      159\n",
       "GarageCars         1\n",
       "GarageArea         1\n",
       "SalePrice       1459\n",
       "dtype: int64"
      ]
     },
     "execution_count": 102,
     "metadata": {},
     "output_type": "execute_result"
    }
   ],
   "source": [
    "all_df.isnull().sum()[all_df.isnull().sum() != 0]"
   ]
  },
  {
   "cell_type": "code",
   "execution_count": null,
   "metadata": {},
   "outputs": [],
   "source": []
  },
  {
   "cell_type": "code",
   "execution_count": 103,
   "metadata": {},
   "outputs": [
    {
     "data": {
      "text/plain": [
       "0       208500.0\n",
       "1       181500.0\n",
       "2       223500.0\n",
       "3       140000.0\n",
       "4       250000.0\n",
       "          ...   \n",
       "2914         NaN\n",
       "2915         NaN\n",
       "2916         NaN\n",
       "2917         NaN\n",
       "2918         NaN\n",
       "Name: SalePrice, Length: 2919, dtype: float64"
      ]
     },
     "execution_count": 103,
     "metadata": {},
     "output_type": "execute_result"
    }
   ],
   "source": [
    "all_df[\"SalePrice\"]"
   ]
  },
  {
   "cell_type": "code",
   "execution_count": 104,
   "metadata": {},
   "outputs": [],
   "source": [
    "train_df_le = all_df[~all_df[\"SalePrice\"].isnull()]\n",
    "test_df_le = all_df[all_df[\"SalePrice\"].isnull()]"
   ]
  },
  {
   "cell_type": "code",
   "execution_count": 105,
   "metadata": {},
   "outputs": [],
   "source": [
    "import lightgbm as lgb"
   ]
  },
  {
   "cell_type": "code",
   "execution_count": 106,
   "metadata": {},
   "outputs": [],
   "source": [
    "from sklearn.model_selection import KFold\n",
    "\n",
    "folds = 3\n",
    "kf = KFold(n_splits=folds)"
   ]
  },
  {
   "cell_type": "code",
   "execution_count": 107,
   "metadata": {},
   "outputs": [],
   "source": [
    "lgbm_params = {\"objective\": \"regression\", \"random_seed\": 1234}"
   ]
  },
  {
   "cell_type": "code",
   "execution_count": 108,
   "metadata": {},
   "outputs": [],
   "source": [
    "train_X = train_df_le.drop([\"SalePrice\", \"Id\"], axis=1)\n",
    "train_Y = train_df_le[\"SalePrice\"]"
   ]
  },
  {
   "cell_type": "code",
   "execution_count": 109,
   "metadata": {},
   "outputs": [
    {
     "data": {
      "text/plain": [
       "LotFrontage    259\n",
       "MasVnrArea       8\n",
       "GarageYrBlt     81\n",
       "dtype: int64"
      ]
     },
     "execution_count": 109,
     "metadata": {},
     "output_type": "execute_result"
    }
   ],
   "source": [
    "train_X.isna().sum()[train_X.isna().sum() != 0]"
   ]
  },
  {
   "cell_type": "code",
   "execution_count": 110,
   "metadata": {},
   "outputs": [
    {
     "data": {
      "text/plain": [
       "0"
      ]
     },
     "execution_count": 110,
     "metadata": {},
     "output_type": "execute_result"
    }
   ],
   "source": [
    "train_Y.isna().sum()"
   ]
  },
  {
   "cell_type": "code",
   "execution_count": 111,
   "metadata": {},
   "outputs": [],
   "source": [
    "from sklearn.metrics import mean_squared_error"
   ]
  },
  {
   "cell_type": "code",
   "execution_count": 112,
   "metadata": {},
   "outputs": [
    {
     "name": "stdout",
     "output_type": "stream",
     "text": [
      "Training until validation scores don't improve for 20 rounds\n",
      "[10]\tvalid_0's l2: 1.59541e+09\n",
      "[20]\tvalid_0's l2: 7.467e+08\n",
      "[30]\tvalid_0's l2: 5.96558e+08\n",
      "[40]\tvalid_0's l2: 5.49479e+08\n",
      "[50]\tvalid_0's l2: 5.29299e+08\n",
      "[60]\tvalid_0's l2: 5.28785e+08\n",
      "[70]\tvalid_0's l2: 5.32577e+08\n",
      "Early stopping, best iteration is:\n",
      "[57]\tvalid_0's l2: 5.26368e+08\n",
      "0.12637668452645173\n",
      "Training until validation scores don't improve for 20 rounds\n",
      "[10]\tvalid_0's l2: 2.08125e+09\n",
      "[20]\tvalid_0's l2: 1.23117e+09\n",
      "[30]\tvalid_0's l2: 1.04155e+09\n",
      "[40]\tvalid_0's l2: 9.92123e+08\n",
      "[50]\tvalid_0's l2: 9.69222e+08\n",
      "[60]\tvalid_0's l2: 9.54807e+08\n",
      "[70]\tvalid_0's l2: 9.50536e+08\n",
      "[80]\tvalid_0's l2: 9.45353e+08\n",
      "[90]\tvalid_0's l2: 9.40359e+08\n",
      "[100]\tvalid_0's l2: 9.36486e+08\n",
      "Did not meet early stopping. Best iteration is:\n",
      "[99]\tvalid_0's l2: 9.36066e+08\n"
     ]
    },
    {
     "name": "stdout",
     "output_type": "stream",
     "text": [
      "0.15229205843857013\n",
      "Training until validation scores don't improve for 20 rounds\n",
      "[10]\tvalid_0's l2: 1.78839e+09\n",
      "[20]\tvalid_0's l2: 1.03494e+09\n",
      "[30]\tvalid_0's l2: 8.77181e+08\n",
      "[40]\tvalid_0's l2: 8.59747e+08\n",
      "[50]\tvalid_0's l2: 8.45919e+08\n",
      "[60]\tvalid_0's l2: 8.35019e+08\n",
      "[70]\tvalid_0's l2: 8.27851e+08\n",
      "[80]\tvalid_0's l2: 8.37089e+08\n",
      "Early stopping, best iteration is:\n",
      "[69]\tvalid_0's l2: 8.26998e+08\n",
      "0.13226664456356535\n"
     ]
    }
   ],
   "source": [
    "models = []\n",
    "rmses = []\n",
    "oof = np.zeros(len(train_X))\n",
    "\n",
    "for train_index, val_index in kf.split(train_X):\n",
    "    X_train = train_X.iloc[train_index]\n",
    "    X_valid = train_X.iloc[val_index]\n",
    "    y_train = train_Y.iloc[train_index]\n",
    "    y_valid = train_Y.iloc[val_index]\n",
    "\n",
    "    lgb_train = lgb.Dataset(X_train, y_train)\n",
    "    lgb_eval = lgb.Dataset(X_valid, y_valid, reference=lgb_train)\n",
    "\n",
    "    model_lgb = lgb.train(\n",
    "        lgbm_params,\n",
    "        lgb_train,\n",
    "        valid_sets=lgb_eval,\n",
    "        num_boost_round=100,\n",
    "        early_stopping_rounds=20,\n",
    "        verbose_eval=10,\n",
    "    )\n",
    "    y_pred = model_lgb.predict(X_valid, num_iteration=model_lgb.best_iteration)\n",
    "    tmp_rmse = np.sqrt(mean_squared_error(np.log(y_valid), np.log(y_pred)))\n",
    "    print(tmp_rmse)\n",
    "\n",
    "    models.append(model_lgb)\n",
    "    rmses.append(tmp_rmse)\n",
    "    oof[val_index] = y_pred"
   ]
  },
  {
   "cell_type": "code",
   "execution_count": 113,
   "metadata": {},
   "outputs": [
    {
     "data": {
      "text/plain": [
       "0.13697846250952908"
      ]
     },
     "execution_count": 113,
     "metadata": {},
     "output_type": "execute_result"
    }
   ],
   "source": [
    "sum(rmses) / len(rmses)"
   ]
  },
  {
   "cell_type": "code",
   "execution_count": 114,
   "metadata": {},
   "outputs": [],
   "source": [
    "actual_pred_df = pd.DataFrame({\"actual\": train_Y, \"pred\": oof})"
   ]
  },
  {
   "cell_type": "code",
   "execution_count": 115,
   "metadata": {},
   "outputs": [
    {
     "data": {
      "text/plain": [
       "<matplotlib.axes._subplots.AxesSubplot at 0x24ace8b5548>"
      ]
     },
     "execution_count": 115,
     "metadata": {},
     "output_type": "execute_result"
    },
    {
     "data": {
      "image/png": "[encoded data removed]",
      "text/plain": [
       "<Figure size 1200x500 with 1 Axes>"
      ]
     },
     "metadata": {},
     "output_type": "display_data"
    }
   ],
   "source": [
    "actual_pred_df.plot(figsize=(12, 5))"
   ]
  },
  {
   "cell_type": "code",
   "execution_count": 116,
   "metadata": {},
   "outputs": [
    {
     "data": {
      "image/png": "[encoded data removed]",
      "text/plain": [
       "<Figure size 640x480 with 1 Axes>"
      ]
     },
     "metadata": {},
     "output_type": "display_data"
    },
    {
     "data": {
      "image/png": "[encoded data removed]",
      "text/plain": [
       "<Figure size 640x480 with 1 Axes>"
      ]
     },
     "metadata": {},
     "output_type": "display_data"
    },
    {
     "data": {
      "image/png": "[encoded data removed]",
      "text/plain": [
       "<Figure size 640x480 with 1 Axes>"
      ]
     },
     "metadata": {},
     "output_type": "display_data"
    }
   ],
   "source": [
    "for model in models:\n",
    "    lgb.plot_importance(model, importance_type=\"gain\", max_num_features=15)"
   ]
  },
  {
   "cell_type": "code",
   "execution_count": 117,
   "metadata": {},
   "outputs": [],
   "source": [
    "result = models[0].predict(test_df_le.drop([\"SalePrice\", \"Id\"], axis=1))\n",
    "submission[\"SalePrice\"] = result\n",
    "submission.to_csv(\"./submit/submission00.csv\", index=False)"
   ]
  },
  {
   "cell_type": "code",
   "execution_count": 118,
   "metadata": {},
   "outputs": [
    {
     "data": {
      "text/plain": [
       "count      1460.000000\n",
       "mean     180921.195890\n",
       "std       79442.502883\n",
       "min       34900.000000\n",
       "25%      129975.000000\n",
       "50%      163000.000000\n",
       "75%      214000.000000\n",
       "max      755000.000000\n",
       "Name: SalePrice, dtype: float64"
      ]
     },
     "execution_count": 118,
     "metadata": {},
     "output_type": "execute_result"
    }
   ],
   "source": [
    "train_df[\"SalePrice\"].describe()"
   ]
  },
  {
   "cell_type": "code",
   "execution_count": 119,
   "metadata": {},
   "outputs": [
    {
     "data": {
      "text/plain": [
       "<matplotlib.axes._subplots.AxesSubplot at 0x24ad3eb8448>"
      ]
     },
     "execution_count": 119,
     "metadata": {},
     "output_type": "execute_result"
    },
    {
     "data": {
      "image/png": "[encoded data removed]",
      "text/plain": [
       "<Figure size 640x480 with 1 Axes>"
      ]
     },
     "metadata": {},
     "output_type": "display_data"
    }
   ],
   "source": [
    "train_df[\"SalePrice\"].plot.hist(bins=20)"
   ]
  },
  {
   "cell_type": "code",
   "execution_count": 120,
   "metadata": {},
   "outputs": [
    {
     "data": {
      "text/plain": [
       "0       12.247694\n",
       "1       12.109011\n",
       "2       12.317167\n",
       "3       11.849398\n",
       "4       12.429216\n",
       "          ...    \n",
       "1455    12.072541\n",
       "1456    12.254863\n",
       "1457    12.493130\n",
       "1458    11.864462\n",
       "1459    11.901583\n",
       "Name: SalePrice, Length: 1460, dtype: float64"
      ]
     },
     "execution_count": 120,
     "metadata": {},
     "output_type": "execute_result"
    }
   ],
   "source": [
    "np.log(train_df[\"SalePrice\"])"
   ]
  },
  {
   "cell_type": "code",
   "execution_count": 121,
   "metadata": {},
   "outputs": [
    {
     "data": {
      "text/plain": [
       "<matplotlib.axes._subplots.AxesSubplot at 0x24ad4209648>"
      ]
     },
     "execution_count": 121,
     "metadata": {},
     "output_type": "execute_result"
    },
    {
     "data": {
      "image/png": "[encoded data removed]",
      "text/plain": [
       "<Figure size 640x480 with 1 Axes>"
      ]
     },
     "metadata": {},
     "output_type": "display_data"
    }
   ],
   "source": [
    "np.log(train_df[\"SalePrice\"]).plot.hist(bins=20)"
   ]
  },
  {
   "cell_type": "code",
   "execution_count": 122,
   "metadata": {},
   "outputs": [],
   "source": [
    "pd.options.mode.chained_assignment = None\n",
    "train_df_le[\"SalePrice_log\"] = np.log(train_df_le[\"SalePrice\"])"
   ]
  },
  {
   "cell_type": "code",
   "execution_count": 123,
   "metadata": {},
   "outputs": [],
   "source": [
    "train_X = train_df_le.drop([\"SalePrice\", \"SalePrice_log\", \"Id\"], axis=1)\n",
    "train_Y = train_df_le[\"SalePrice_log\"]"
   ]
  },
  {
   "cell_type": "code",
   "execution_count": 124,
   "metadata": {},
   "outputs": [
    {
     "name": "stdout",
     "output_type": "stream",
     "text": [
      "<class 'pandas.core.frame.DataFrame'>\n",
      "Int64Index: 1460 entries, 0 to 1459\n",
      "Data columns (total 79 columns):\n",
      " #   Column         Non-Null Count  Dtype   \n",
      "---  ------         --------------  -----   \n",
      " 0   MSSubClass     1460 non-null   int64   \n",
      " 1   MSZoning       1460 non-null   category\n",
      " 2   LotFrontage    1201 non-null   float64 \n",
      " 3   LotArea        1460 non-null   int64   \n",
      " 4   Street         1460 non-null   category\n",
      " 5   Alley          1460 non-null   category\n",
      " 6   LotShape       1460 non-null   category\n",
      " 7   LandContour    1460 non-null   category\n",
      " 8   Utilities      1460 non-null   category\n",
      " 9   LotConfig      1460 non-null   category\n",
      " 10  LandSlope      1460 non-null   category\n",
      " 11  Neighborhood   1460 non-null   category\n",
      " 12  Condition1     1460 non-null   category\n",
      " 13  Condition2     1460 non-null   category\n",
      " 14  BldgType       1460 non-null   category\n",
      " 15  HouseStyle     1460 non-null   category\n",
      " 16  OverallQual    1460 non-null   int64   \n",
      " 17  OverallCond    1460 non-null   int64   \n",
      " 18  YearBuilt      1460 non-null   int64   \n",
      " 19  YearRemodAdd   1460 non-null   int64   \n",
      " 20  RoofStyle      1460 non-null   category\n",
      " 21  RoofMatl       1460 non-null   category\n",
      " 22  Exterior1st    1460 non-null   category\n",
      " 23  Exterior2nd    1460 non-null   category\n",
      " 24  MasVnrType     1460 non-null   category\n",
      " 25  MasVnrArea     1452 non-null   float64 \n",
      " 26  ExterQual      1460 non-null   category\n",
      " 27  ExterCond      1460 non-null   category\n",
      " 28  Foundation     1460 non-null   category\n",
      " 29  BsmtQual       1460 non-null   category\n",
      " 30  BsmtCond       1460 non-null   category\n",
      " 31  BsmtExposure   1460 non-null   category\n",
      " 32  BsmtFinType1   1460 non-null   category\n",
      " 33  BsmtFinSF1     1460 non-null   float64 \n",
      " 34  BsmtFinType2   1460 non-null   category\n",
      " 35  BsmtFinSF2     1460 non-null   float64 \n",
      " 36  BsmtUnfSF      1460 non-null   float64 \n",
      " 37  TotalBsmtSF    1460 non-null   float64 \n",
      " 38  Heating        1460 non-null   category\n",
      " 39  HeatingQC      1460 non-null   category\n",
      " 40  CentralAir     1460 non-null   category\n",
      " 41  Electrical     1460 non-null   category\n",
      " 42  1stFlrSF       1460 non-null   int64   \n",
      " 43  2ndFlrSF       1460 non-null   int64   \n",
      " 44  LowQualFinSF   1460 non-null   int64   \n",
      " 45  GrLivArea      1460 non-null   int64   \n",
      " 46  BsmtFullBath   1460 non-null   float64 \n",
      " 47  BsmtHalfBath   1460 non-null   float64 \n",
      " 48  FullBath       1460 non-null   int64   \n",
      " 49  HalfBath       1460 non-null   int64   \n",
      " 50  BedroomAbvGr   1460 non-null   int64   \n",
      " 51  KitchenAbvGr   1460 non-null   int64   \n",
      " 52  KitchenQual    1460 non-null   category\n",
      " 53  TotRmsAbvGrd   1460 non-null   int64   \n",
      " 54  Functional     1460 non-null   category\n",
      " 55  Fireplaces     1460 non-null   int64   \n",
      " 56  FireplaceQu    1460 non-null   category\n",
      " 57  GarageType     1460 non-null   category\n",
      " 58  GarageYrBlt    1379 non-null   float64 \n",
      " 59  GarageFinish   1460 non-null   category\n",
      " 60  GarageCars     1460 non-null   float64 \n",
      " 61  GarageArea     1460 non-null   float64 \n",
      " 62  GarageQual     1460 non-null   category\n",
      " 63  GarageCond     1460 non-null   category\n",
      " 64  PavedDrive     1460 non-null   category\n",
      " 65  WoodDeckSF     1460 non-null   int64   \n",
      " 66  OpenPorchSF    1460 non-null   int64   \n",
      " 67  EnclosedPorch  1460 non-null   int64   \n",
      " 68  3SsnPorch      1460 non-null   int64   \n",
      " 69  ScreenPorch    1460 non-null   int64   \n",
      " 70  PoolArea       1460 non-null   int64   \n",
      " 71  PoolQC         1460 non-null   category\n",
      " 72  Fence          1460 non-null   category\n",
      " 73  MiscFeature    1460 non-null   category\n",
      " 74  MiscVal        1460 non-null   int64   \n",
      " 75  MoSold         1460 non-null   int64   \n",
      " 76  YrSold         1460 non-null   int64   \n",
      " 77  SaleType       1460 non-null   category\n",
      " 78  SaleCondition  1460 non-null   category\n",
      "dtypes: category(43), float64(11), int64(25)\n",
      "memory usage: 494.6 KB\n"
     ]
    }
   ],
   "source": [
    "train_X.info()"
   ]
  },
  {
   "cell_type": "code",
   "execution_count": 125,
   "metadata": {},
   "outputs": [
    {
     "data": {
      "text/plain": [
       "0       12.247694\n",
       "1       12.109011\n",
       "2       12.317167\n",
       "3       11.849398\n",
       "4       12.429216\n",
       "          ...    \n",
       "1455    12.072541\n",
       "1456    12.254863\n",
       "1457    12.493130\n",
       "1458    11.864462\n",
       "1459    11.901583\n",
       "Name: SalePrice_log, Length: 1460, dtype: float64"
      ]
     },
     "execution_count": 125,
     "metadata": {},
     "output_type": "execute_result"
    }
   ],
   "source": [
    "train_Y"
   ]
  },
  {
   "cell_type": "code",
   "execution_count": 126,
   "metadata": {},
   "outputs": [
    {
     "name": "stdout",
     "output_type": "stream",
     "text": [
      "Training until validation scores don't improve for 20 rounds\n",
      "[10]\tvalid_0's l2: 0.0435757\n",
      "[20]\tvalid_0's l2: 0.0223987\n",
      "[30]\tvalid_0's l2: 0.0176962\n",
      "[40]\tvalid_0's l2: 0.0164304\n",
      "[50]\tvalid_0's l2: 0.0161943\n",
      "[60]\tvalid_0's l2: 0.0161858\n",
      "[70]\tvalid_0's l2: 0.0161666\n",
      "[80]\tvalid_0's l2: 0.0161769\n",
      "[90]\tvalid_0's l2: 0.0162121\n",
      "Early stopping, best iteration is:\n",
      "[73]\tvalid_0's l2: 0.0161129\n",
      "0.12693572281592597\n",
      "Training until validation scores don't improve for 20 rounds\n",
      "[10]\tvalid_0's l2: 0.0480056\n",
      "[20]\tvalid_0's l2: 0.0274907\n",
      "[30]\tvalid_0's l2: 0.022779\n",
      "[40]\tvalid_0's l2: 0.0214744\n",
      "[50]\tvalid_0's l2: 0.0209095\n",
      "[60]\tvalid_0's l2: 0.0205922\n",
      "[70]\tvalid_0's l2: 0.0204381\n",
      "[80]\tvalid_0's l2: 0.0203135\n",
      "[90]\tvalid_0's l2: 0.020318\n",
      "[100]\tvalid_0's l2: 0.0202246\n",
      "Did not meet early stopping. Best iteration is:\n",
      "[100]\tvalid_0's l2: 0.0202246\n",
      "0.1422133338842566\n",
      "Training until validation scores don't improve for 20 rounds\n",
      "[10]\tvalid_0's l2: 0.0388654\n",
      "[20]\tvalid_0's l2: 0.0209198\n",
      "[30]\tvalid_0's l2: 0.0176337\n",
      "[40]\tvalid_0's l2: 0.0169414\n",
      "[50]\tvalid_0's l2: 0.0167934\n",
      "[60]\tvalid_0's l2: 0.0167504\n",
      "[70]\tvalid_0's l2: 0.0168451\n",
      "Early stopping, best iteration is:\n",
      "[56]\tvalid_0's l2: 0.0167371\n",
      "0.12937198746846823\n"
     ]
    }
   ],
   "source": [
    "import warnings\n",
    "\n",
    "warnings.filterwarnings(\"ignore\")\n",
    "\n",
    "models = []\n",
    "rmses = []\n",
    "oof = np.zeros(len(train_X))\n",
    "\n",
    "for train_index, val_index in kf.split(train_X):\n",
    "    X_train = train_X.iloc[train_index]\n",
    "    X_valid = train_X.iloc[val_index]\n",
    "    y_train = train_Y.iloc[train_index]\n",
    "    y_valid = train_Y.iloc[val_index]\n",
    "\n",
    "    lgb_train = lgb.Dataset(X_train, y_train)\n",
    "    lgb_eval = lgb.Dataset(X_valid, y_valid, reference=lgb_train)\n",
    "\n",
    "    model_lgb = lgb.train(\n",
    "        lgbm_params,\n",
    "        lgb_train,\n",
    "        valid_sets=lgb_eval,\n",
    "        num_boost_round=100,\n",
    "        early_stopping_rounds=20,\n",
    "        verbose_eval=10,\n",
    "    )\n",
    "    y_pred = model_lgb.predict(X_valid, num_iteration=model_lgb.best_iteration)\n",
    "    tmp_rmse = np.sqrt(mean_squared_error(y_valid, y_pred))\n",
    "    print(tmp_rmse)\n",
    "\n",
    "    models.append(model_lgb)\n",
    "    rmses.append(tmp_rmse)\n",
    "    oof[val_index] = y_pred"
   ]
  },
  {
   "cell_type": "code",
   "execution_count": 127,
   "metadata": {},
   "outputs": [],
   "source": [
    "result = models[0].predict(test_df_le.drop([\"SalePrice\", \"Id\"], axis=1))\n",
    "submission[\"SalePrice\"] = np.exp(result)\n",
    "submission.to_csv(\"./submit/submission01.csv\", index=False)"
   ]
  },
  {
   "cell_type": "code",
   "execution_count": 128,
   "metadata": {},
   "outputs": [
    {
     "name": "stdout",
     "output_type": "stream",
     "text": [
      "Index(['MSZoning', 'Street', 'Alley', 'LotShape', 'LandContour', 'Utilities',\n",
      "       'LotConfig', 'LandSlope', 'Neighborhood', 'Condition1', 'Condition2',\n",
      "       'BldgType', 'HouseStyle', 'RoofStyle', 'RoofMatl', 'Exterior1st',\n",
      "       'Exterior2nd', 'MasVnrType', 'ExterQual', 'ExterCond', 'Foundation',\n",
      "       'BsmtQual', 'BsmtCond', 'BsmtExposure', 'BsmtFinType1', 'BsmtFinType2',\n",
      "       'Heating', 'HeatingQC', 'CentralAir', 'Electrical', 'KitchenQual',\n",
      "       'Functional', 'FireplaceQu', 'GarageType', 'GarageFinish', 'GarageQual',\n",
      "       'GarageCond', 'PavedDrive', 'PoolQC', 'Fence', 'MiscFeature',\n",
      "       'SaleType', 'SaleCondition'],\n",
      "      dtype='object')\n"
     ]
    }
   ],
   "source": [
    "train_df = pd.read_csv(\"./data/train.csv\")\n",
    "test_df = pd.read_csv(\"./data/test.csv\")\n",
    "submission = pd.read_csv(\"./data/sample_submission.csv\")\n",
    "\n",
    "all_df = pd.concat([train_df, test_df], axis=0, sort=False).reset_index(drop=True)\n",
    "\n",
    "categories = all_df.columns[all_df.dtypes == \"object\"]\n",
    "print(categories)"
   ]
  },
  {
   "cell_type": "code",
   "execution_count": 129,
   "metadata": {},
   "outputs": [
    {
     "data": {
      "text/plain": [
       "PoolQC          2909\n",
       "MiscFeature     2814\n",
       "Alley           2721\n",
       "Fence           2348\n",
       "SalePrice       1459\n",
       "FireplaceQu     1420\n",
       "LotFrontage      486\n",
       "GarageQual       159\n",
       "GarageYrBlt      159\n",
       "GarageFinish     159\n",
       "GarageCond       159\n",
       "GarageType       157\n",
       "BsmtExposure      82\n",
       "BsmtCond          82\n",
       "BsmtQual          81\n",
       "BsmtFinType2      80\n",
       "BsmtFinType1      79\n",
       "MasVnrType        24\n",
       "MasVnrArea        23\n",
       "MSZoning           4\n",
       "Utilities          2\n",
       "Functional         2\n",
       "BsmtFullBath       2\n",
       "BsmtHalfBath       2\n",
       "GarageArea         1\n",
       "BsmtFinSF2         1\n",
       "Exterior1st        1\n",
       "TotalBsmtSF        1\n",
       "GarageCars         1\n",
       "BsmtUnfSF          1\n",
       "Electrical         1\n",
       "BsmtFinSF1         1\n",
       "KitchenQual        1\n",
       "SaleType           1\n",
       "Exterior2nd        1\n",
       "Street             0\n",
       "RoofMatl           0\n",
       "MSSubClass         0\n",
       "LotArea            0\n",
       "OverallCond        0\n",
       "dtype: int64"
      ]
     },
     "execution_count": 129,
     "metadata": {},
     "output_type": "execute_result"
    }
   ],
   "source": [
    "all_df.isnull().sum().sort_values(ascending=False).head(40)"
   ]
  },
  {
   "cell_type": "code",
   "execution_count": 130,
   "metadata": {},
   "outputs": [
    {
     "data": {
      "text/plain": [
       "Ex    4\n",
       "Gd    4\n",
       "Fa    2\n",
       "Name: PoolQC, dtype: int64"
      ]
     },
     "execution_count": 130,
     "metadata": {},
     "output_type": "execute_result"
    }
   ],
   "source": [
    "all_df.PoolQC.value_counts()"
   ]
  },
  {
   "cell_type": "code",
   "execution_count": 131,
   "metadata": {},
   "outputs": [],
   "source": [
    "all_df.loc[~all_df[\"PoolQC\"].isnull(), \"PoolQC\"] = 1\n",
    "all_df.loc[all_df[\"PoolQC\"].isnull(), \"PoolQC\"] = 0"
   ]
  },
  {
   "cell_type": "code",
   "execution_count": 132,
   "metadata": {},
   "outputs": [
    {
     "data": {
      "text/plain": [
       "0    2909\n",
       "1      10\n",
       "Name: PoolQC, dtype: int64"
      ]
     },
     "execution_count": 132,
     "metadata": {},
     "output_type": "execute_result"
    }
   ],
   "source": [
    "all_df[\"PoolQC\"].value_counts()"
   ]
  },
  {
   "cell_type": "code",
   "execution_count": 133,
   "metadata": {},
   "outputs": [],
   "source": [
    "all_df.loc[~all_df[\"MiscFeature\"].isnull(), \"MiscFeature\"] = 1\n",
    "all_df.loc[all_df[\"MiscFeature\"].isnull(), \"MiscFeature\"] = 0"
   ]
  },
  {
   "cell_type": "code",
   "execution_count": 134,
   "metadata": {},
   "outputs": [],
   "source": [
    "all_df.loc[~all_df[\"Alley\"].isnull(), \"Alley\"] = 1\n",
    "all_df.loc[all_df[\"Alley\"].isnull(), \"Alley\"] = 0"
   ]
  },
  {
   "cell_type": "code",
   "execution_count": 135,
   "metadata": {},
   "outputs": [],
   "source": [
    "all_df[\"hasHightFacility\"] = all_df[\"PoolQC\"] + all_df[\"MiscFeature\"] + all_df[\"Alley\"]"
   ]
  },
  {
   "cell_type": "code",
   "execution_count": 136,
   "metadata": {},
   "outputs": [],
   "source": [
    "all_df[\"hasHightFacility\"] = all_df[\"hasHightFacility\"].astype(int)"
   ]
  },
  {
   "cell_type": "code",
   "execution_count": 137,
   "metadata": {},
   "outputs": [
    {
     "data": {
      "text/plain": [
       "0    2615\n",
       "1     295\n",
       "2       9\n",
       "Name: hasHightFacility, dtype: int64"
      ]
     },
     "execution_count": 137,
     "metadata": {},
     "output_type": "execute_result"
    }
   ],
   "source": [
    "all_df[\"hasHightFacility\"].value_counts()"
   ]
  },
  {
   "cell_type": "code",
   "execution_count": 138,
   "metadata": {},
   "outputs": [],
   "source": [
    "all_df = all_df.drop([\"PoolQC\", \"MiscFeature\", \"Alley\"], axis=1)"
   ]
  },
  {
   "cell_type": "code",
   "execution_count": 139,
   "metadata": {},
   "outputs": [
    {
     "data": {
      "text/html": [
       "<div>\n",
       "<style scoped>\n",
       "    .dataframe tbody tr th:only-of-type {\n",
       "        vertical-align: middle;\n",
       "    }\n",
       "\n",
       "    .dataframe tbody tr th {\n",
       "        vertical-align: top;\n",
       "    }\n",
       "\n",
       "    .dataframe thead th {\n",
       "        text-align: right;\n",
       "    }\n",
       "</style>\n",
       "<table border=\"1\" class=\"dataframe\">\n",
       "  <thead>\n",
       "    <tr style=\"text-align: right;\">\n",
       "      <th></th>\n",
       "      <th>count</th>\n",
       "      <th>mean</th>\n",
       "      <th>std</th>\n",
       "      <th>min</th>\n",
       "      <th>25%</th>\n",
       "      <th>50%</th>\n",
       "      <th>75%</th>\n",
       "      <th>max</th>\n",
       "    </tr>\n",
       "  </thead>\n",
       "  <tbody>\n",
       "    <tr>\n",
       "      <th>Id</th>\n",
       "      <td>2919.0</td>\n",
       "      <td>1460.000000</td>\n",
       "      <td>842.787043</td>\n",
       "      <td>1.0</td>\n",
       "      <td>730.5</td>\n",
       "      <td>1460.0</td>\n",
       "      <td>2189.5</td>\n",
       "      <td>2919.0</td>\n",
       "    </tr>\n",
       "    <tr>\n",
       "      <th>MSSubClass</th>\n",
       "      <td>2919.0</td>\n",
       "      <td>57.137718</td>\n",
       "      <td>42.517628</td>\n",
       "      <td>20.0</td>\n",
       "      <td>20.0</td>\n",
       "      <td>50.0</td>\n",
       "      <td>70.0</td>\n",
       "      <td>190.0</td>\n",
       "    </tr>\n",
       "    <tr>\n",
       "      <th>LotFrontage</th>\n",
       "      <td>2433.0</td>\n",
       "      <td>69.305795</td>\n",
       "      <td>23.344905</td>\n",
       "      <td>21.0</td>\n",
       "      <td>59.0</td>\n",
       "      <td>68.0</td>\n",
       "      <td>80.0</td>\n",
       "      <td>313.0</td>\n",
       "    </tr>\n",
       "    <tr>\n",
       "      <th>LotArea</th>\n",
       "      <td>2919.0</td>\n",
       "      <td>10168.114080</td>\n",
       "      <td>7886.996359</td>\n",
       "      <td>1300.0</td>\n",
       "      <td>7478.0</td>\n",
       "      <td>9453.0</td>\n",
       "      <td>11570.0</td>\n",
       "      <td>215245.0</td>\n",
       "    </tr>\n",
       "    <tr>\n",
       "      <th>OverallQual</th>\n",
       "      <td>2919.0</td>\n",
       "      <td>6.089072</td>\n",
       "      <td>1.409947</td>\n",
       "      <td>1.0</td>\n",
       "      <td>5.0</td>\n",
       "      <td>6.0</td>\n",
       "      <td>7.0</td>\n",
       "      <td>10.0</td>\n",
       "    </tr>\n",
       "    <tr>\n",
       "      <th>OverallCond</th>\n",
       "      <td>2919.0</td>\n",
       "      <td>5.564577</td>\n",
       "      <td>1.113131</td>\n",
       "      <td>1.0</td>\n",
       "      <td>5.0</td>\n",
       "      <td>5.0</td>\n",
       "      <td>6.0</td>\n",
       "      <td>9.0</td>\n",
       "    </tr>\n",
       "    <tr>\n",
       "      <th>YearBuilt</th>\n",
       "      <td>2919.0</td>\n",
       "      <td>1971.312778</td>\n",
       "      <td>30.291442</td>\n",
       "      <td>1872.0</td>\n",
       "      <td>1953.5</td>\n",
       "      <td>1973.0</td>\n",
       "      <td>2001.0</td>\n",
       "      <td>2010.0</td>\n",
       "    </tr>\n",
       "    <tr>\n",
       "      <th>YearRemodAdd</th>\n",
       "      <td>2919.0</td>\n",
       "      <td>1984.264474</td>\n",
       "      <td>20.894344</td>\n",
       "      <td>1950.0</td>\n",
       "      <td>1965.0</td>\n",
       "      <td>1993.0</td>\n",
       "      <td>2004.0</td>\n",
       "      <td>2010.0</td>\n",
       "    </tr>\n",
       "    <tr>\n",
       "      <th>MasVnrArea</th>\n",
       "      <td>2896.0</td>\n",
       "      <td>102.201312</td>\n",
       "      <td>179.334253</td>\n",
       "      <td>0.0</td>\n",
       "      <td>0.0</td>\n",
       "      <td>0.0</td>\n",
       "      <td>164.0</td>\n",
       "      <td>1600.0</td>\n",
       "    </tr>\n",
       "    <tr>\n",
       "      <th>BsmtFinSF1</th>\n",
       "      <td>2918.0</td>\n",
       "      <td>441.423235</td>\n",
       "      <td>455.610826</td>\n",
       "      <td>0.0</td>\n",
       "      <td>0.0</td>\n",
       "      <td>368.5</td>\n",
       "      <td>733.0</td>\n",
       "      <td>5644.0</td>\n",
       "    </tr>\n",
       "    <tr>\n",
       "      <th>BsmtFinSF2</th>\n",
       "      <td>2918.0</td>\n",
       "      <td>49.582248</td>\n",
       "      <td>169.205611</td>\n",
       "      <td>0.0</td>\n",
       "      <td>0.0</td>\n",
       "      <td>0.0</td>\n",
       "      <td>0.0</td>\n",
       "      <td>1526.0</td>\n",
       "    </tr>\n",
       "    <tr>\n",
       "      <th>BsmtUnfSF</th>\n",
       "      <td>2918.0</td>\n",
       "      <td>560.772104</td>\n",
       "      <td>439.543659</td>\n",
       "      <td>0.0</td>\n",
       "      <td>220.0</td>\n",
       "      <td>467.0</td>\n",
       "      <td>805.5</td>\n",
       "      <td>2336.0</td>\n",
       "    </tr>\n",
       "    <tr>\n",
       "      <th>TotalBsmtSF</th>\n",
       "      <td>2918.0</td>\n",
       "      <td>1051.777587</td>\n",
       "      <td>440.766258</td>\n",
       "      <td>0.0</td>\n",
       "      <td>793.0</td>\n",
       "      <td>989.5</td>\n",
       "      <td>1302.0</td>\n",
       "      <td>6110.0</td>\n",
       "    </tr>\n",
       "    <tr>\n",
       "      <th>1stFlrSF</th>\n",
       "      <td>2919.0</td>\n",
       "      <td>1159.581706</td>\n",
       "      <td>392.362079</td>\n",
       "      <td>334.0</td>\n",
       "      <td>876.0</td>\n",
       "      <td>1082.0</td>\n",
       "      <td>1387.5</td>\n",
       "      <td>5095.0</td>\n",
       "    </tr>\n",
       "    <tr>\n",
       "      <th>2ndFlrSF</th>\n",
       "      <td>2919.0</td>\n",
       "      <td>336.483727</td>\n",
       "      <td>428.701456</td>\n",
       "      <td>0.0</td>\n",
       "      <td>0.0</td>\n",
       "      <td>0.0</td>\n",
       "      <td>704.0</td>\n",
       "      <td>2065.0</td>\n",
       "    </tr>\n",
       "    <tr>\n",
       "      <th>LowQualFinSF</th>\n",
       "      <td>2919.0</td>\n",
       "      <td>4.694416</td>\n",
       "      <td>46.396825</td>\n",
       "      <td>0.0</td>\n",
       "      <td>0.0</td>\n",
       "      <td>0.0</td>\n",
       "      <td>0.0</td>\n",
       "      <td>1064.0</td>\n",
       "    </tr>\n",
       "    <tr>\n",
       "      <th>GrLivArea</th>\n",
       "      <td>2919.0</td>\n",
       "      <td>1500.759849</td>\n",
       "      <td>506.051045</td>\n",
       "      <td>334.0</td>\n",
       "      <td>1126.0</td>\n",
       "      <td>1444.0</td>\n",
       "      <td>1743.5</td>\n",
       "      <td>5642.0</td>\n",
       "    </tr>\n",
       "    <tr>\n",
       "      <th>BsmtFullBath</th>\n",
       "      <td>2917.0</td>\n",
       "      <td>0.429894</td>\n",
       "      <td>0.524736</td>\n",
       "      <td>0.0</td>\n",
       "      <td>0.0</td>\n",
       "      <td>0.0</td>\n",
       "      <td>1.0</td>\n",
       "      <td>3.0</td>\n",
       "    </tr>\n",
       "    <tr>\n",
       "      <th>BsmtHalfBath</th>\n",
       "      <td>2917.0</td>\n",
       "      <td>0.061364</td>\n",
       "      <td>0.245687</td>\n",
       "      <td>0.0</td>\n",
       "      <td>0.0</td>\n",
       "      <td>0.0</td>\n",
       "      <td>0.0</td>\n",
       "      <td>2.0</td>\n",
       "    </tr>\n",
       "    <tr>\n",
       "      <th>FullBath</th>\n",
       "      <td>2919.0</td>\n",
       "      <td>1.568003</td>\n",
       "      <td>0.552969</td>\n",
       "      <td>0.0</td>\n",
       "      <td>1.0</td>\n",
       "      <td>2.0</td>\n",
       "      <td>2.0</td>\n",
       "      <td>4.0</td>\n",
       "    </tr>\n",
       "    <tr>\n",
       "      <th>HalfBath</th>\n",
       "      <td>2919.0</td>\n",
       "      <td>0.380267</td>\n",
       "      <td>0.502872</td>\n",
       "      <td>0.0</td>\n",
       "      <td>0.0</td>\n",
       "      <td>0.0</td>\n",
       "      <td>1.0</td>\n",
       "      <td>2.0</td>\n",
       "    </tr>\n",
       "    <tr>\n",
       "      <th>BedroomAbvGr</th>\n",
       "      <td>2919.0</td>\n",
       "      <td>2.860226</td>\n",
       "      <td>0.822693</td>\n",
       "      <td>0.0</td>\n",
       "      <td>2.0</td>\n",
       "      <td>3.0</td>\n",
       "      <td>3.0</td>\n",
       "      <td>8.0</td>\n",
       "    </tr>\n",
       "    <tr>\n",
       "      <th>KitchenAbvGr</th>\n",
       "      <td>2919.0</td>\n",
       "      <td>1.044536</td>\n",
       "      <td>0.214462</td>\n",
       "      <td>0.0</td>\n",
       "      <td>1.0</td>\n",
       "      <td>1.0</td>\n",
       "      <td>1.0</td>\n",
       "      <td>3.0</td>\n",
       "    </tr>\n",
       "    <tr>\n",
       "      <th>TotRmsAbvGrd</th>\n",
       "      <td>2919.0</td>\n",
       "      <td>6.451524</td>\n",
       "      <td>1.569379</td>\n",
       "      <td>2.0</td>\n",
       "      <td>5.0</td>\n",
       "      <td>6.0</td>\n",
       "      <td>7.0</td>\n",
       "      <td>15.0</td>\n",
       "    </tr>\n",
       "    <tr>\n",
       "      <th>Fireplaces</th>\n",
       "      <td>2919.0</td>\n",
       "      <td>0.597122</td>\n",
       "      <td>0.646129</td>\n",
       "      <td>0.0</td>\n",
       "      <td>0.0</td>\n",
       "      <td>1.0</td>\n",
       "      <td>1.0</td>\n",
       "      <td>4.0</td>\n",
       "    </tr>\n",
       "    <tr>\n",
       "      <th>GarageYrBlt</th>\n",
       "      <td>2760.0</td>\n",
       "      <td>1978.113406</td>\n",
       "      <td>25.574285</td>\n",
       "      <td>1895.0</td>\n",
       "      <td>1960.0</td>\n",
       "      <td>1979.0</td>\n",
       "      <td>2002.0</td>\n",
       "      <td>2207.0</td>\n",
       "    </tr>\n",
       "    <tr>\n",
       "      <th>GarageCars</th>\n",
       "      <td>2918.0</td>\n",
       "      <td>1.766621</td>\n",
       "      <td>0.761624</td>\n",
       "      <td>0.0</td>\n",
       "      <td>1.0</td>\n",
       "      <td>2.0</td>\n",
       "      <td>2.0</td>\n",
       "      <td>5.0</td>\n",
       "    </tr>\n",
       "    <tr>\n",
       "      <th>GarageArea</th>\n",
       "      <td>2918.0</td>\n",
       "      <td>472.874572</td>\n",
       "      <td>215.394815</td>\n",
       "      <td>0.0</td>\n",
       "      <td>320.0</td>\n",
       "      <td>480.0</td>\n",
       "      <td>576.0</td>\n",
       "      <td>1488.0</td>\n",
       "    </tr>\n",
       "    <tr>\n",
       "      <th>WoodDeckSF</th>\n",
       "      <td>2919.0</td>\n",
       "      <td>93.709832</td>\n",
       "      <td>126.526589</td>\n",
       "      <td>0.0</td>\n",
       "      <td>0.0</td>\n",
       "      <td>0.0</td>\n",
       "      <td>168.0</td>\n",
       "      <td>1424.0</td>\n",
       "    </tr>\n",
       "    <tr>\n",
       "      <th>OpenPorchSF</th>\n",
       "      <td>2919.0</td>\n",
       "      <td>47.486811</td>\n",
       "      <td>67.575493</td>\n",
       "      <td>0.0</td>\n",
       "      <td>0.0</td>\n",
       "      <td>26.0</td>\n",
       "      <td>70.0</td>\n",
       "      <td>742.0</td>\n",
       "    </tr>\n",
       "    <tr>\n",
       "      <th>EnclosedPorch</th>\n",
       "      <td>2919.0</td>\n",
       "      <td>23.098321</td>\n",
       "      <td>64.244246</td>\n",
       "      <td>0.0</td>\n",
       "      <td>0.0</td>\n",
       "      <td>0.0</td>\n",
       "      <td>0.0</td>\n",
       "      <td>1012.0</td>\n",
       "    </tr>\n",
       "    <tr>\n",
       "      <th>3SsnPorch</th>\n",
       "      <td>2919.0</td>\n",
       "      <td>2.602261</td>\n",
       "      <td>25.188169</td>\n",
       "      <td>0.0</td>\n",
       "      <td>0.0</td>\n",
       "      <td>0.0</td>\n",
       "      <td>0.0</td>\n",
       "      <td>508.0</td>\n",
       "    </tr>\n",
       "    <tr>\n",
       "      <th>ScreenPorch</th>\n",
       "      <td>2919.0</td>\n",
       "      <td>16.062350</td>\n",
       "      <td>56.184365</td>\n",
       "      <td>0.0</td>\n",
       "      <td>0.0</td>\n",
       "      <td>0.0</td>\n",
       "      <td>0.0</td>\n",
       "      <td>576.0</td>\n",
       "    </tr>\n",
       "    <tr>\n",
       "      <th>PoolArea</th>\n",
       "      <td>2919.0</td>\n",
       "      <td>2.251799</td>\n",
       "      <td>35.663946</td>\n",
       "      <td>0.0</td>\n",
       "      <td>0.0</td>\n",
       "      <td>0.0</td>\n",
       "      <td>0.0</td>\n",
       "      <td>800.0</td>\n",
       "    </tr>\n",
       "    <tr>\n",
       "      <th>MiscVal</th>\n",
       "      <td>2919.0</td>\n",
       "      <td>50.825968</td>\n",
       "      <td>567.402211</td>\n",
       "      <td>0.0</td>\n",
       "      <td>0.0</td>\n",
       "      <td>0.0</td>\n",
       "      <td>0.0</td>\n",
       "      <td>17000.0</td>\n",
       "    </tr>\n",
       "    <tr>\n",
       "      <th>MoSold</th>\n",
       "      <td>2919.0</td>\n",
       "      <td>6.213087</td>\n",
       "      <td>2.714762</td>\n",
       "      <td>1.0</td>\n",
       "      <td>4.0</td>\n",
       "      <td>6.0</td>\n",
       "      <td>8.0</td>\n",
       "      <td>12.0</td>\n",
       "    </tr>\n",
       "    <tr>\n",
       "      <th>YrSold</th>\n",
       "      <td>2919.0</td>\n",
       "      <td>2007.792737</td>\n",
       "      <td>1.314964</td>\n",
       "      <td>2006.0</td>\n",
       "      <td>2007.0</td>\n",
       "      <td>2008.0</td>\n",
       "      <td>2009.0</td>\n",
       "      <td>2010.0</td>\n",
       "    </tr>\n",
       "    <tr>\n",
       "      <th>SalePrice</th>\n",
       "      <td>1460.0</td>\n",
       "      <td>180921.195890</td>\n",
       "      <td>79442.502883</td>\n",
       "      <td>34900.0</td>\n",
       "      <td>129975.0</td>\n",
       "      <td>163000.0</td>\n",
       "      <td>214000.0</td>\n",
       "      <td>755000.0</td>\n",
       "    </tr>\n",
       "    <tr>\n",
       "      <th>hasHightFacility</th>\n",
       "      <td>2919.0</td>\n",
       "      <td>0.107229</td>\n",
       "      <td>0.319268</td>\n",
       "      <td>0.0</td>\n",
       "      <td>0.0</td>\n",
       "      <td>0.0</td>\n",
       "      <td>0.0</td>\n",
       "      <td>2.0</td>\n",
       "    </tr>\n",
       "  </tbody>\n",
       "</table>\n",
       "</div>"
      ],
      "text/plain": [
       "                   count           mean           std      min       25%  \\\n",
       "Id                2919.0    1460.000000    842.787043      1.0     730.5   \n",
       "MSSubClass        2919.0      57.137718     42.517628     20.0      20.0   \n",
       "LotFrontage       2433.0      69.305795     23.344905     21.0      59.0   \n",
       "LotArea           2919.0   10168.114080   7886.996359   1300.0    7478.0   \n",
       "OverallQual       2919.0       6.089072      1.409947      1.0       5.0   \n",
       "OverallCond       2919.0       5.564577      1.113131      1.0       5.0   \n",
       "YearBuilt         2919.0    1971.312778     30.291442   1872.0    1953.5   \n",
       "YearRemodAdd      2919.0    1984.264474     20.894344   1950.0    1965.0   \n",
       "MasVnrArea        2896.0     102.201312    179.334253      0.0       0.0   \n",
       "BsmtFinSF1        2918.0     441.423235    455.610826      0.0       0.0   \n",
       "BsmtFinSF2        2918.0      49.582248    169.205611      0.0       0.0   \n",
       "BsmtUnfSF         2918.0     560.772104    439.543659      0.0     220.0   \n",
       "TotalBsmtSF       2918.0    1051.777587    440.766258      0.0     793.0   \n",
       "1stFlrSF          2919.0    1159.581706    392.362079    334.0     876.0   \n",
       "2ndFlrSF          2919.0     336.483727    428.701456      0.0       0.0   \n",
       "LowQualFinSF      2919.0       4.694416     46.396825      0.0       0.0   \n",
       "GrLivArea         2919.0    1500.759849    506.051045    334.0    1126.0   \n",
       "BsmtFullBath      2917.0       0.429894      0.524736      0.0       0.0   \n",
       "BsmtHalfBath      2917.0       0.061364      0.245687      0.0       0.0   \n",
       "FullBath          2919.0       1.568003      0.552969      0.0       1.0   \n",
       "HalfBath          2919.0       0.380267      0.502872      0.0       0.0   \n",
       "BedroomAbvGr      2919.0       2.860226      0.822693      0.0       2.0   \n",
       "KitchenAbvGr      2919.0       1.044536      0.214462      0.0       1.0   \n",
       "TotRmsAbvGrd      2919.0       6.451524      1.569379      2.0       5.0   \n",
       "Fireplaces        2919.0       0.597122      0.646129      0.0       0.0   \n",
       "GarageYrBlt       2760.0    1978.113406     25.574285   1895.0    1960.0   \n",
       "GarageCars        2918.0       1.766621      0.761624      0.0       1.0   \n",
       "GarageArea        2918.0     472.874572    215.394815      0.0     320.0   \n",
       "WoodDeckSF        2919.0      93.709832    126.526589      0.0       0.0   \n",
       "OpenPorchSF       2919.0      47.486811     67.575493      0.0       0.0   \n",
       "EnclosedPorch     2919.0      23.098321     64.244246      0.0       0.0   \n",
       "3SsnPorch         2919.0       2.602261     25.188169      0.0       0.0   \n",
       "ScreenPorch       2919.0      16.062350     56.184365      0.0       0.0   \n",
       "PoolArea          2919.0       2.251799     35.663946      0.0       0.0   \n",
       "MiscVal           2919.0      50.825968    567.402211      0.0       0.0   \n",
       "MoSold            2919.0       6.213087      2.714762      1.0       4.0   \n",
       "YrSold            2919.0    2007.792737      1.314964   2006.0    2007.0   \n",
       "SalePrice         1460.0  180921.195890  79442.502883  34900.0  129975.0   \n",
       "hasHightFacility  2919.0       0.107229      0.319268      0.0       0.0   \n",
       "\n",
       "                       50%       75%       max  \n",
       "Id                  1460.0    2189.5    2919.0  \n",
       "MSSubClass            50.0      70.0     190.0  \n",
       "LotFrontage           68.0      80.0     313.0  \n",
       "LotArea             9453.0   11570.0  215245.0  \n",
       "OverallQual            6.0       7.0      10.0  \n",
       "OverallCond            5.0       6.0       9.0  \n",
       "YearBuilt           1973.0    2001.0    2010.0  \n",
       "YearRemodAdd        1993.0    2004.0    2010.0  \n",
       "MasVnrArea             0.0     164.0    1600.0  \n",
       "BsmtFinSF1           368.5     733.0    5644.0  \n",
       "BsmtFinSF2             0.0       0.0    1526.0  \n",
       "BsmtUnfSF            467.0     805.5    2336.0  \n",
       "TotalBsmtSF          989.5    1302.0    6110.0  \n",
       "1stFlrSF            1082.0    1387.5    5095.0  \n",
       "2ndFlrSF               0.0     704.0    2065.0  \n",
       "LowQualFinSF           0.0       0.0    1064.0  \n",
       "GrLivArea           1444.0    1743.5    5642.0  \n",
       "BsmtFullBath           0.0       1.0       3.0  \n",
       "BsmtHalfBath           0.0       0.0       2.0  \n",
       "FullBath               2.0       2.0       4.0  \n",
       "HalfBath               0.0       1.0       2.0  \n",
       "BedroomAbvGr           3.0       3.0       8.0  \n",
       "KitchenAbvGr           1.0       1.0       3.0  \n",
       "TotRmsAbvGrd           6.0       7.0      15.0  \n",
       "Fireplaces             1.0       1.0       4.0  \n",
       "GarageYrBlt         1979.0    2002.0    2207.0  \n",
       "GarageCars             2.0       2.0       5.0  \n",
       "GarageArea           480.0     576.0    1488.0  \n",
       "WoodDeckSF             0.0     168.0    1424.0  \n",
       "OpenPorchSF           26.0      70.0     742.0  \n",
       "EnclosedPorch          0.0       0.0    1012.0  \n",
       "3SsnPorch              0.0       0.0     508.0  \n",
       "ScreenPorch            0.0       0.0     576.0  \n",
       "PoolArea               0.0       0.0     800.0  \n",
       "MiscVal                0.0       0.0   17000.0  \n",
       "MoSold                 6.0       8.0      12.0  \n",
       "YrSold              2008.0    2009.0    2010.0  \n",
       "SalePrice         163000.0  214000.0  755000.0  \n",
       "hasHightFacility       0.0       0.0       2.0  "
      ]
     },
     "execution_count": 139,
     "metadata": {},
     "output_type": "execute_result"
    }
   ],
   "source": [
    "all_df.describe().T"
   ]
  },
  {
   "cell_type": "code",
   "execution_count": 140,
   "metadata": {},
   "outputs": [],
   "source": [
    "train_df_num = train_df.select_dtypes(include=[np.number])"
   ]
  },
  {
   "cell_type": "code",
   "execution_count": 141,
   "metadata": {},
   "outputs": [],
   "source": [
    "nonratio_features = [\n",
    "    \"ID\",\n",
    "    \"MSSubClass\",\n",
    "    \"OverallQual\",\n",
    "    \"OverallCond\",\n",
    "    \"YearBuilt\",\n",
    "    \"YearRemodAdd\",\n",
    "    \"MoSold\",\n",
    "    \"YrSold\",\n",
    "]"
   ]
  },
  {
   "cell_type": "code",
   "execution_count": 142,
   "metadata": {},
   "outputs": [],
   "source": [
    "num_features = sorted(list(set(train_df_num) - set(nonratio_features)))"
   ]
  },
  {
   "cell_type": "code",
   "execution_count": 143,
   "metadata": {},
   "outputs": [
    {
     "data": {
      "text/plain": [
       "['1stFlrSF',\n",
       " '2ndFlrSF',\n",
       " '3SsnPorch',\n",
       " 'BedroomAbvGr',\n",
       " 'BsmtFinSF1',\n",
       " 'BsmtFinSF2',\n",
       " 'BsmtFullBath',\n",
       " 'BsmtHalfBath',\n",
       " 'BsmtUnfSF',\n",
       " 'EnclosedPorch',\n",
       " 'Fireplaces',\n",
       " 'FullBath',\n",
       " 'GarageArea',\n",
       " 'GarageCars',\n",
       " 'GarageYrBlt',\n",
       " 'GrLivArea',\n",
       " 'HalfBath',\n",
       " 'Id',\n",
       " 'KitchenAbvGr',\n",
       " 'LotArea',\n",
       " 'LotFrontage',\n",
       " 'LowQualFinSF',\n",
       " 'MasVnrArea',\n",
       " 'MiscVal',\n",
       " 'OpenPorchSF',\n",
       " 'PoolArea',\n",
       " 'SalePrice',\n",
       " 'ScreenPorch',\n",
       " 'TotRmsAbvGrd',\n",
       " 'TotalBsmtSF',\n",
       " 'WoodDeckSF']"
      ]
     },
     "execution_count": 143,
     "metadata": {},
     "output_type": "execute_result"
    }
   ],
   "source": [
    "num_features"
   ]
  },
  {
   "cell_type": "code",
   "execution_count": 144,
   "metadata": {},
   "outputs": [],
   "source": [
    "train_df_num_rs = train_df_num[num_features]"
   ]
  },
  {
   "cell_type": "code",
   "execution_count": 145,
   "metadata": {},
   "outputs": [
    {
     "name": "stdout",
     "output_type": "stream",
     "text": [
      "3SsnPorch 1436\n",
      "BsmtFinSF2 1293\n"
     ]
    },
    {
     "name": "stdout",
     "output_type": "stream",
     "text": [
      "BsmtHalfBath 1378\n",
      "EnclosedPorch 1252\n",
      "LowQualFinSF 1434\n",
      "MiscVal 1408\n",
      "PoolArea 1453\n",
      "ScreenPorch 1344\n"
     ]
    }
   ],
   "source": [
    "for col in num_features:\n",
    "    if train_df_num_rs.describe()[col][\"75%\"] == 0:\n",
    "        print(col, len(train_df_num_rs[train_df_num_rs[col] == 0]))"
   ]
  },
  {
   "cell_type": "code",
   "execution_count": 146,
   "metadata": {},
   "outputs": [
    {
     "name": "stdout",
     "output_type": "stream",
     "text": [
      "BedroomAbvGr 8\n",
      "BsmtFullBath 4\n",
      "BsmtHalfBath 3\n",
      "Fireplaces 4\n",
      "FullBath 4\n",
      "GarageCars 5\n",
      "HalfBath 3\n",
      "KitchenAbvGr 4\n",
      "PoolArea 8\n",
      "TotRmsAbvGrd 12\n"
     ]
    }
   ],
   "source": [
    "for col in num_features:\n",
    "    if train_df_num_rs[col].nunique() < 15:\n",
    "        print(col, train_df_num_rs[col].nunique())"
   ]
  },
  {
   "cell_type": "code",
   "execution_count": 147,
   "metadata": {},
   "outputs": [
    {
     "name": "stdout",
     "output_type": "stream",
     "text": [
      "1stFlrSF 12\n",
      "2ndFlrSF 4\n",
      "3SsnPorch 23\n",
      "BedroomAbvGr 14\n",
      "BsmtFinSF1 6\n",
      "BsmtFinSF2 50\n",
      "BsmtFullBath 16\n",
      "BsmtHalfBath 82\n",
      "BsmtUnfSF 11\n",
      "EnclosedPorch 51\n",
      "Fireplaces 5\n",
      "FullBath 0\n",
      "GarageArea 7\n",
      "GarageCars 0\n",
      "GarageYrBlt 1\n",
      "GrLivArea 16\n",
      "HalfBath 12\n",
      "Id 0\n",
      "KitchenAbvGr 68\n",
      "LotArea 13\n",
      "LotFrontage 12\n",
      "LowQualFinSF 20\n",
      "MasVnrArea 32\n",
      "MiscVal 8\n",
      "OpenPorchSF 27\n",
      "PoolArea 7\n",
      "SalePrice 22\n",
      "ScreenPorch 55\n",
      "TotRmsAbvGrd 12\n",
      "TotalBsmtSF 10\n",
      "WoodDeckSF 22\n"
     ]
    }
   ],
   "source": [
    "for col in num_features:\n",
    "    sigma = train_df_num_rs[col].std()\n",
    "    mean = train_df_num_rs[col].mean()\n",
    "    tmp_df = train_df_num_rs[\n",
    "        (train_df_num_rs[col] > mean + sigma * 3)\n",
    "        | (train_df_num_rs[col] < mean - sigma * 3)\n",
    "    ]\n",
    "    print(col, len(tmp_df))"
   ]
  },
  {
   "cell_type": "code",
   "execution_count": 148,
   "metadata": {},
   "outputs": [
    {
     "data": {
      "text/plain": [
       "<matplotlib.axes._subplots.AxesSubplot at 0x24ad1f89a88>"
      ]
     },
     "execution_count": 148,
     "metadata": {},
     "output_type": "execute_result"
    },
    {
     "data": {
      "image/png": "[encoded data removed]",
      "text/plain": [
       "<Figure size 640x480 with 1 Axes>"
      ]
     },
     "metadata": {},
     "output_type": "display_data"
    }
   ],
   "source": [
    "all_df.plot.scatter(x=\"BsmtFinSF1\", y=\"SalePrice\")"
   ]
  },
  {
   "cell_type": "code",
   "execution_count": 149,
   "metadata": {},
   "outputs": [
    {
     "data": {
      "text/html": [
       "<div>\n",
       "<style scoped>\n",
       "    .dataframe tbody tr th:only-of-type {\n",
       "        vertical-align: middle;\n",
       "    }\n",
       "\n",
       "    .dataframe tbody tr th {\n",
       "        vertical-align: top;\n",
       "    }\n",
       "\n",
       "    .dataframe thead th {\n",
       "        text-align: right;\n",
       "    }\n",
       "</style>\n",
       "<table border=\"1\" class=\"dataframe\">\n",
       "  <thead>\n",
       "    <tr style=\"text-align: right;\">\n",
       "      <th></th>\n",
       "      <th>Id</th>\n",
       "      <th>MSSubClass</th>\n",
       "      <th>MSZoning</th>\n",
       "      <th>LotFrontage</th>\n",
       "      <th>LotArea</th>\n",
       "      <th>Street</th>\n",
       "      <th>LotShape</th>\n",
       "      <th>LandContour</th>\n",
       "      <th>Utilities</th>\n",
       "      <th>LotConfig</th>\n",
       "      <th>...</th>\n",
       "      <th>ScreenPorch</th>\n",
       "      <th>PoolArea</th>\n",
       "      <th>Fence</th>\n",
       "      <th>MiscVal</th>\n",
       "      <th>MoSold</th>\n",
       "      <th>YrSold</th>\n",
       "      <th>SaleType</th>\n",
       "      <th>SaleCondition</th>\n",
       "      <th>SalePrice</th>\n",
       "      <th>hasHightFacility</th>\n",
       "    </tr>\n",
       "  </thead>\n",
       "  <tbody>\n",
       "    <tr>\n",
       "      <th>1298</th>\n",
       "      <td>1299</td>\n",
       "      <td>60</td>\n",
       "      <td>RL</td>\n",
       "      <td>313.0</td>\n",
       "      <td>63887</td>\n",
       "      <td>Pave</td>\n",
       "      <td>IR3</td>\n",
       "      <td>Bnk</td>\n",
       "      <td>AllPub</td>\n",
       "      <td>Corner</td>\n",
       "      <td>...</td>\n",
       "      <td>0</td>\n",
       "      <td>480</td>\n",
       "      <td>NaN</td>\n",
       "      <td>0</td>\n",
       "      <td>1</td>\n",
       "      <td>2008</td>\n",
       "      <td>New</td>\n",
       "      <td>Partial</td>\n",
       "      <td>160000.0</td>\n",
       "      <td>1</td>\n",
       "    </tr>\n",
       "    <tr>\n",
       "      <th>2549</th>\n",
       "      <td>2550</td>\n",
       "      <td>20</td>\n",
       "      <td>RL</td>\n",
       "      <td>128.0</td>\n",
       "      <td>39290</td>\n",
       "      <td>Pave</td>\n",
       "      <td>IR1</td>\n",
       "      <td>Bnk</td>\n",
       "      <td>AllPub</td>\n",
       "      <td>Inside</td>\n",
       "      <td>...</td>\n",
       "      <td>0</td>\n",
       "      <td>0</td>\n",
       "      <td>NaN</td>\n",
       "      <td>17000</td>\n",
       "      <td>10</td>\n",
       "      <td>2007</td>\n",
       "      <td>New</td>\n",
       "      <td>Partial</td>\n",
       "      <td>NaN</td>\n",
       "      <td>0</td>\n",
       "    </tr>\n",
       "  </tbody>\n",
       "</table>\n",
       "<p>2 rows × 79 columns</p>\n",
       "</div>"
      ],
      "text/plain": [
       "        Id  MSSubClass MSZoning  LotFrontage  LotArea Street LotShape  \\\n",
       "1298  1299          60       RL        313.0    63887   Pave      IR3   \n",
       "2549  2550          20       RL        128.0    39290   Pave      IR1   \n",
       "\n",
       "     LandContour Utilities LotConfig  ... ScreenPorch PoolArea Fence MiscVal  \\\n",
       "1298         Bnk    AllPub    Corner  ...           0      480   NaN       0   \n",
       "2549         Bnk    AllPub    Inside  ...           0        0   NaN   17000   \n",
       "\n",
       "     MoSold YrSold  SaleType  SaleCondition  SalePrice  hasHightFacility  \n",
       "1298      1   2008       New        Partial   160000.0                 1  \n",
       "2549     10   2007       New        Partial        NaN                 0  \n",
       "\n",
       "[2 rows x 79 columns]"
      ]
     },
     "execution_count": 149,
     "metadata": {},
     "output_type": "execute_result"
    }
   ],
   "source": [
    "all_df[all_df[\"TotalBsmtSF\"] > 5000]"
   ]
  },
  {
   "cell_type": "code",
   "execution_count": 150,
   "metadata": {},
   "outputs": [
    {
     "data": {
      "text/plain": [
       "<matplotlib.axes._subplots.AxesSubplot at 0x24ad534d448>"
      ]
     },
     "execution_count": 150,
     "metadata": {},
     "output_type": "execute_result"
    },
    {
     "data": {
      "image/png": "[encoded data removed]",
      "text/plain": [
       "<Figure size 640x480 with 1 Axes>"
      ]
     },
     "metadata": {},
     "output_type": "display_data"
    }
   ],
   "source": [
    "all_df.plot.scatter(x=\"TotalBsmtSF\", y=\"SalePrice\")"
   ]
  },
  {
   "cell_type": "code",
   "execution_count": 151,
   "metadata": {},
   "outputs": [
    {
     "data": {
      "text/html": [
       "<div>\n",
       "<style scoped>\n",
       "    .dataframe tbody tr th:only-of-type {\n",
       "        vertical-align: middle;\n",
       "    }\n",
       "\n",
       "    .dataframe tbody tr th {\n",
       "        vertical-align: top;\n",
       "    }\n",
       "\n",
       "    .dataframe thead th {\n",
       "        text-align: right;\n",
       "    }\n",
       "</style>\n",
       "<table border=\"1\" class=\"dataframe\">\n",
       "  <thead>\n",
       "    <tr style=\"text-align: right;\">\n",
       "      <th></th>\n",
       "      <th>Id</th>\n",
       "      <th>MSSubClass</th>\n",
       "      <th>MSZoning</th>\n",
       "      <th>LotFrontage</th>\n",
       "      <th>LotArea</th>\n",
       "      <th>Street</th>\n",
       "      <th>LotShape</th>\n",
       "      <th>LandContour</th>\n",
       "      <th>Utilities</th>\n",
       "      <th>LotConfig</th>\n",
       "      <th>...</th>\n",
       "      <th>ScreenPorch</th>\n",
       "      <th>PoolArea</th>\n",
       "      <th>Fence</th>\n",
       "      <th>MiscVal</th>\n",
       "      <th>MoSold</th>\n",
       "      <th>YrSold</th>\n",
       "      <th>SaleType</th>\n",
       "      <th>SaleCondition</th>\n",
       "      <th>SalePrice</th>\n",
       "      <th>hasHightFacility</th>\n",
       "    </tr>\n",
       "  </thead>\n",
       "  <tbody>\n",
       "    <tr>\n",
       "      <th>1298</th>\n",
       "      <td>1299</td>\n",
       "      <td>60</td>\n",
       "      <td>RL</td>\n",
       "      <td>313.0</td>\n",
       "      <td>63887</td>\n",
       "      <td>Pave</td>\n",
       "      <td>IR3</td>\n",
       "      <td>Bnk</td>\n",
       "      <td>AllPub</td>\n",
       "      <td>Corner</td>\n",
       "      <td>...</td>\n",
       "      <td>0</td>\n",
       "      <td>480</td>\n",
       "      <td>NaN</td>\n",
       "      <td>0</td>\n",
       "      <td>1</td>\n",
       "      <td>2008</td>\n",
       "      <td>New</td>\n",
       "      <td>Partial</td>\n",
       "      <td>160000.0</td>\n",
       "      <td>1</td>\n",
       "    </tr>\n",
       "  </tbody>\n",
       "</table>\n",
       "<p>1 rows × 79 columns</p>\n",
       "</div>"
      ],
      "text/plain": [
       "        Id  MSSubClass MSZoning  LotFrontage  LotArea Street LotShape  \\\n",
       "1298  1299          60       RL        313.0    63887   Pave      IR3   \n",
       "\n",
       "     LandContour Utilities LotConfig  ... ScreenPorch PoolArea Fence MiscVal  \\\n",
       "1298         Bnk    AllPub    Corner  ...           0      480   NaN       0   \n",
       "\n",
       "     MoSold YrSold  SaleType  SaleCondition  SalePrice  hasHightFacility  \n",
       "1298      1   2008       New        Partial   160000.0                 1  \n",
       "\n",
       "[1 rows x 79 columns]"
      ]
     },
     "execution_count": 151,
     "metadata": {},
     "output_type": "execute_result"
    }
   ],
   "source": [
    "all_df[all_df[\"TotalBsmtSF\"] > 6000]"
   ]
  },
  {
   "cell_type": "code",
   "execution_count": 152,
   "metadata": {},
   "outputs": [
    {
     "data": {
      "text/plain": [
       "<matplotlib.axes._subplots.AxesSubplot at 0x24ad5223288>"
      ]
     },
     "execution_count": 152,
     "metadata": {},
     "output_type": "execute_result"
    },
    {
     "data": {
      "image/png": "[encoded data removed]",
      "text/plain": [
       "<Figure size 640x480 with 1 Axes>"
      ]
     },
     "metadata": {},
     "output_type": "display_data"
    }
   ],
   "source": [
    "all_df.plot.scatter(x=\"GrLivArea\", y=\"SalePrice\")"
   ]
  },
  {
   "cell_type": "code",
   "execution_count": 153,
   "metadata": {},
   "outputs": [
    {
     "data": {
      "text/html": [
       "<div>\n",
       "<style scoped>\n",
       "    .dataframe tbody tr th:only-of-type {\n",
       "        vertical-align: middle;\n",
       "    }\n",
       "\n",
       "    .dataframe tbody tr th {\n",
       "        vertical-align: top;\n",
       "    }\n",
       "\n",
       "    .dataframe thead th {\n",
       "        text-align: right;\n",
       "    }\n",
       "</style>\n",
       "<table border=\"1\" class=\"dataframe\">\n",
       "  <thead>\n",
       "    <tr style=\"text-align: right;\">\n",
       "      <th></th>\n",
       "      <th>Id</th>\n",
       "      <th>MSSubClass</th>\n",
       "      <th>MSZoning</th>\n",
       "      <th>LotFrontage</th>\n",
       "      <th>LotArea</th>\n",
       "      <th>Street</th>\n",
       "      <th>LotShape</th>\n",
       "      <th>LandContour</th>\n",
       "      <th>Utilities</th>\n",
       "      <th>LotConfig</th>\n",
       "      <th>...</th>\n",
       "      <th>ScreenPorch</th>\n",
       "      <th>PoolArea</th>\n",
       "      <th>Fence</th>\n",
       "      <th>MiscVal</th>\n",
       "      <th>MoSold</th>\n",
       "      <th>YrSold</th>\n",
       "      <th>SaleType</th>\n",
       "      <th>SaleCondition</th>\n",
       "      <th>SalePrice</th>\n",
       "      <th>hasHightFacility</th>\n",
       "    </tr>\n",
       "  </thead>\n",
       "  <tbody>\n",
       "    <tr>\n",
       "      <th>1298</th>\n",
       "      <td>1299</td>\n",
       "      <td>60</td>\n",
       "      <td>RL</td>\n",
       "      <td>313.0</td>\n",
       "      <td>63887</td>\n",
       "      <td>Pave</td>\n",
       "      <td>IR3</td>\n",
       "      <td>Bnk</td>\n",
       "      <td>AllPub</td>\n",
       "      <td>Corner</td>\n",
       "      <td>...</td>\n",
       "      <td>0</td>\n",
       "      <td>480</td>\n",
       "      <td>NaN</td>\n",
       "      <td>0</td>\n",
       "      <td>1</td>\n",
       "      <td>2008</td>\n",
       "      <td>New</td>\n",
       "      <td>Partial</td>\n",
       "      <td>160000.0</td>\n",
       "      <td>1</td>\n",
       "    </tr>\n",
       "    <tr>\n",
       "      <th>2549</th>\n",
       "      <td>2550</td>\n",
       "      <td>20</td>\n",
       "      <td>RL</td>\n",
       "      <td>128.0</td>\n",
       "      <td>39290</td>\n",
       "      <td>Pave</td>\n",
       "      <td>IR1</td>\n",
       "      <td>Bnk</td>\n",
       "      <td>AllPub</td>\n",
       "      <td>Inside</td>\n",
       "      <td>...</td>\n",
       "      <td>0</td>\n",
       "      <td>0</td>\n",
       "      <td>NaN</td>\n",
       "      <td>17000</td>\n",
       "      <td>10</td>\n",
       "      <td>2007</td>\n",
       "      <td>New</td>\n",
       "      <td>Partial</td>\n",
       "      <td>NaN</td>\n",
       "      <td>0</td>\n",
       "    </tr>\n",
       "  </tbody>\n",
       "</table>\n",
       "<p>2 rows × 79 columns</p>\n",
       "</div>"
      ],
      "text/plain": [
       "        Id  MSSubClass MSZoning  LotFrontage  LotArea Street LotShape  \\\n",
       "1298  1299          60       RL        313.0    63887   Pave      IR3   \n",
       "2549  2550          20       RL        128.0    39290   Pave      IR1   \n",
       "\n",
       "     LandContour Utilities LotConfig  ... ScreenPorch PoolArea Fence MiscVal  \\\n",
       "1298         Bnk    AllPub    Corner  ...           0      480   NaN       0   \n",
       "2549         Bnk    AllPub    Inside  ...           0        0   NaN   17000   \n",
       "\n",
       "     MoSold YrSold  SaleType  SaleCondition  SalePrice  hasHightFacility  \n",
       "1298      1   2008       New        Partial   160000.0                 1  \n",
       "2549     10   2007       New        Partial        NaN                 0  \n",
       "\n",
       "[2 rows x 79 columns]"
      ]
     },
     "execution_count": 153,
     "metadata": {},
     "output_type": "execute_result"
    }
   ],
   "source": [
    "all_df[all_df[\"GrLivArea\"] > 5000]"
   ]
  },
  {
   "cell_type": "code",
   "execution_count": 154,
   "metadata": {},
   "outputs": [
    {
     "data": {
      "text/plain": [
       "<matplotlib.axes._subplots.AxesSubplot at 0x24ad52a7908>"
      ]
     },
     "execution_count": 154,
     "metadata": {},
     "output_type": "execute_result"
    },
    {
     "data": {
      "image/png": "[encoded data removed]",
      "text/plain": [
       "<Figure size 640x480 with 1 Axes>"
      ]
     },
     "metadata": {},
     "output_type": "display_data"
    }
   ],
   "source": [
    "all_df.plot.scatter(x=\"1stFlrSF\", y=\"SalePrice\")"
   ]
  },
  {
   "cell_type": "code",
   "execution_count": 155,
   "metadata": {},
   "outputs": [
    {
     "data": {
      "text/html": [
       "<div>\n",
       "<style scoped>\n",
       "    .dataframe tbody tr th:only-of-type {\n",
       "        vertical-align: middle;\n",
       "    }\n",
       "\n",
       "    .dataframe tbody tr th {\n",
       "        vertical-align: top;\n",
       "    }\n",
       "\n",
       "    .dataframe thead th {\n",
       "        text-align: right;\n",
       "    }\n",
       "</style>\n",
       "<table border=\"1\" class=\"dataframe\">\n",
       "  <thead>\n",
       "    <tr style=\"text-align: right;\">\n",
       "      <th></th>\n",
       "      <th>Id</th>\n",
       "      <th>MSSubClass</th>\n",
       "      <th>MSZoning</th>\n",
       "      <th>LotFrontage</th>\n",
       "      <th>LotArea</th>\n",
       "      <th>Street</th>\n",
       "      <th>LotShape</th>\n",
       "      <th>LandContour</th>\n",
       "      <th>Utilities</th>\n",
       "      <th>LotConfig</th>\n",
       "      <th>...</th>\n",
       "      <th>ScreenPorch</th>\n",
       "      <th>PoolArea</th>\n",
       "      <th>Fence</th>\n",
       "      <th>MiscVal</th>\n",
       "      <th>MoSold</th>\n",
       "      <th>YrSold</th>\n",
       "      <th>SaleType</th>\n",
       "      <th>SaleCondition</th>\n",
       "      <th>SalePrice</th>\n",
       "      <th>hasHightFacility</th>\n",
       "    </tr>\n",
       "  </thead>\n",
       "  <tbody>\n",
       "    <tr>\n",
       "      <th>1298</th>\n",
       "      <td>1299</td>\n",
       "      <td>60</td>\n",
       "      <td>RL</td>\n",
       "      <td>313.0</td>\n",
       "      <td>63887</td>\n",
       "      <td>Pave</td>\n",
       "      <td>IR3</td>\n",
       "      <td>Bnk</td>\n",
       "      <td>AllPub</td>\n",
       "      <td>Corner</td>\n",
       "      <td>...</td>\n",
       "      <td>0</td>\n",
       "      <td>480</td>\n",
       "      <td>NaN</td>\n",
       "      <td>0</td>\n",
       "      <td>1</td>\n",
       "      <td>2008</td>\n",
       "      <td>New</td>\n",
       "      <td>Partial</td>\n",
       "      <td>160000.0</td>\n",
       "      <td>1</td>\n",
       "    </tr>\n",
       "    <tr>\n",
       "      <th>2549</th>\n",
       "      <td>2550</td>\n",
       "      <td>20</td>\n",
       "      <td>RL</td>\n",
       "      <td>128.0</td>\n",
       "      <td>39290</td>\n",
       "      <td>Pave</td>\n",
       "      <td>IR1</td>\n",
       "      <td>Bnk</td>\n",
       "      <td>AllPub</td>\n",
       "      <td>Inside</td>\n",
       "      <td>...</td>\n",
       "      <td>0</td>\n",
       "      <td>0</td>\n",
       "      <td>NaN</td>\n",
       "      <td>17000</td>\n",
       "      <td>10</td>\n",
       "      <td>2007</td>\n",
       "      <td>New</td>\n",
       "      <td>Partial</td>\n",
       "      <td>NaN</td>\n",
       "      <td>0</td>\n",
       "    </tr>\n",
       "  </tbody>\n",
       "</table>\n",
       "<p>2 rows × 79 columns</p>\n",
       "</div>"
      ],
      "text/plain": [
       "        Id  MSSubClass MSZoning  LotFrontage  LotArea Street LotShape  \\\n",
       "1298  1299          60       RL        313.0    63887   Pave      IR3   \n",
       "2549  2550          20       RL        128.0    39290   Pave      IR1   \n",
       "\n",
       "     LandContour Utilities LotConfig  ... ScreenPorch PoolArea Fence MiscVal  \\\n",
       "1298         Bnk    AllPub    Corner  ...           0      480   NaN       0   \n",
       "2549         Bnk    AllPub    Inside  ...           0        0   NaN   17000   \n",
       "\n",
       "     MoSold YrSold  SaleType  SaleCondition  SalePrice  hasHightFacility  \n",
       "1298      1   2008       New        Partial   160000.0                 1  \n",
       "2549     10   2007       New        Partial        NaN                 0  \n",
       "\n",
       "[2 rows x 79 columns]"
      ]
     },
     "execution_count": 155,
     "metadata": {},
     "output_type": "execute_result"
    }
   ],
   "source": [
    "all_df[all_df[\"1stFlrSF\"] > 4000]"
   ]
  },
  {
   "cell_type": "code",
   "execution_count": 156,
   "metadata": {},
   "outputs": [],
   "source": [
    "all_df = all_df[(all_df[\"BsmtFinSF1\"] < 2000) | (all_df[\"SalePrice\"].isnull())]\n",
    "all_df = all_df[(all_df[\"TotalBsmtSF\"] < 3000) | (all_df[\"SalePrice\"].isnull())]\n",
    "all_df = all_df[(all_df[\"GrLivArea\"] < 4500) | (all_df[\"SalePrice\"].isnull())]\n",
    "all_df = all_df[(all_df[\"1stFlrSF\"] < 2500) | (all_df[\"SalePrice\"].isnull())]\n",
    "all_df = all_df[(all_df[\"LotArea\"] < 100000) | (all_df[\"SalePrice\"].isnull())]"
   ]
  },
  {
   "cell_type": "code",
   "execution_count": 157,
   "metadata": {},
   "outputs": [],
   "source": [
    "categories = categories.drop([\"PoolQC\", \"MiscFeature\", \"Alley\"])"
   ]
  },
  {
   "cell_type": "code",
   "execution_count": 158,
   "metadata": {},
   "outputs": [
    {
     "name": "stdout",
     "output_type": "stream",
     "text": [
      "MSZoning\n",
      "Street\n",
      "LotShape\n",
      "LandContour\n",
      "Utilities\n",
      "LotConfig\n",
      "LandSlope\n",
      "Neighborhood\n",
      "Condition1\n",
      "Condition2\n",
      "BldgType\n",
      "HouseStyle\n",
      "RoofStyle\n",
      "RoofMatl\n",
      "Exterior1st\n",
      "Exterior2nd\n",
      "MasVnrType\n",
      "ExterQual\n",
      "ExterCond\n",
      "Foundation\n",
      "BsmtQual\n",
      "BsmtCond\n",
      "BsmtExposure\n",
      "BsmtFinType1\n",
      "BsmtFinType2\n",
      "Heating\n",
      "HeatingQC\n",
      "CentralAir\n",
      "Electrical\n",
      "KitchenQual\n",
      "Functional\n",
      "FireplaceQu\n",
      "GarageType\n",
      "GarageFinish\n",
      "GarageQual\n",
      "GarageCond\n",
      "PavedDrive\n",
      "Fence\n",
      "SaleType\n",
      "SaleCondition\n"
     ]
    }
   ],
   "source": [
    "for cat in categories:\n",
    "    le = LabelEncoder()\n",
    "    print(cat)\n",
    "    all_df[cat].fillna(\"missing\", inplace=True)\n",
    "    le = le.fit(all_df[cat])\n",
    "    all_df[cat] = le.transform(all_df[cat])\n",
    "    all_df[cat] = all_df[cat].astype(\"category\")"
   ]
  },
  {
   "cell_type": "code",
   "execution_count": 159,
   "metadata": {},
   "outputs": [],
   "source": [
    "train_df_le = all_df[~all_df[\"SalePrice\"].isnull()]\n",
    "test_df_le = all_df[all_df[\"SalePrice\"].isnull()]\n",
    "\n",
    "train_df_le[\"SalePrice_log\"] = np.log(train_df_le[\"SalePrice\"])\n",
    "train_X = train_df_le.drop([\"SalePrice\", \"SalePrice_log\", \"Id\"], axis=1)\n",
    "train_Y = train_df_le[\"SalePrice_log\"]"
   ]
  },
  {
   "cell_type": "code",
   "execution_count": 160,
   "metadata": {},
   "outputs": [
    {
     "data": {
      "text/html": [
       "<div>\n",
       "<style scoped>\n",
       "    .dataframe tbody tr th:only-of-type {\n",
       "        vertical-align: middle;\n",
       "    }\n",
       "\n",
       "    .dataframe tbody tr th {\n",
       "        vertical-align: top;\n",
       "    }\n",
       "\n",
       "    .dataframe thead th {\n",
       "        text-align: right;\n",
       "    }\n",
       "</style>\n",
       "<table border=\"1\" class=\"dataframe\">\n",
       "  <thead>\n",
       "    <tr style=\"text-align: right;\">\n",
       "      <th></th>\n",
       "      <th>MSSubClass</th>\n",
       "      <th>MSZoning</th>\n",
       "      <th>LotFrontage</th>\n",
       "      <th>LotArea</th>\n",
       "      <th>Street</th>\n",
       "      <th>LotShape</th>\n",
       "      <th>LandContour</th>\n",
       "      <th>Utilities</th>\n",
       "      <th>LotConfig</th>\n",
       "      <th>LandSlope</th>\n",
       "      <th>...</th>\n",
       "      <th>3SsnPorch</th>\n",
       "      <th>ScreenPorch</th>\n",
       "      <th>PoolArea</th>\n",
       "      <th>Fence</th>\n",
       "      <th>MiscVal</th>\n",
       "      <th>MoSold</th>\n",
       "      <th>YrSold</th>\n",
       "      <th>SaleType</th>\n",
       "      <th>SaleCondition</th>\n",
       "      <th>hasHightFacility</th>\n",
       "    </tr>\n",
       "  </thead>\n",
       "  <tbody>\n",
       "    <tr>\n",
       "      <th>0</th>\n",
       "      <td>60</td>\n",
       "      <td>3</td>\n",
       "      <td>65.0</td>\n",
       "      <td>8450</td>\n",
       "      <td>1</td>\n",
       "      <td>3</td>\n",
       "      <td>3</td>\n",
       "      <td>0</td>\n",
       "      <td>4</td>\n",
       "      <td>0</td>\n",
       "      <td>...</td>\n",
       "      <td>0</td>\n",
       "      <td>0</td>\n",
       "      <td>0</td>\n",
       "      <td>4</td>\n",
       "      <td>0</td>\n",
       "      <td>2</td>\n",
       "      <td>2008</td>\n",
       "      <td>8</td>\n",
       "      <td>4</td>\n",
       "      <td>0</td>\n",
       "    </tr>\n",
       "    <tr>\n",
       "      <th>1</th>\n",
       "      <td>20</td>\n",
       "      <td>3</td>\n",
       "      <td>80.0</td>\n",
       "      <td>9600</td>\n",
       "      <td>1</td>\n",
       "      <td>3</td>\n",
       "      <td>3</td>\n",
       "      <td>0</td>\n",
       "      <td>2</td>\n",
       "      <td>0</td>\n",
       "      <td>...</td>\n",
       "      <td>0</td>\n",
       "      <td>0</td>\n",
       "      <td>0</td>\n",
       "      <td>4</td>\n",
       "      <td>0</td>\n",
       "      <td>5</td>\n",
       "      <td>2007</td>\n",
       "      <td>8</td>\n",
       "      <td>4</td>\n",
       "      <td>0</td>\n",
       "    </tr>\n",
       "    <tr>\n",
       "      <th>2</th>\n",
       "      <td>60</td>\n",
       "      <td>3</td>\n",
       "      <td>68.0</td>\n",
       "      <td>11250</td>\n",
       "      <td>1</td>\n",
       "      <td>0</td>\n",
       "      <td>3</td>\n",
       "      <td>0</td>\n",
       "      <td>4</td>\n",
       "      <td>0</td>\n",
       "      <td>...</td>\n",
       "      <td>0</td>\n",
       "      <td>0</td>\n",
       "      <td>0</td>\n",
       "      <td>4</td>\n",
       "      <td>0</td>\n",
       "      <td>9</td>\n",
       "      <td>2008</td>\n",
       "      <td>8</td>\n",
       "      <td>4</td>\n",
       "      <td>0</td>\n",
       "    </tr>\n",
       "    <tr>\n",
       "      <th>3</th>\n",
       "      <td>70</td>\n",
       "      <td>3</td>\n",
       "      <td>60.0</td>\n",
       "      <td>9550</td>\n",
       "      <td>1</td>\n",
       "      <td>0</td>\n",
       "      <td>3</td>\n",
       "      <td>0</td>\n",
       "      <td>0</td>\n",
       "      <td>0</td>\n",
       "      <td>...</td>\n",
       "      <td>0</td>\n",
       "      <td>0</td>\n",
       "      <td>0</td>\n",
       "      <td>4</td>\n",
       "      <td>0</td>\n",
       "      <td>2</td>\n",
       "      <td>2006</td>\n",
       "      <td>8</td>\n",
       "      <td>0</td>\n",
       "      <td>0</td>\n",
       "    </tr>\n",
       "    <tr>\n",
       "      <th>4</th>\n",
       "      <td>60</td>\n",
       "      <td>3</td>\n",
       "      <td>84.0</td>\n",
       "      <td>14260</td>\n",
       "      <td>1</td>\n",
       "      <td>0</td>\n",
       "      <td>3</td>\n",
       "      <td>0</td>\n",
       "      <td>2</td>\n",
       "      <td>0</td>\n",
       "      <td>...</td>\n",
       "      <td>0</td>\n",
       "      <td>0</td>\n",
       "      <td>0</td>\n",
       "      <td>4</td>\n",
       "      <td>0</td>\n",
       "      <td>12</td>\n",
       "      <td>2008</td>\n",
       "      <td>8</td>\n",
       "      <td>4</td>\n",
       "      <td>0</td>\n",
       "    </tr>\n",
       "  </tbody>\n",
       "</table>\n",
       "<p>5 rows × 77 columns</p>\n",
       "</div>"
      ],
      "text/plain": [
       "   MSSubClass MSZoning  LotFrontage  LotArea Street LotShape LandContour  \\\n",
       "0          60        3         65.0     8450      1        3           3   \n",
       "1          20        3         80.0     9600      1        3           3   \n",
       "2          60        3         68.0    11250      1        0           3   \n",
       "3          70        3         60.0     9550      1        0           3   \n",
       "4          60        3         84.0    14260      1        0           3   \n",
       "\n",
       "  Utilities LotConfig LandSlope  ... 3SsnPorch ScreenPorch PoolArea Fence  \\\n",
       "0         0         4         0  ...         0           0        0     4   \n",
       "1         0         2         0  ...         0           0        0     4   \n",
       "2         0         4         0  ...         0           0        0     4   \n",
       "3         0         0         0  ...         0           0        0     4   \n",
       "4         0         2         0  ...         0           0        0     4   \n",
       "\n",
       "  MiscVal  MoSold  YrSold  SaleType  SaleCondition hasHightFacility  \n",
       "0       0       2    2008         8              4                0  \n",
       "1       0       5    2007         8              4                0  \n",
       "2       0       9    2008         8              4                0  \n",
       "3       0       2    2006         8              0                0  \n",
       "4       0      12    2008         8              4                0  \n",
       "\n",
       "[5 rows x 77 columns]"
      ]
     },
     "execution_count": 160,
     "metadata": {},
     "output_type": "execute_result"
    }
   ],
   "source": [
    "train_X.head()"
   ]
  },
  {
   "cell_type": "markdown",
   "metadata": {},
   "source": []
  },
  {
   "cell_type": "code",
   "execution_count": 161,
   "metadata": {},
   "outputs": [
    {
     "data": {
      "text/plain": [
       "0    12.247694\n",
       "1    12.109011\n",
       "2    12.317167\n",
       "3    11.849398\n",
       "4    12.429216\n",
       "Name: SalePrice_log, dtype: float64"
      ]
     },
     "execution_count": 161,
     "metadata": {},
     "output_type": "execute_result"
    }
   ],
   "source": [
    "train_Y.head()"
   ]
  },
  {
   "cell_type": "code",
   "execution_count": 162,
   "metadata": {},
   "outputs": [
    {
     "name": "stdout",
     "output_type": "stream",
     "text": [
      "Training until validation scores don't improve for 20 rounds\n",
      "[10]\tvalid_0's l2: 0.0424478\n",
      "[20]\tvalid_0's l2: 0.0222118\n",
      "[30]\tvalid_0's l2: 0.0175757\n",
      "[40]\tvalid_0's l2: 0.0165142\n",
      "[50]\tvalid_0's l2: 0.0164264\n",
      "[60]\tvalid_0's l2: 0.016285\n",
      "[70]\tvalid_0's l2: 0.0163922\n",
      "[80]\tvalid_0's l2: 0.0163238\n",
      "Early stopping, best iteration is:\n",
      "[62]\tvalid_0's l2: 0.0162509\n",
      "0.12745948164738202\n",
      "Training until validation scores don't improve for 20 rounds\n",
      "[10]\tvalid_0's l2: 0.047333\n",
      "[20]\tvalid_0's l2: 0.0272932\n",
      "[30]\tvalid_0's l2: 0.0223134\n",
      "[40]\tvalid_0's l2: 0.0209381\n",
      "[50]\tvalid_0's l2: 0.0203039\n",
      "[60]\tvalid_0's l2: 0.0200215\n",
      "[70]\tvalid_0's l2: 0.0197188\n",
      "[80]\tvalid_0's l2: 0.0196559\n",
      "[90]\tvalid_0's l2: 0.0195579\n",
      "[100]\tvalid_0's l2: 0.0195231\n",
      "Did not meet early stopping. Best iteration is:\n",
      "[99]\tvalid_0's l2: 0.0195208\n",
      "0.13971669031954484\n",
      "Training until validation scores don't improve for 20 rounds\n",
      "[10]\tvalid_0's l2: 0.0368757\n",
      "[20]\tvalid_0's l2: 0.0197062\n",
      "[30]\tvalid_0's l2: 0.0167971\n",
      "[40]\tvalid_0's l2: 0.0158749\n",
      "[50]\tvalid_0's l2: 0.0154922\n",
      "[60]\tvalid_0's l2: 0.0154062\n",
      "[70]\tvalid_0's l2: 0.0154788\n",
      "Early stopping, best iteration is:\n",
      "[56]\tvalid_0's l2: 0.0153797\n",
      "0.1240148833311436\n"
     ]
    }
   ],
   "source": [
    "models = []\n",
    "rmses = []\n",
    "oof = np.zeros(len(train_X))\n",
    "\n",
    "for train_index, val_index in kf.split(train_X):\n",
    "    X_train = train_X.iloc[train_index]\n",
    "    X_valid = train_X.iloc[val_index]\n",
    "    y_train = train_Y.iloc[train_index]\n",
    "    y_valid = train_Y.iloc[val_index]\n",
    "\n",
    "    lgb_train = lgb.Dataset(X_train, y_train)\n",
    "    lgb_eval = lgb.Dataset(X_valid, y_valid, reference=lgb_train)\n",
    "\n",
    "    model_lgb = lgb.train(\n",
    "        lgbm_params,\n",
    "        lgb_train,\n",
    "        valid_sets=lgb_eval,\n",
    "        num_boost_round=100,\n",
    "        early_stopping_rounds=20,\n",
    "        verbose_eval=10,\n",
    "    )\n",
    "\n",
    "    y_pred = model_lgb.predict(X_valid, num_iteration=model_lgb.best_iteration)\n",
    "    tmp_rmse = np.sqrt(mean_squared_error(y_valid, y_pred))\n",
    "    print(tmp_rmse)\n",
    "\n",
    "    models.append(model_lgb)\n",
    "    rmses.append(tmp_rmse)\n",
    "    oof[val_index] = y_pred"
   ]
  },
  {
   "cell_type": "code",
   "execution_count": 164,
   "metadata": {},
   "outputs": [],
   "source": [
    "result = models[2].predict(test_df_le.drop([\"SalePrice\", \"Id\"], axis=1))\n",
    "submission[\"SalePrice\"] = np.exp(result)\n",
    "submission.to_csv(\"./submit/submission02.csv\", index=False)"
   ]
  },
  {
   "cell_type": "code",
   "execution_count": 166,
   "metadata": {},
   "outputs": [
    {
     "data": {
      "text/html": [
       "<div>\n",
       "<style scoped>\n",
       "    .dataframe tbody tr th:only-of-type {\n",
       "        vertical-align: middle;\n",
       "    }\n",
       "\n",
       "    .dataframe tbody tr th {\n",
       "        vertical-align: top;\n",
       "    }\n",
       "\n",
       "    .dataframe thead th {\n",
       "        text-align: right;\n",
       "    }\n",
       "</style>\n",
       "<table border=\"1\" class=\"dataframe\">\n",
       "  <thead>\n",
       "    <tr style=\"text-align: right;\">\n",
       "      <th></th>\n",
       "      <th>YearBuilt</th>\n",
       "      <th>YearRemodAdd</th>\n",
       "      <th>GarageYrBlt</th>\n",
       "      <th>YrSold</th>\n",
       "    </tr>\n",
       "  </thead>\n",
       "  <tbody>\n",
       "    <tr>\n",
       "      <th>count</th>\n",
       "      <td>2904.000000</td>\n",
       "      <td>2904.000000</td>\n",
       "      <td>2745.000000</td>\n",
       "      <td>2904.000000</td>\n",
       "    </tr>\n",
       "    <tr>\n",
       "      <th>mean</th>\n",
       "      <td>1971.234504</td>\n",
       "      <td>1984.217975</td>\n",
       "      <td>1978.061202</td>\n",
       "      <td>2007.792011</td>\n",
       "    </tr>\n",
       "    <tr>\n",
       "      <th>std</th>\n",
       "      <td>30.319059</td>\n",
       "      <td>20.907346</td>\n",
       "      <td>25.600996</td>\n",
       "      <td>1.316366</td>\n",
       "    </tr>\n",
       "    <tr>\n",
       "      <th>min</th>\n",
       "      <td>1872.000000</td>\n",
       "      <td>1950.000000</td>\n",
       "      <td>1895.000000</td>\n",
       "      <td>2006.000000</td>\n",
       "    </tr>\n",
       "    <tr>\n",
       "      <th>25%</th>\n",
       "      <td>1953.000000</td>\n",
       "      <td>1965.000000</td>\n",
       "      <td>1960.000000</td>\n",
       "      <td>2007.000000</td>\n",
       "    </tr>\n",
       "    <tr>\n",
       "      <th>50%</th>\n",
       "      <td>1973.000000</td>\n",
       "      <td>1993.000000</td>\n",
       "      <td>1979.000000</td>\n",
       "      <td>2008.000000</td>\n",
       "    </tr>\n",
       "    <tr>\n",
       "      <th>75%</th>\n",
       "      <td>2001.000000</td>\n",
       "      <td>2004.000000</td>\n",
       "      <td>2002.000000</td>\n",
       "      <td>2009.000000</td>\n",
       "    </tr>\n",
       "    <tr>\n",
       "      <th>max</th>\n",
       "      <td>2010.000000</td>\n",
       "      <td>2010.000000</td>\n",
       "      <td>2207.000000</td>\n",
       "      <td>2010.000000</td>\n",
       "    </tr>\n",
       "  </tbody>\n",
       "</table>\n",
       "</div>"
      ],
      "text/plain": [
       "         YearBuilt  YearRemodAdd  GarageYrBlt       YrSold\n",
       "count  2904.000000   2904.000000  2745.000000  2904.000000\n",
       "mean   1971.234504   1984.217975  1978.061202  2007.792011\n",
       "std      30.319059     20.907346    25.600996     1.316366\n",
       "min    1872.000000   1950.000000  1895.000000  2006.000000\n",
       "25%    1953.000000   1965.000000  1960.000000  2007.000000\n",
       "50%    1973.000000   1993.000000  1979.000000  2008.000000\n",
       "75%    2001.000000   2004.000000  2002.000000  2009.000000\n",
       "max    2010.000000   2010.000000  2207.000000  2010.000000"
      ]
     },
     "execution_count": 166,
     "metadata": {},
     "output_type": "execute_result"
    }
   ],
   "source": [
    "all_df[[\"YearBuilt\", \"YearRemodAdd\", \"GarageYrBlt\", \"YrSold\"]].describe()"
   ]
  },
  {
   "cell_type": "code",
   "execution_count": 167,
   "metadata": {},
   "outputs": [],
   "source": [
    "all_df[\"Age\"] = all_df[\"YrSold\"] - all_df[\"YearBuilt\"]"
   ]
  },
  {
   "cell_type": "code",
   "execution_count": 169,
   "metadata": {},
   "outputs": [],
   "source": [
    "train_df_le = all_df[~all_df[\"SalePrice\"].isnull()]\n",
    "test_df_le = all_df[all_df[\"SalePrice\"].isnull()]\n",
    "\n",
    "train_df_le[\"SalePrice_log\"] = np.log(train_df_le[\"SalePrice\"])\n",
    "train_X = train_df_le.drop([\"SalePrice\", \"SalePrice_log\", \"Id\"], axis=1)\n",
    "train_Y = train_df_le[\"SalePrice_log\"]"
   ]
  },
  {
   "cell_type": "code",
   "execution_count": 170,
   "metadata": {},
   "outputs": [
    {
     "name": "stdout",
     "output_type": "stream",
     "text": [
      "Training until validation scores don't improve for 20 rounds\n",
      "[10]\tvalid_0's l2: 0.0427712\n",
      "[20]\tvalid_0's l2: 0.0222468\n",
      "[30]\tvalid_0's l2: 0.0177147\n",
      "[40]\tvalid_0's l2: 0.016571\n",
      "[50]\tvalid_0's l2: 0.0161945\n",
      "[60]\tvalid_0's l2: 0.0161879\n",
      "[70]\tvalid_0's l2: 0.0161968\n",
      "Early stopping, best iteration is:\n",
      "[58]\tvalid_0's l2: 0.0161388\n",
      "0.12704034420133195\n",
      "Training until validation scores don't improve for 20 rounds\n",
      "[10]\tvalid_0's l2: 0.0474374\n",
      "[20]\tvalid_0's l2: 0.027474\n",
      "[30]\tvalid_0's l2: 0.0225527\n",
      "[40]\tvalid_0's l2: 0.0207551\n",
      "[50]\tvalid_0's l2: 0.0202749\n",
      "[60]\tvalid_0's l2: 0.0200399\n",
      "[70]\tvalid_0's l2: 0.0198921\n",
      "[80]\tvalid_0's l2: 0.0198431\n",
      "[90]\tvalid_0's l2: 0.0197761\n",
      "[100]\tvalid_0's l2: 0.019663\n",
      "Did not meet early stopping. Best iteration is:\n",
      "[100]\tvalid_0's l2: 0.019663\n",
      "0.14022471834012856\n",
      "Training until validation scores don't improve for 20 rounds\n",
      "[10]\tvalid_0's l2: 0.0369248\n",
      "[20]\tvalid_0's l2: 0.0195778\n",
      "[30]\tvalid_0's l2: 0.016538\n",
      "[40]\tvalid_0's l2: 0.0153916\n",
      "[50]\tvalid_0's l2: 0.0149941\n",
      "[60]\tvalid_0's l2: 0.0150292\n",
      "[70]\tvalid_0's l2: 0.0149503\n",
      "[80]\tvalid_0's l2: 0.0148502\n",
      "[90]\tvalid_0's l2: 0.0149381\n",
      "[100]\tvalid_0's l2: 0.0149802\n",
      "Did not meet early stopping. Best iteration is:\n",
      "[83]\tvalid_0's l2: 0.0148361\n",
      "0.12180372590634114\n"
     ]
    }
   ],
   "source": [
    "models = []\n",
    "rmses = []\n",
    "oof = np.zeros(len(train_X))\n",
    "\n",
    "for train_index, val_index in kf.split(train_X):\n",
    "    X_train = train_X.iloc[train_index]\n",
    "    X_valid = train_X.iloc[val_index]\n",
    "    y_train = train_Y.iloc[train_index]\n",
    "    y_valid = train_Y.iloc[val_index]\n",
    "\n",
    "    lgb_train = lgb.Dataset(X_train, y_train)\n",
    "    lgb_eval = lgb.Dataset(X_valid, y_valid, reference=lgb_train)\n",
    "\n",
    "    model_lgb = lgb.train(\n",
    "        lgbm_params,\n",
    "        lgb_train,\n",
    "        valid_sets=lgb_eval,\n",
    "        num_boost_round=100,\n",
    "        early_stopping_rounds=20,\n",
    "        verbose_eval=10,\n",
    "    )\n",
    "\n",
    "    y_pred = model_lgb.predict(X_valid, num_iteration=model_lgb.best_iteration)\n",
    "    tmp_rmse = np.sqrt(mean_squared_error(y_valid, y_pred))\n",
    "    print(tmp_rmse)\n",
    "\n",
    "    models.append(model_lgb)\n",
    "    rmses.append(tmp_rmse)\n",
    "    oof[val_index] = y_pred"
   ]
  },
  {
   "cell_type": "code",
   "execution_count": 172,
   "metadata": {},
   "outputs": [
    {
     "data": {
      "text/html": [
       "<div>\n",
       "<style scoped>\n",
       "    .dataframe tbody tr th:only-of-type {\n",
       "        vertical-align: middle;\n",
       "    }\n",
       "\n",
       "    .dataframe tbody tr th {\n",
       "        vertical-align: top;\n",
       "    }\n",
       "\n",
       "    .dataframe thead th {\n",
       "        text-align: right;\n",
       "    }\n",
       "</style>\n",
       "<table border=\"1\" class=\"dataframe\">\n",
       "  <thead>\n",
       "    <tr style=\"text-align: right;\">\n",
       "      <th></th>\n",
       "      <th>LotArea</th>\n",
       "      <th>MasVnrArea</th>\n",
       "      <th>BsmtUnfSF</th>\n",
       "      <th>1stFlrSF</th>\n",
       "      <th>2ndFlrSF</th>\n",
       "      <th>LowQualFinSF</th>\n",
       "      <th>GrLivArea</th>\n",
       "      <th>GarageArea</th>\n",
       "      <th>WoodDeckSF</th>\n",
       "      <th>OpenPorchSF</th>\n",
       "      <th>EnclosedPorch</th>\n",
       "      <th>3SsnPorch</th>\n",
       "      <th>ScreenPorch</th>\n",
       "      <th>PoolArea</th>\n",
       "      <th>LotFrontage</th>\n",
       "    </tr>\n",
       "  </thead>\n",
       "  <tbody>\n",
       "    <tr>\n",
       "      <th>count</th>\n",
       "      <td>2904.000000</td>\n",
       "      <td>2882.000000</td>\n",
       "      <td>2903.000000</td>\n",
       "      <td>2904.000000</td>\n",
       "      <td>2904.000000</td>\n",
       "      <td>2904.000000</td>\n",
       "      <td>2904.000000</td>\n",
       "      <td>2903.000000</td>\n",
       "      <td>2904.000000</td>\n",
       "      <td>2904.000000</td>\n",
       "      <td>2904.000000</td>\n",
       "      <td>2904.000000</td>\n",
       "      <td>2904.000000</td>\n",
       "      <td>2904.000000</td>\n",
       "      <td>2425.000000</td>\n",
       "    </tr>\n",
       "    <tr>\n",
       "      <th>mean</th>\n",
       "      <td>9912.604683</td>\n",
       "      <td>101.191187</td>\n",
       "      <td>559.850499</td>\n",
       "      <td>1152.707300</td>\n",
       "      <td>336.355372</td>\n",
       "      <td>4.718664</td>\n",
       "      <td>1493.781336</td>\n",
       "      <td>471.632794</td>\n",
       "      <td>93.265840</td>\n",
       "      <td>47.226584</td>\n",
       "      <td>22.988636</td>\n",
       "      <td>2.615702</td>\n",
       "      <td>16.086777</td>\n",
       "      <td>1.907025</td>\n",
       "      <td>69.071340</td>\n",
       "    </tr>\n",
       "    <tr>\n",
       "      <th>std</th>\n",
       "      <td>5178.128224</td>\n",
       "      <td>177.804595</td>\n",
       "      <td>438.438879</td>\n",
       "      <td>377.291394</td>\n",
       "      <td>427.355787</td>\n",
       "      <td>46.515308</td>\n",
       "      <td>491.149725</td>\n",
       "      <td>214.551791</td>\n",
       "      <td>125.855568</td>\n",
       "      <td>67.195477</td>\n",
       "      <td>64.055325</td>\n",
       "      <td>25.252464</td>\n",
       "      <td>56.245764</td>\n",
       "      <td>33.082892</td>\n",
       "      <td>22.662001</td>\n",
       "    </tr>\n",
       "    <tr>\n",
       "      <th>min</th>\n",
       "      <td>1300.000000</td>\n",
       "      <td>0.000000</td>\n",
       "      <td>0.000000</td>\n",
       "      <td>334.000000</td>\n",
       "      <td>0.000000</td>\n",
       "      <td>0.000000</td>\n",
       "      <td>334.000000</td>\n",
       "      <td>0.000000</td>\n",
       "      <td>0.000000</td>\n",
       "      <td>0.000000</td>\n",
       "      <td>0.000000</td>\n",
       "      <td>0.000000</td>\n",
       "      <td>0.000000</td>\n",
       "      <td>0.000000</td>\n",
       "      <td>21.000000</td>\n",
       "    </tr>\n",
       "    <tr>\n",
       "      <th>25%</th>\n",
       "      <td>7448.250000</td>\n",
       "      <td>0.000000</td>\n",
       "      <td>220.000000</td>\n",
       "      <td>875.750000</td>\n",
       "      <td>0.000000</td>\n",
       "      <td>0.000000</td>\n",
       "      <td>1124.000000</td>\n",
       "      <td>319.500000</td>\n",
       "      <td>0.000000</td>\n",
       "      <td>0.000000</td>\n",
       "      <td>0.000000</td>\n",
       "      <td>0.000000</td>\n",
       "      <td>0.000000</td>\n",
       "      <td>0.000000</td>\n",
       "      <td>59.000000</td>\n",
       "    </tr>\n",
       "    <tr>\n",
       "      <th>50%</th>\n",
       "      <td>9422.000000</td>\n",
       "      <td>0.000000</td>\n",
       "      <td>467.000000</td>\n",
       "      <td>1080.000000</td>\n",
       "      <td>0.000000</td>\n",
       "      <td>0.000000</td>\n",
       "      <td>1441.000000</td>\n",
       "      <td>478.000000</td>\n",
       "      <td>0.000000</td>\n",
       "      <td>26.000000</td>\n",
       "      <td>0.000000</td>\n",
       "      <td>0.000000</td>\n",
       "      <td>0.000000</td>\n",
       "      <td>0.000000</td>\n",
       "      <td>68.000000</td>\n",
       "    </tr>\n",
       "    <tr>\n",
       "      <th>75%</th>\n",
       "      <td>11503.000000</td>\n",
       "      <td>164.000000</td>\n",
       "      <td>802.500000</td>\n",
       "      <td>1381.250000</td>\n",
       "      <td>704.000000</td>\n",
       "      <td>0.000000</td>\n",
       "      <td>1739.250000</td>\n",
       "      <td>576.000000</td>\n",
       "      <td>168.000000</td>\n",
       "      <td>69.250000</td>\n",
       "      <td>0.000000</td>\n",
       "      <td>0.000000</td>\n",
       "      <td>0.000000</td>\n",
       "      <td>0.000000</td>\n",
       "      <td>80.000000</td>\n",
       "    </tr>\n",
       "    <tr>\n",
       "      <th>max</th>\n",
       "      <td>70761.000000</td>\n",
       "      <td>1600.000000</td>\n",
       "      <td>2336.000000</td>\n",
       "      <td>5095.000000</td>\n",
       "      <td>1872.000000</td>\n",
       "      <td>1064.000000</td>\n",
       "      <td>5095.000000</td>\n",
       "      <td>1488.000000</td>\n",
       "      <td>1424.000000</td>\n",
       "      <td>742.000000</td>\n",
       "      <td>1012.000000</td>\n",
       "      <td>508.000000</td>\n",
       "      <td>576.000000</td>\n",
       "      <td>800.000000</td>\n",
       "      <td>313.000000</td>\n",
       "    </tr>\n",
       "  </tbody>\n",
       "</table>\n",
       "</div>"
      ],
      "text/plain": [
       "            LotArea   MasVnrArea    BsmtUnfSF     1stFlrSF     2ndFlrSF  \\\n",
       "count   2904.000000  2882.000000  2903.000000  2904.000000  2904.000000   \n",
       "mean    9912.604683   101.191187   559.850499  1152.707300   336.355372   \n",
       "std     5178.128224   177.804595   438.438879   377.291394   427.355787   \n",
       "min     1300.000000     0.000000     0.000000   334.000000     0.000000   \n",
       "25%     7448.250000     0.000000   220.000000   875.750000     0.000000   \n",
       "50%     9422.000000     0.000000   467.000000  1080.000000     0.000000   \n",
       "75%    11503.000000   164.000000   802.500000  1381.250000   704.000000   \n",
       "max    70761.000000  1600.000000  2336.000000  5095.000000  1872.000000   \n",
       "\n",
       "       LowQualFinSF    GrLivArea   GarageArea   WoodDeckSF  OpenPorchSF  \\\n",
       "count   2904.000000  2904.000000  2903.000000  2904.000000  2904.000000   \n",
       "mean       4.718664  1493.781336   471.632794    93.265840    47.226584   \n",
       "std       46.515308   491.149725   214.551791   125.855568    67.195477   \n",
       "min        0.000000   334.000000     0.000000     0.000000     0.000000   \n",
       "25%        0.000000  1124.000000   319.500000     0.000000     0.000000   \n",
       "50%        0.000000  1441.000000   478.000000     0.000000    26.000000   \n",
       "75%        0.000000  1739.250000   576.000000   168.000000    69.250000   \n",
       "max     1064.000000  5095.000000  1488.000000  1424.000000   742.000000   \n",
       "\n",
       "       EnclosedPorch    3SsnPorch  ScreenPorch     PoolArea  LotFrontage  \n",
       "count    2904.000000  2904.000000  2904.000000  2904.000000  2425.000000  \n",
       "mean       22.988636     2.615702    16.086777     1.907025    69.071340  \n",
       "std        64.055325    25.252464    56.245764    33.082892    22.662001  \n",
       "min         0.000000     0.000000     0.000000     0.000000    21.000000  \n",
       "25%         0.000000     0.000000     0.000000     0.000000    59.000000  \n",
       "50%         0.000000     0.000000     0.000000     0.000000    68.000000  \n",
       "75%         0.000000     0.000000     0.000000     0.000000    80.000000  \n",
       "max      1012.000000   508.000000   576.000000   800.000000   313.000000  "
      ]
     },
     "execution_count": 172,
     "metadata": {},
     "output_type": "execute_result"
    }
   ],
   "source": [
    "all_df[\n",
    "    [\n",
    "        \"LotArea\",\n",
    "        \"MasVnrArea\",\n",
    "        \"BsmtUnfSF\",\n",
    "        \"1stFlrSF\",\n",
    "        \"2ndFlrSF\",\n",
    "        \"LowQualFinSF\",\n",
    "        \"GrLivArea\",\n",
    "        \"GarageArea\",\n",
    "        \"WoodDeckSF\",\n",
    "        \"OpenPorchSF\",\n",
    "        \"EnclosedPorch\",\n",
    "        \"3SsnPorch\",\n",
    "        \"ScreenPorch\",\n",
    "        \"PoolArea\",\n",
    "        \"LotFrontage\",\n",
    "    ]\n",
    "].describe()"
   ]
  },
  {
   "cell_type": "code",
   "execution_count": 173,
   "metadata": {},
   "outputs": [],
   "source": [
    "all_df[\"TotalSF\"] = all_df[\"TotalBsmtSF\"] + all_df[\"1stFlrSF\"] + all_df[\"2ndFlrSF\"]\n",
    "all_df[\"Total_bathrooms\"] = (\n",
    "    all_df[\"FullBath\"]\n",
    "    + all_df[\"HalfBath\"]\n",
    "    + all_df[\"BsmtFullBath\"]\n",
    "    + all_df[\"BsmtHalfBath\"]\n",
    ")"
   ]
  },
  {
   "cell_type": "code",
   "execution_count": 174,
   "metadata": {},
   "outputs": [],
   "source": [
    "all_df[\"Total_PorchSF\"] = (\n",
    "    all_df[\"OpenPorchSF\"]\n",
    "    + all_df[\"3SsnPorch\"]\n",
    "    + all_df[\"EnclosedPorch\"]\n",
    "    + all_df[\"ScreenPorch\"]\n",
    "    + all_df[\"WoodDeckSF\"]\n",
    ")"
   ]
  },
  {
   "cell_type": "code",
   "execution_count": 175,
   "metadata": {},
   "outputs": [],
   "source": [
    "all_df[\"hasPorch\"] = all_df[\"Total_PorchSF\"].apply(lambda x: 1 if x > 0 else 0)\n",
    "all_df = all_df.drop([\"Total_PorchSF\"], axis=1)"
   ]
  },
  {
   "cell_type": "code",
   "execution_count": 176,
   "metadata": {},
   "outputs": [],
   "source": [
    "train_df_le = all_df[~all_df[\"SalePrice\"].isnull()]\n",
    "test_df_le = all_df[all_df[\"SalePrice\"].isnull()]\n",
    "\n",
    "train_df_le[\"SalePrice_log\"] = np.log(train_df_le[\"SalePrice\"])\n",
    "train_X = train_df_le.drop([\"SalePrice\", \"SalePrice_log\", \"Id\"], axis=1)\n",
    "train_Y = train_df_le[\"SalePrice_log\"]"
   ]
  },
  {
   "cell_type": "code",
   "execution_count": 177,
   "metadata": {},
   "outputs": [
    {
     "name": "stdout",
     "output_type": "stream",
     "text": [
      "Training until validation scores don't improve for 20 rounds\n",
      "[10]\tvalid_0's l2: 0.0388049\n",
      "[20]\tvalid_0's l2: 0.0199263\n",
      "[30]\tvalid_0's l2: 0.0165969\n",
      "[40]\tvalid_0's l2: 0.0158728\n",
      "[50]\tvalid_0's l2: 0.0157388\n",
      "[60]\tvalid_0's l2: 0.015844\n",
      "Early stopping, best iteration is:\n",
      "[49]\tvalid_0's l2: 0.0157164\n",
      "0.12536497336459065\n",
      "Training until validation scores don't improve for 20 rounds\n",
      "[10]\tvalid_0's l2: 0.0459281\n",
      "[20]\tvalid_0's l2: 0.0262784\n",
      "[30]\tvalid_0's l2: 0.0217831\n",
      "[40]\tvalid_0's l2: 0.0205294\n",
      "[50]\tvalid_0's l2: 0.0201039\n",
      "[60]\tvalid_0's l2: 0.0198874\n",
      "[70]\tvalid_0's l2: 0.019815\n",
      "[80]\tvalid_0's l2: 0.0198968\n",
      "Early stopping, best iteration is:\n",
      "[65]\tvalid_0's l2: 0.0197659\n",
      "0.14059120440349726\n",
      "Training until validation scores don't improve for 20 rounds\n",
      "[10]\tvalid_0's l2: 0.0354828\n",
      "[20]\tvalid_0's l2: 0.0183241\n",
      "[30]\tvalid_0's l2: 0.0154847\n",
      "[40]\tvalid_0's l2: 0.0145868\n",
      "[50]\tvalid_0's l2: 0.0143982\n",
      "[60]\tvalid_0's l2: 0.0142851\n",
      "[70]\tvalid_0's l2: 0.0144113\n",
      "Early stopping, best iteration is:\n",
      "[56]\tvalid_0's l2: 0.0142168\n",
      "0.11923442913034112\n"
     ]
    }
   ],
   "source": [
    "models = []\n",
    "rmses = []\n",
    "oof = np.zeros(len(train_X))\n",
    "\n",
    "for train_index, val_index in kf.split(train_X):\n",
    "    X_train = train_X.iloc[train_index]\n",
    "    X_valid = train_X.iloc[val_index]\n",
    "    y_train = train_Y.iloc[train_index]\n",
    "    y_valid = train_Y.iloc[val_index]\n",
    "\n",
    "    lgb_train = lgb.Dataset(X_train, y_train)\n",
    "    lgb_eval = lgb.Dataset(X_valid, y_valid, reference=lgb_train)\n",
    "\n",
    "    model_lgb = lgb.train(\n",
    "        lgbm_params,\n",
    "        lgb_train,\n",
    "        valid_sets=lgb_eval,\n",
    "        num_boost_round=100,\n",
    "        early_stopping_rounds=20,\n",
    "        verbose_eval=10,\n",
    "    )\n",
    "\n",
    "    y_pred = model_lgb.predict(X_valid, num_iteration=model_lgb.best_iteration)\n",
    "    tmp_rmse = np.sqrt(mean_squared_error(y_valid, y_pred))\n",
    "    print(tmp_rmse)\n",
    "\n",
    "    models.append(model_lgb)\n",
    "    rmses.append(tmp_rmse)\n",
    "    oof[val_index] = y_pred"
   ]
  },
  {
   "cell_type": "code",
   "execution_count": 178,
   "metadata": {},
   "outputs": [],
   "source": [
    "result = models[2].predict(test_df_le.drop([\"SalePrice\", \"Id\"], axis=1))\n",
    "submission[\"SalePrice\"] = np.exp(result)\n",
    "submission.to_csv(\"./submit/submission04.csv\", index=False)"
   ]
  },
  {
   "cell_type": "code",
   "execution_count": 179,
   "metadata": {},
   "outputs": [],
   "source": [
    "import optuna"
   ]
  },
  {
   "cell_type": "code",
   "execution_count": 180,
   "metadata": {},
   "outputs": [],
   "source": [
    "from sklearn.model_selection import train_test_split\n",
    "\n",
    "X_train, X_valid, y_train, y_valid = train_test_split(\n",
    "    train_X, train_Y, test_size=0.2, random_state=1234, shuffle=True, stratify=None\n",
    ")"
   ]
  },
  {
   "cell_type": "code",
   "execution_count": 187,
   "metadata": {},
   "outputs": [],
   "source": [
    "def objective(trial):\n",
    "    params = {\n",
    "        \"objective\": \"regression\",\n",
    "        \"random_seed\": 1234,\n",
    "        \"learning_rate\": 0.1,\n",
    "        \"n_estimators\": 100,\n",
    "        \"num_leaves\": trial.suggest_int(\"num_leaves\", 4, 64),\n",
    "        \"max_bin\": trial.suggest_int(\"max_bin\", 50, 200),\n",
    "        \"bagging_fraction\": trial.suggest_discrete_uniform(\n",
    "            \"bagging_fraction\", 0.4, 0.9, 0.1\n",
    "        ),\n",
    "        \"bagging_freq\": trial.suggest_int(\"bagging_freq\", 1, 10),\n",
    "        \"feature_fraction\": trial.suggest_discrete_uniform(\n",
    "            \"feature_fraction\", 0.4, 0.9, 0.1\n",
    "        ),\n",
    "        \"min_data_in_leaf\": trial.suggest_int(\"min_data_in_leaf\", 2, 16),\n",
    "        \"min_sum_hessian_in_leaf\": trial.suggest_int(\"min_sum_hessian_in_leaf\", 1, 10),\n",
    "    }\n",
    "\n",
    "    lgb_train = lgb.Dataset(X_train, y_train)\n",
    "    lgb_eval = lgb.Dataset(X_valid, y_valid, reference=lgb_train)\n",
    "\n",
    "    model_lgb = lgb.train(\n",
    "        params,\n",
    "        lgb_train,\n",
    "        valid_sets=lgb_eval,\n",
    "        num_boost_round=100,\n",
    "        early_stopping_rounds=20,\n",
    "        verbose_eval=10,\n",
    "    )\n",
    "\n",
    "    y_pred = model_lgb.predict(X_valid, num_iteration=model_lgb.best_iteration)\n",
    "    score = np.sqrt(mean_squared_error(y_valid, y_pred))\n",
    "    return score"
   ]
  },
  {
   "cell_type": "code",
   "execution_count": 188,
   "metadata": {},
   "outputs": [
    {
     "name": "stdout",
     "output_type": "stream",
     "text": [
      "Training until validation scores don't improve for 20 rounds\n",
      "[10]\tvalid_0's l2: 0.0384512\n",
      "[20]\tvalid_0's l2: 0.0211894\n",
      "[30]\tvalid_0's l2: 0.0179616\n",
      "[40]\tvalid_0's l2: 0.0169778\n",
      "[50]\tvalid_0's l2: 0.0165653\n",
      "[60]\tvalid_0's l2: 0.0163485\n",
      "[70]\tvalid_0's l2: 0.0161424\n",
      "[80]\tvalid_0's l2: 0.0159278\n"
     ]
    },
    {
     "name": "stderr",
     "output_type": "stream",
     "text": [
      "\u001b[32m[I 2023-10-13 14:43:50,150]\u001b[0m Trial 0 finished with value: 0.1258479707054406 and parameters: {'num_leaves': 48, 'max_bin': 97, 'bagging_fraction': 0.8, 'bagging_freq': 4, 'feature_fraction': 0.9, 'min_data_in_leaf': 9, 'min_sum_hessian_in_leaf': 10}. Best is trial 0 with value: 0.1258479707054406.\u001b[0m\n"
     ]
    },
    {
     "name": "stdout",
     "output_type": "stream",
     "text": [
      "[90]\tvalid_0's l2: 0.0159087\n",
      "[100]\tvalid_0's l2: 0.015875\n",
      "Did not meet early stopping. Best iteration is:\n",
      "[99]\tvalid_0's l2: 0.0158377\n",
      "Training until validation scores don't improve for 20 rounds\n"
     ]
    },
    {
     "name": "stderr",
     "output_type": "stream",
     "text": [
      "\u001b[32m[I 2023-10-13 14:43:50,427]\u001b[0m Trial 1 finished with value: 0.12734492336487543 and parameters: {'num_leaves': 23, 'max_bin': 71, 'bagging_fraction': 0.6000000000000001, 'bagging_freq': 8, 'feature_fraction': 0.9, 'min_data_in_leaf': 10, 'min_sum_hessian_in_leaf': 2}. Best is trial 0 with value: 0.1258479707054406.\u001b[0m\n"
     ]
    },
    {
     "name": "stdout",
     "output_type": "stream",
     "text": [
      "[10]\tvalid_0's l2: 0.0411399\n",
      "[20]\tvalid_0's l2: 0.0220282\n",
      "[30]\tvalid_0's l2: 0.017558\n",
      "[40]\tvalid_0's l2: 0.01659\n",
      "[50]\tvalid_0's l2: 0.0162533\n",
      "[60]\tvalid_0's l2: 0.0163037\n",
      "Early stopping, best iteration is:\n",
      "[48]\tvalid_0's l2: 0.0162167\n",
      "Training until validation scores don't improve for 20 rounds\n",
      "[10]\tvalid_0's l2: 0.037607\n",
      "[20]\tvalid_0's l2: 0.0212866\n",
      "[30]\tvalid_0's l2: 0.0175181\n",
      "[40]\tvalid_0's l2: 0.0162787\n",
      "[50]\tvalid_0's l2: 0.0156503\n",
      "[60]\tvalid_0's l2: 0.0154052\n"
     ]
    },
    {
     "name": "stderr",
     "output_type": "stream",
     "text": [
      "\u001b[32m[I 2023-10-13 14:43:50,919]\u001b[0m Trial 2 finished with value: 0.12336387018517862 and parameters: {'num_leaves': 42, 'max_bin': 89, 'bagging_fraction': 0.7000000000000001, 'bagging_freq': 9, 'feature_fraction': 0.6000000000000001, 'min_data_in_leaf': 11, 'min_sum_hessian_in_leaf': 9}. Best is trial 2 with value: 0.12336387018517862.\u001b[0m\n"
     ]
    },
    {
     "name": "stdout",
     "output_type": "stream",
     "text": [
      "[70]\tvalid_0's l2: 0.0152994\n",
      "[80]\tvalid_0's l2: 0.0154344\n",
      "Early stopping, best iteration is:\n",
      "[68]\tvalid_0's l2: 0.0152186\n",
      "Training until validation scores don't improve for 20 rounds\n",
      "[10]\tvalid_0's l2: 0.042145\n",
      "[20]\tvalid_0's l2: 0.0251028\n",
      "[30]\tvalid_0's l2: 0.0190534\n",
      "[40]\tvalid_0's l2: 0.0177076\n",
      "[50]\tvalid_0's l2: 0.0171471\n",
      "[60]\tvalid_0's l2: 0.0172261\n",
      "[70]\tvalid_0's l2: 0.0171797\n",
      "[80]\tvalid_0's l2: 0.0171311\n",
      "[90]\tvalid_0's l2: 0.0171079\n",
      "[100]\tvalid_0's l2: 0.0170481\n",
      "Did not meet early stopping. Best iteration is:\n",
      "[83]\tvalid_0's l2: 0.0168818\n"
     ]
    },
    {
     "name": "stderr",
     "output_type": "stream",
     "text": [
      "\u001b[32m[I 2023-10-13 14:43:51,252]\u001b[0m Trial 3 finished with value: 0.12993010246784661 and parameters: {'num_leaves': 13, 'max_bin': 198, 'bagging_fraction': 0.4, 'bagging_freq': 4, 'feature_fraction': 0.9, 'min_data_in_leaf': 2, 'min_sum_hessian_in_leaf': 3}. Best is trial 2 with value: 0.12336387018517862.\u001b[0m\n"
     ]
    },
    {
     "name": "stdout",
     "output_type": "stream",
     "text": [
      "Training until validation scores don't improve for 20 rounds\n",
      "[10]\tvalid_0's l2: 0.0390709\n",
      "[20]\tvalid_0's l2: 0.0212041\n",
      "[30]\tvalid_0's l2: 0.0175709\n",
      "[40]\tvalid_0's l2: 0.0164072\n",
      "[50]\tvalid_0's l2: 0.0161979\n",
      "[60]\tvalid_0's l2: 0.0157354\n",
      "[70]\tvalid_0's l2: 0.0155726\n",
      "[80]\tvalid_0's l2: 0.0154657\n",
      "[90]\tvalid_0's l2: 0.015279\n",
      "[100]\tvalid_0's l2: 0.0152143\n",
      "Did not meet early stopping. Best iteration is:\n",
      "[100]\tvalid_0's l2: 0.0152143\n"
     ]
    },
    {
     "name": "stderr",
     "output_type": "stream",
     "text": [
      "\u001b[32m[I 2023-10-13 14:43:52,541]\u001b[0m Trial 4 finished with value: 0.12334627697106833 and parameters: {'num_leaves': 39, 'max_bin': 79, 'bagging_fraction': 0.8, 'bagging_freq': 8, 'feature_fraction': 0.7000000000000001, 'min_data_in_leaf': 11, 'min_sum_hessian_in_leaf': 10}. Best is trial 4 with value: 0.12334627697106833.\u001b[0m\n"
     ]
    },
    {
     "name": "stdout",
     "output_type": "stream",
     "text": [
      "Training until validation scores don't improve for 20 rounds\n",
      "[10]\tvalid_0's l2: 0.0403707\n",
      "[20]\tvalid_0's l2: 0.0236231\n",
      "[30]\tvalid_0's l2: 0.019807\n",
      "[40]\tvalid_0's l2: 0.0182587\n",
      "[50]\tvalid_0's l2: 0.0170883\n"
     ]
    },
    {
     "name": "stderr",
     "output_type": "stream",
     "text": [
      "\u001b[32m[I 2023-10-13 14:43:53,051]\u001b[0m Trial 5 finished with value: 0.12447097463691315 and parameters: {'num_leaves': 36, 'max_bin': 81, 'bagging_fraction': 0.4, 'bagging_freq': 8, 'feature_fraction': 0.5, 'min_data_in_leaf': 13, 'min_sum_hessian_in_leaf': 3}. Best is trial 4 with value: 0.12334627697106833.\u001b[0m\n"
     ]
    },
    {
     "name": "stdout",
     "output_type": "stream",
     "text": [
      "[60]\tvalid_0's l2: 0.0161693\n",
      "[70]\tvalid_0's l2: 0.0159054\n",
      "[80]\tvalid_0's l2: 0.0159717\n",
      "[90]\tvalid_0's l2: 0.0156522\n",
      "[100]\tvalid_0's l2: 0.015493\n",
      "Did not meet early stopping. Best iteration is:\n",
      "[100]\tvalid_0's l2: 0.015493\n",
      "Training until validation scores don't improve for 20 rounds\n",
      "[10]\tvalid_0's l2: 0.0368866\n",
      "[20]\tvalid_0's l2: 0.0200692\n",
      "[30]\tvalid_0's l2: 0.0171566\n",
      "[40]\tvalid_0's l2: 0.0165772\n",
      "[50]\tvalid_0's l2: 0.0160867\n",
      "[60]\tvalid_0's l2: 0.0159188\n",
      "[70]\tvalid_0's l2: 0.0158829\n",
      "[80]\tvalid_0's l2: 0.0159123\n",
      "Early stopping, best iteration is:\n",
      "[64]\tvalid_0's l2: 0.0158086\n"
     ]
    },
    {
     "name": "stderr",
     "output_type": "stream",
     "text": [
      "\u001b[32m[I 2023-10-13 14:43:53,759]\u001b[0m Trial 6 finished with value: 0.12573207477083762 and parameters: {'num_leaves': 59, 'max_bin': 78, 'bagging_fraction': 0.7000000000000001, 'bagging_freq': 1, 'feature_fraction': 0.5, 'min_data_in_leaf': 7, 'min_sum_hessian_in_leaf': 7}. Best is trial 4 with value: 0.12334627697106833.\u001b[0m\n"
     ]
    },
    {
     "name": "stdout",
     "output_type": "stream",
     "text": [
      "Training until validation scores don't improve for 20 rounds\n",
      "[10]\tvalid_0's l2: 0.036937\n",
      "[20]\tvalid_0's l2: 0.0207039\n",
      "[30]\tvalid_0's l2: 0.0172689\n",
      "[40]\tvalid_0's l2: 0.0161423\n",
      "[50]\tvalid_0's l2: 0.0157077\n",
      "[60]\tvalid_0's l2: 0.0153993\n",
      "[70]\tvalid_0's l2: 0.0152418\n",
      "[80]\tvalid_0's l2: 0.0151263\n"
     ]
    },
    {
     "name": "stderr",
     "output_type": "stream",
     "text": [
      "\u001b[32m[I 2023-10-13 14:43:54,210]\u001b[0m Trial 7 finished with value: 0.12259853160004072 and parameters: {'num_leaves': 44, 'max_bin': 67, 'bagging_fraction': 0.9, 'bagging_freq': 10, 'feature_fraction': 0.6000000000000001, 'min_data_in_leaf': 10, 'min_sum_hessian_in_leaf': 2}. Best is trial 7 with value: 0.12259853160004072.\u001b[0m\n"
     ]
    },
    {
     "name": "stdout",
     "output_type": "stream",
     "text": [
      "[90]\tvalid_0's l2: 0.0151691\n",
      "[100]\tvalid_0's l2: 0.0150304\n",
      "Did not meet early stopping. Best iteration is:\n",
      "[100]\tvalid_0's l2: 0.0150304\n"
     ]
    },
    {
     "name": "stderr",
     "output_type": "stream",
     "text": [
      "\u001b[32m[I 2023-10-13 14:43:54,476]\u001b[0m Trial 8 finished with value: 0.12973258357630527 and parameters: {'num_leaves': 5, 'max_bin': 107, 'bagging_fraction': 0.8, 'bagging_freq': 8, 'feature_fraction': 0.5, 'min_data_in_leaf': 4, 'min_sum_hessian_in_leaf': 1}. Best is trial 7 with value: 0.12259853160004072.\u001b[0m\n"
     ]
    },
    {
     "name": "stdout",
     "output_type": "stream",
     "text": [
      "Training until validation scores don't improve for 20 rounds\n",
      "[10]\tvalid_0's l2: 0.0480124\n",
      "[20]\tvalid_0's l2: 0.0285645\n",
      "[30]\tvalid_0's l2: 0.0227389\n",
      "[40]\tvalid_0's l2: 0.0202069\n",
      "[50]\tvalid_0's l2: 0.0190396\n",
      "[60]\tvalid_0's l2: 0.0180647\n",
      "[70]\tvalid_0's l2: 0.0176385\n",
      "[80]\tvalid_0's l2: 0.0174023\n",
      "[90]\tvalid_0's l2: 0.0171028\n",
      "[100]\tvalid_0's l2: 0.0168521\n",
      "Did not meet early stopping. Best iteration is:\n",
      "[99]\tvalid_0's l2: 0.0168305\n",
      "Training until validation scores don't improve for 20 rounds\n",
      "[10]\tvalid_0's l2: 0.0407546\n",
      "[20]\tvalid_0's l2: 0.0241217\n",
      "[30]\tvalid_0's l2: 0.020003\n",
      "[40]\tvalid_0's l2: 0.0185007\n",
      "[50]\tvalid_0's l2: 0.0177011\n",
      "[60]\tvalid_0's l2: 0.0175318\n",
      "[70]\tvalid_0's l2: 0.016909\n",
      "[80]\tvalid_0's l2: 0.0167234\n",
      "[90]\tvalid_0's l2: 0.016595\n",
      "[100]\tvalid_0's l2: 0.0165106\n",
      "Did not meet early stopping. Best iteration is:\n",
      "[100]\tvalid_0's l2: 0.0165106\n"
     ]
    },
    {
     "name": "stderr",
     "output_type": "stream",
     "text": [
      "\u001b[32m[I 2023-10-13 14:43:54,912]\u001b[0m Trial 9 finished with value: 0.12849339005804694 and parameters: {'num_leaves': 18, 'max_bin': 149, 'bagging_fraction': 0.6000000000000001, 'bagging_freq': 10, 'feature_fraction': 0.4, 'min_data_in_leaf': 13, 'min_sum_hessian_in_leaf': 5}. Best is trial 7 with value: 0.12259853160004072.\u001b[0m\n",
      "\u001b[32m[I 2023-10-13 14:43:55,185]\u001b[0m Trial 10 finished with value: 0.12862587429352246 and parameters: {'num_leaves': 10, 'max_bin': 97, 'bagging_fraction': 0.5, 'bagging_freq': 4, 'feature_fraction': 0.9, 'min_data_in_leaf': 6, 'min_sum_hessian_in_leaf': 9}. Best is trial 7 with value: 0.12259853160004072.\u001b[0m\n"
     ]
    },
    {
     "name": "stdout",
     "output_type": "stream",
     "text": [
      "Training until validation scores don't improve for 20 rounds\n",
      "[10]\tvalid_0's l2: 0.0449374\n",
      "[20]\tvalid_0's l2: 0.0263321\n",
      "[30]\tvalid_0's l2: 0.0198159\n",
      "[40]\tvalid_0's l2: 0.0178917\n",
      "[50]\tvalid_0's l2: 0.0171361\n",
      "[60]\tvalid_0's l2: 0.0169675\n",
      "[70]\tvalid_0's l2: 0.016903\n",
      "[80]\tvalid_0's l2: 0.0168801\n",
      "[90]\tvalid_0's l2: 0.0167224\n",
      "[100]\tvalid_0's l2: 0.0165446\n",
      "Did not meet early stopping. Best iteration is:\n",
      "[100]\tvalid_0's l2: 0.0165446\n",
      "Training until validation scores don't improve for 20 rounds\n",
      "[10]\tvalid_0's l2: 0.0406359\n",
      "[20]\tvalid_0's l2: 0.0222939\n",
      "[30]\tvalid_0's l2: 0.018366\n",
      "[40]\tvalid_0's l2: 0.0169739\n",
      "[50]\tvalid_0's l2: 0.0165951\n",
      "[60]\tvalid_0's l2: 0.0164519\n",
      "[70]\tvalid_0's l2: 0.0165276\n",
      "[80]\tvalid_0's l2: 0.0162381\n"
     ]
    },
    {
     "name": "stderr",
     "output_type": "stream",
     "text": [
      "\u001b[32m[I 2023-10-13 14:45:53,371]\u001b[0m Trial 11 finished with value: 0.12735653101553102 and parameters: {'num_leaves': 18, 'max_bin': 193, 'bagging_fraction': 0.6000000000000001, 'bagging_freq': 8, 'feature_fraction': 0.6000000000000001, 'min_data_in_leaf': 7, 'min_sum_hessian_in_leaf': 6}. Best is trial 7 with value: 0.12259853160004072.\u001b[0m\n"
     ]
    },
    {
     "name": "stdout",
     "output_type": "stream",
     "text": [
      "[90]\tvalid_0's l2: 0.0163148\n",
      "Early stopping, best iteration is:\n",
      "[75]\tvalid_0's l2: 0.0162197\n",
      "Training until validation scores don't improve for 20 rounds\n",
      "[10]\tvalid_0's l2: 0.0367537\n",
      "[20]\tvalid_0's l2: 0.0204382\n",
      "[30]\tvalid_0's l2: 0.0169677\n",
      "[40]\tvalid_0's l2: 0.0159902\n",
      "[50]\tvalid_0's l2: 0.0158116\n",
      "[60]\tvalid_0's l2: 0.0155573\n",
      "[70]\tvalid_0's l2: 0.0154986\n",
      "[80]\tvalid_0's l2: 0.0153368\n",
      "[90]\tvalid_0's l2: 0.0153272\n",
      "[100]\tvalid_0's l2: 0.0153702\n",
      "Did not meet early stopping. Best iteration is:\n",
      "[82]\tvalid_0's l2: 0.0152958\n"
     ]
    },
    {
     "name": "stderr",
     "output_type": "stream",
     "text": [
      "\u001b[32m[I 2023-10-13 14:45:54,065]\u001b[0m Trial 12 finished with value: 0.12367618518664275 and parameters: {'num_leaves': 52, 'max_bin': 99, 'bagging_fraction': 0.8, 'bagging_freq': 4, 'feature_fraction': 0.6000000000000001, 'min_data_in_leaf': 7, 'min_sum_hessian_in_leaf': 1}. Best is trial 7 with value: 0.12259853160004072.\u001b[0m\n"
     ]
    },
    {
     "name": "stdout",
     "output_type": "stream",
     "text": [
      "Training until validation scores don't improve for 20 rounds\n",
      "[10]\tvalid_0's l2: 0.0420176\n",
      "[20]\tvalid_0's l2: 0.0242706\n",
      "[30]\tvalid_0's l2: 0.0192396\n",
      "[40]\tvalid_0's l2: 0.0175182\n",
      "[50]\tvalid_0's l2: 0.0172633\n",
      "[60]\tvalid_0's l2: 0.0170972\n",
      "[70]\tvalid_0's l2: 0.0167279\n"
     ]
    },
    {
     "name": "stderr",
     "output_type": "stream",
     "text": [
      "\u001b[32m[I 2023-10-13 14:45:54,577]\u001b[0m Trial 13 finished with value: 0.1290857517068078 and parameters: {'num_leaves': 53, 'max_bin': 86, 'bagging_fraction': 0.4, 'bagging_freq': 4, 'feature_fraction': 0.6000000000000001, 'min_data_in_leaf': 15, 'min_sum_hessian_in_leaf': 1}. Best is trial 7 with value: 0.12259853160004072.\u001b[0m\n"
     ]
    },
    {
     "name": "stdout",
     "output_type": "stream",
     "text": [
      "[80]\tvalid_0's l2: 0.0168099\n",
      "Early stopping, best iteration is:\n",
      "[68]\tvalid_0's l2: 0.0166631\n",
      "Training until validation scores don't improve for 20 rounds\n",
      "[10]\tvalid_0's l2: 0.0375068\n",
      "[20]\tvalid_0's l2: 0.0209414\n",
      "[30]\tvalid_0's l2: 0.0175317\n",
      "[40]\tvalid_0's l2: 0.0166769\n",
      "[50]\tvalid_0's l2: 0.0162153\n",
      "[60]\tvalid_0's l2: 0.0159586\n",
      "[70]\tvalid_0's l2: 0.0156981\n",
      "[80]\tvalid_0's l2: 0.0155198\n"
     ]
    },
    {
     "name": "stderr",
     "output_type": "stream",
     "text": [
      "\u001b[32m[I 2023-10-13 14:45:55,536]\u001b[0m Trial 14 finished with value: 0.1242287123875562 and parameters: {'num_leaves': 43, 'max_bin': 199, 'bagging_fraction': 0.8, 'bagging_freq': 1, 'feature_fraction': 0.6000000000000001, 'min_data_in_leaf': 13, 'min_sum_hessian_in_leaf': 8}. Best is trial 7 with value: 0.12259853160004072.\u001b[0m\n"
     ]
    },
    {
     "name": "stdout",
     "output_type": "stream",
     "text": [
      "[90]\tvalid_0's l2: 0.0154968\n",
      "[100]\tvalid_0's l2: 0.015441\n",
      "Did not meet early stopping. Best iteration is:\n",
      "[99]\tvalid_0's l2: 0.0154328\n",
      "Training until validation scores don't improve for 20 rounds\n",
      "[10]\tvalid_0's l2: 0.0357052\n",
      "[20]\tvalid_0's l2: 0.0196192\n",
      "[30]\tvalid_0's l2: 0.0169844\n",
      "[40]\tvalid_0's l2: 0.0162769\n",
      "[50]\tvalid_0's l2: 0.0162438\n",
      "[60]\tvalid_0's l2: 0.0161634\n",
      "[70]\tvalid_0's l2: 0.016096\n",
      "[80]\tvalid_0's l2: 0.016154\n"
     ]
    },
    {
     "name": "stderr",
     "output_type": "stream",
     "text": [
      "\u001b[32m[I 2023-10-13 14:45:56,246]\u001b[0m Trial 15 finished with value: 0.1267252762313722 and parameters: {'num_leaves': 63, 'max_bin': 180, 'bagging_fraction': 0.8, 'bagging_freq': 4, 'feature_fraction': 0.9, 'min_data_in_leaf': 5, 'min_sum_hessian_in_leaf': 3}. Best is trial 7 with value: 0.12259853160004072.\u001b[0m\n"
     ]
    },
    {
     "name": "stdout",
     "output_type": "stream",
     "text": [
      "Early stopping, best iteration is:\n",
      "[64]\tvalid_0's l2: 0.0160593\n",
      "Training until validation scores don't improve for 20 rounds\n",
      "[10]\tvalid_0's l2: 0.0383404\n",
      "[20]\tvalid_0's l2: 0.0228333\n",
      "[30]\tvalid_0's l2: 0.0191353\n",
      "[40]\tvalid_0's l2: 0.0187751\n",
      "[50]\tvalid_0's l2: 0.0183393\n",
      "[60]\tvalid_0's l2: 0.0186748\n",
      "[70]\tvalid_0's l2: 0.0183452\n",
      "[80]\tvalid_0's l2: 0.0178761\n",
      "[90]\tvalid_0's l2: 0.0178756\n"
     ]
    },
    {
     "name": "stderr",
     "output_type": "stream",
     "text": [
      "\u001b[32m[I 2023-10-13 14:45:56,944]\u001b[0m Trial 16 finished with value: 0.13338077870038745 and parameters: {'num_leaves': 50, 'max_bin': 198, 'bagging_fraction': 0.5, 'bagging_freq': 10, 'feature_fraction': 0.9, 'min_data_in_leaf': 6, 'min_sum_hessian_in_leaf': 7}. Best is trial 7 with value: 0.12259853160004072.\u001b[0m\n"
     ]
    },
    {
     "name": "stdout",
     "output_type": "stream",
     "text": [
      "[100]\tvalid_0's l2: 0.0178557\n",
      "Did not meet early stopping. Best iteration is:\n",
      "[96]\tvalid_0's l2: 0.0177904\n",
      "Training until validation scores don't improve for 20 rounds\n",
      "[10]\tvalid_0's l2: 0.0379168\n",
      "[20]\tvalid_0's l2: 0.0213755\n",
      "[30]\tvalid_0's l2: 0.0179432\n",
      "[40]\tvalid_0's l2: 0.0169174\n",
      "[50]\tvalid_0's l2: 0.0166368\n",
      "[60]\tvalid_0's l2: 0.0164\n",
      "[70]\tvalid_0's l2: 0.0164301\n",
      "[80]\tvalid_0's l2: 0.0162979\n",
      "[90]\tvalid_0's l2: 0.0162776\n",
      "[100]\tvalid_0's l2: 0.0162862\n",
      "Did not meet early stopping. Best iteration is:\n",
      "[84]\tvalid_0's l2: 0.0162334\n"
     ]
    },
    {
     "name": "stderr",
     "output_type": "stream",
     "text": [
      "\u001b[32m[I 2023-10-13 14:45:57,575]\u001b[0m Trial 17 finished with value: 0.12741034998824516 and parameters: {'num_leaves': 47, 'max_bin': 154, 'bagging_fraction': 0.8, 'bagging_freq': 4, 'feature_fraction': 0.7000000000000001, 'min_data_in_leaf': 8, 'min_sum_hessian_in_leaf': 1}. Best is trial 7 with value: 0.12259853160004072.\u001b[0m\n"
     ]
    },
    {
     "name": "stdout",
     "output_type": "stream",
     "text": [
      "Training until validation scores don't improve for 20 rounds\n",
      "[10]\tvalid_0's l2: 0.040062\n",
      "[20]\tvalid_0's l2: 0.0216572\n",
      "[30]\tvalid_0's l2: 0.0173218\n",
      "[40]\tvalid_0's l2: 0.015832\n",
      "[50]\tvalid_0's l2: 0.0156276\n",
      "[60]\tvalid_0's l2: 0.015582\n"
     ]
    },
    {
     "name": "stderr",
     "output_type": "stream",
     "text": [
      "\u001b[32m[I 2023-10-13 14:45:58,123]\u001b[0m Trial 18 finished with value: 0.1232777329188583 and parameters: {'num_leaves': 42, 'max_bin': 69, 'bagging_fraction': 0.6000000000000001, 'bagging_freq': 4, 'feature_fraction': 0.4, 'min_data_in_leaf': 10, 'min_sum_hessian_in_leaf': 9}. Best is trial 7 with value: 0.12259853160004072.\u001b[0m\n"
     ]
    },
    {
     "name": "stdout",
     "output_type": "stream",
     "text": [
      "[70]\tvalid_0's l2: 0.0153751\n",
      "[80]\tvalid_0's l2: 0.0152619\n",
      "[90]\tvalid_0's l2: 0.0153609\n",
      "[100]\tvalid_0's l2: 0.0153106\n",
      "Did not meet early stopping. Best iteration is:\n",
      "[83]\tvalid_0's l2: 0.0151974\n"
     ]
    },
    {
     "name": "stderr",
     "output_type": "stream",
     "text": [
      "\u001b[32m[I 2023-10-13 14:45:58,420]\u001b[0m Trial 19 finished with value: 0.12172782513069659 and parameters: {'num_leaves': 6, 'max_bin': 53, 'bagging_fraction': 0.8, 'bagging_freq': 1, 'feature_fraction': 0.5, 'min_data_in_leaf': 5, 'min_sum_hessian_in_leaf': 9}. Best is trial 19 with value: 0.12172782513069659.\u001b[0m\n"
     ]
    },
    {
     "name": "stdout",
     "output_type": "stream",
     "text": [
      "Training until validation scores don't improve for 20 rounds\n",
      "[10]\tvalid_0's l2: 0.048439\n",
      "[20]\tvalid_0's l2: 0.0274118\n",
      "[30]\tvalid_0's l2: 0.0207846\n",
      "[40]\tvalid_0's l2: 0.0184156\n",
      "[50]\tvalid_0's l2: 0.0166633\n",
      "[60]\tvalid_0's l2: 0.0158488\n",
      "[70]\tvalid_0's l2: 0.0154551\n",
      "[80]\tvalid_0's l2: 0.0151203\n",
      "[90]\tvalid_0's l2: 0.014891\n",
      "[100]\tvalid_0's l2: 0.0148177\n",
      "Did not meet early stopping. Best iteration is:\n",
      "[100]\tvalid_0's l2: 0.0148177\n",
      "Training until validation scores don't improve for 20 rounds\n",
      "[10]\tvalid_0's l2: 0.0383097\n",
      "[20]\tvalid_0's l2: 0.0211045\n",
      "[30]\tvalid_0's l2: 0.0172191\n",
      "[40]\tvalid_0's l2: 0.0163801\n",
      "[50]\tvalid_0's l2: 0.0160887\n",
      "[60]\tvalid_0's l2: 0.0159018\n"
     ]
    },
    {
     "name": "stderr",
     "output_type": "stream",
     "text": [
      "\u001b[32m[I 2023-10-13 14:45:58,937]\u001b[0m Trial 20 finished with value: 0.12473611322523533 and parameters: {'num_leaves': 30, 'max_bin': 117, 'bagging_fraction': 0.9, 'bagging_freq': 1, 'feature_fraction': 0.9, 'min_data_in_leaf': 15, 'min_sum_hessian_in_leaf': 7}. Best is trial 19 with value: 0.12172782513069659.\u001b[0m\n"
     ]
    },
    {
     "name": "stdout",
     "output_type": "stream",
     "text": [
      "[70]\tvalid_0's l2: 0.0157567\n",
      "[80]\tvalid_0's l2: 0.0156115\n",
      "[90]\tvalid_0's l2: 0.015576\n",
      "[100]\tvalid_0's l2: 0.0155779\n",
      "Did not meet early stopping. Best iteration is:\n",
      "[92]\tvalid_0's l2: 0.0155591\n",
      "Training until validation scores don't improve for 20 rounds\n",
      "[10]\tvalid_0's l2: 0.0416505\n",
      "[20]\tvalid_0's l2: 0.0234845\n",
      "[30]\tvalid_0's l2: 0.0194237\n",
      "[40]\tvalid_0's l2: 0.0178276\n",
      "[50]\tvalid_0's l2: 0.0170641\n",
      "[60]\tvalid_0's l2: 0.0169954\n",
      "[70]\tvalid_0's l2: 0.0167142\n",
      "[80]\tvalid_0's l2: 0.0166721\n",
      "[90]\tvalid_0's l2: 0.016439\n",
      "[100]\tvalid_0's l2: 0.0162515\n",
      "Did not meet early stopping. Best iteration is:\n",
      "[98]\tvalid_0's l2: 0.0162462\n"
     ]
    },
    {
     "name": "stderr",
     "output_type": "stream",
     "text": [
      "\u001b[32m[I 2023-10-13 14:45:59,279]\u001b[0m Trial 21 finished with value: 0.12746048465134704 and parameters: {'num_leaves': 17, 'max_bin': 171, 'bagging_fraction': 0.6000000000000001, 'bagging_freq': 9, 'feature_fraction': 0.5, 'min_data_in_leaf': 15, 'min_sum_hessian_in_leaf': 6}. Best is trial 19 with value: 0.12172782513069659.\u001b[0m\n"
     ]
    },
    {
     "name": "stdout",
     "output_type": "stream",
     "text": [
      "Training until validation scores don't improve for 20 rounds\n",
      "[10]\tvalid_0's l2: 0.0390595\n",
      "[20]\tvalid_0's l2: 0.0227939\n",
      "[30]\tvalid_0's l2: 0.0191033\n",
      "[40]\tvalid_0's l2: 0.018047\n",
      "[50]\tvalid_0's l2: 0.0176977\n",
      "[60]\tvalid_0's l2: 0.0174976\n",
      "[70]\tvalid_0's l2: 0.016967\n"
     ]
    },
    {
     "name": "stderr",
     "output_type": "stream",
     "text": [
      "\u001b[32m[I 2023-10-13 14:45:59,763]\u001b[0m Trial 22 finished with value: 0.1298116867384763 and parameters: {'num_leaves': 50, 'max_bin': 75, 'bagging_fraction': 0.7000000000000001, 'bagging_freq': 10, 'feature_fraction': 0.7000000000000001, 'min_data_in_leaf': 15, 'min_sum_hessian_in_leaf': 4}. Best is trial 19 with value: 0.12172782513069659.\u001b[0m\n"
     ]
    },
    {
     "name": "stdout",
     "output_type": "stream",
     "text": [
      "[80]\tvalid_0's l2: 0.0170102\n",
      "[90]\tvalid_0's l2: 0.0168511\n",
      "[100]\tvalid_0's l2: 0.0168993\n",
      "Did not meet early stopping. Best iteration is:\n",
      "[90]\tvalid_0's l2: 0.0168511\n",
      "Training until validation scores don't improve for 20 rounds\n",
      "[10]\tvalid_0's l2: 0.0399407\n",
      "[20]\tvalid_0's l2: 0.0230911\n",
      "[30]\tvalid_0's l2: 0.0194374\n",
      "[40]\tvalid_0's l2: 0.0187802\n",
      "[50]\tvalid_0's l2: 0.0181286\n",
      "[60]\tvalid_0's l2: 0.0182658\n",
      "[70]\tvalid_0's l2: 0.0178416\n",
      "[80]\tvalid_0's l2: 0.0179137\n"
     ]
    },
    {
     "name": "stderr",
     "output_type": "stream",
     "text": [
      "\u001b[32m[I 2023-10-13 14:46:00,224]\u001b[0m Trial 23 finished with value: 0.13265360968188072 and parameters: {'num_leaves': 37, 'max_bin': 154, 'bagging_fraction': 0.6000000000000001, 'bagging_freq': 10, 'feature_fraction': 0.6000000000000001, 'min_data_in_leaf': 15, 'min_sum_hessian_in_leaf': 8}. Best is trial 19 with value: 0.12172782513069659.\u001b[0m\n"
     ]
    },
    {
     "name": "stdout",
     "output_type": "stream",
     "text": [
      "[90]\tvalid_0's l2: 0.0176994\n",
      "[100]\tvalid_0's l2: 0.0179922\n",
      "Did not meet early stopping. Best iteration is:\n",
      "[86]\tvalid_0's l2: 0.017597\n",
      "Training until validation scores don't improve for 20 rounds\n",
      "[10]\tvalid_0's l2: 0.0391288\n",
      "[20]\tvalid_0's l2: 0.0219818\n",
      "[30]\tvalid_0's l2: 0.0178391\n",
      "[40]\tvalid_0's l2: 0.0167738\n",
      "[50]\tvalid_0's l2: 0.0160074\n",
      "[60]\tvalid_0's l2: 0.0157397\n"
     ]
    },
    {
     "name": "stderr",
     "output_type": "stream",
     "text": [
      "\u001b[32m[I 2023-10-13 14:46:00,762]\u001b[0m Trial 24 finished with value: 0.12334407374954612 and parameters: {'num_leaves': 60, 'max_bin': 129, 'bagging_fraction': 0.8, 'bagging_freq': 9, 'feature_fraction': 0.4, 'min_data_in_leaf': 13, 'min_sum_hessian_in_leaf': 7}. Best is trial 19 with value: 0.12172782513069659.\u001b[0m\n"
     ]
    },
    {
     "name": "stdout",
     "output_type": "stream",
     "text": [
      "[70]\tvalid_0's l2: 0.0154505\n",
      "[80]\tvalid_0's l2: 0.0153102\n",
      "[90]\tvalid_0's l2: 0.0153115\n",
      "[100]\tvalid_0's l2: 0.0152233\n",
      "Did not meet early stopping. Best iteration is:\n",
      "[99]\tvalid_0's l2: 0.0152138\n",
      "Training until validation scores don't improve for 20 rounds\n",
      "[10]\tvalid_0's l2: 0.0377474\n",
      "[20]\tvalid_0's l2: 0.0207005\n",
      "[30]\tvalid_0's l2: 0.0173219\n",
      "[40]\tvalid_0's l2: 0.016221\n",
      "[50]\tvalid_0's l2: 0.0158521\n",
      "[60]\tvalid_0's l2: 0.0157341\n",
      "[70]\tvalid_0's l2: 0.015701\n"
     ]
    },
    {
     "name": "stderr",
     "output_type": "stream",
     "text": [
      "\u001b[32m[I 2023-10-13 14:46:01,266]\u001b[0m Trial 25 finished with value: 0.12484262752358345 and parameters: {'num_leaves': 51, 'max_bin': 143, 'bagging_fraction': 0.7000000000000001, 'bagging_freq': 7, 'feature_fraction': 0.7000000000000001, 'min_data_in_leaf': 15, 'min_sum_hessian_in_leaf': 9}. Best is trial 19 with value: 0.12172782513069659.\u001b[0m\n"
     ]
    },
    {
     "name": "stdout",
     "output_type": "stream",
     "text": [
      "[80]\tvalid_0's l2: 0.0156518\n",
      "[90]\tvalid_0's l2: 0.0157758\n",
      "Early stopping, best iteration is:\n",
      "[77]\tvalid_0's l2: 0.0155857\n"
     ]
    },
    {
     "name": "stderr",
     "output_type": "stream",
     "text": [
      "\u001b[32m[I 2023-10-13 14:46:01,539]\u001b[0m Trial 26 finished with value: 0.12880210981617882 and parameters: {'num_leaves': 7, 'max_bin': 53, 'bagging_fraction': 0.6000000000000001, 'bagging_freq': 7, 'feature_fraction': 0.9, 'min_data_in_leaf': 16, 'min_sum_hessian_in_leaf': 6}. Best is trial 19 with value: 0.12172782513069659.\u001b[0m\n"
     ]
    },
    {
     "name": "stdout",
     "output_type": "stream",
     "text": [
      "Training until validation scores don't improve for 20 rounds\n",
      "[10]\tvalid_0's l2: 0.0454027\n",
      "[20]\tvalid_0's l2: 0.0255768\n",
      "[30]\tvalid_0's l2: 0.0201496\n",
      "[40]\tvalid_0's l2: 0.0179124\n",
      "[50]\tvalid_0's l2: 0.0171838\n",
      "[60]\tvalid_0's l2: 0.0170854\n",
      "[70]\tvalid_0's l2: 0.0169355\n",
      "[80]\tvalid_0's l2: 0.0168021\n",
      "[90]\tvalid_0's l2: 0.0169064\n",
      "[100]\tvalid_0's l2: 0.0166005\n",
      "Did not meet early stopping. Best iteration is:\n",
      "[98]\tvalid_0's l2: 0.01659\n",
      "Training until validation scores don't improve for 20 rounds\n",
      "[10]\tvalid_0's l2: 0.0391202\n",
      "[20]\tvalid_0's l2: 0.0216502\n",
      "[30]\tvalid_0's l2: 0.0185723\n",
      "[40]\tvalid_0's l2: 0.0171882\n",
      "[50]\tvalid_0's l2: 0.0174202\n",
      "[60]\tvalid_0's l2: 0.0169717\n",
      "[70]\tvalid_0's l2: 0.0171756\n",
      "[80]\tvalid_0's l2: 0.0173947\n",
      "Early stopping, best iteration is:\n",
      "[64]\tvalid_0's l2: 0.016904\n"
     ]
    },
    {
     "name": "stderr",
     "output_type": "stream",
     "text": [
      "\u001b[32m[I 2023-10-13 14:46:01,915]\u001b[0m Trial 27 finished with value: 0.13001529925186453 and parameters: {'num_leaves': 27, 'max_bin': 93, 'bagging_fraction': 0.4, 'bagging_freq': 9, 'feature_fraction': 0.6000000000000001, 'min_data_in_leaf': 8, 'min_sum_hessian_in_leaf': 6}. Best is trial 19 with value: 0.12172782513069659.\u001b[0m\n"
     ]
    },
    {
     "name": "stdout",
     "output_type": "stream",
     "text": [
      "Training until validation scores don't improve for 20 rounds\n",
      "[10]\tvalid_0's l2: 0.0395605\n",
      "[20]\tvalid_0's l2: 0.0226695\n",
      "[30]\tvalid_0's l2: 0.0193827\n",
      "[40]\tvalid_0's l2: 0.0177934\n",
      "[50]\tvalid_0's l2: 0.017332\n",
      "[60]\tvalid_0's l2: 0.0170165\n",
      "[70]\tvalid_0's l2: 0.0169352\n",
      "[80]\tvalid_0's l2: 0.0170614\n",
      "Early stopping, best iteration is:\n",
      "[67]\tvalid_0's l2: 0.0168259\n"
     ]
    },
    {
     "name": "stderr",
     "output_type": "stream",
     "text": [
      "\u001b[32m[I 2023-10-13 14:46:02,276]\u001b[0m Trial 28 finished with value: 0.12971470077299213 and parameters: {'num_leaves': 32, 'max_bin': 161, 'bagging_fraction': 0.4, 'bagging_freq': 4, 'feature_fraction': 0.5, 'min_data_in_leaf': 7, 'min_sum_hessian_in_leaf': 4}. Best is trial 19 with value: 0.12172782513069659.\u001b[0m\n"
     ]
    },
    {
     "name": "stdout",
     "output_type": "stream",
     "text": [
      "Training until validation scores don't improve for 20 rounds\n",
      "[10]\tvalid_0's l2: 0.0391773\n",
      "[20]\tvalid_0's l2: 0.0210373\n",
      "[30]\tvalid_0's l2: 0.0176878\n",
      "[40]\tvalid_0's l2: 0.0163047\n",
      "[50]\tvalid_0's l2: 0.0159096\n",
      "[60]\tvalid_0's l2: 0.0158741\n",
      "[70]\tvalid_0's l2: 0.0157906\n"
     ]
    },
    {
     "name": "stderr",
     "output_type": "stream",
     "text": [
      "\u001b[32m[I 2023-10-13 14:46:02,768]\u001b[0m Trial 29 finished with value: 0.12514969443858553 and parameters: {'num_leaves': 50, 'max_bin': 198, 'bagging_fraction': 0.6000000000000001, 'bagging_freq': 4, 'feature_fraction': 0.6000000000000001, 'min_data_in_leaf': 11, 'min_sum_hessian_in_leaf': 10}. Best is trial 19 with value: 0.12172782513069659.\u001b[0m\n"
     ]
    },
    {
     "name": "stdout",
     "output_type": "stream",
     "text": [
      "[80]\tvalid_0's l2: 0.0157471\n",
      "[90]\tvalid_0's l2: 0.0160225\n",
      "[100]\tvalid_0's l2: 0.0160073\n",
      "Did not meet early stopping. Best iteration is:\n",
      "[82]\tvalid_0's l2: 0.0156624\n",
      "Training until validation scores don't improve for 20 rounds\n",
      "[10]\tvalid_0's l2: 0.0373535\n",
      "[20]\tvalid_0's l2: 0.0211073\n",
      "[30]\tvalid_0's l2: 0.0177799\n",
      "[40]\tvalid_0's l2: 0.0166095\n",
      "[50]\tvalid_0's l2: 0.0159139\n",
      "[60]\tvalid_0's l2: 0.0157389\n",
      "[70]\tvalid_0's l2: 0.0154361\n",
      "[80]\tvalid_0's l2: 0.0154043\n",
      "[90]\tvalid_0's l2: 0.0153625\n",
      "[100]\tvalid_0's l2: 0.0152615\n",
      "Did not meet early stopping. Best iteration is:\n",
      "[84]\tvalid_0's l2: 0.0152408\n"
     ]
    },
    {
     "name": "stderr",
     "output_type": "stream",
     "text": [
      "\u001b[32m[I 2023-10-13 14:46:03,157]\u001b[0m Trial 30 finished with value: 0.12345381563494406 and parameters: {'num_leaves': 45, 'max_bin': 181, 'bagging_fraction': 0.6000000000000001, 'bagging_freq': 3, 'feature_fraction': 0.9, 'min_data_in_leaf': 11, 'min_sum_hessian_in_leaf': 8}. Best is trial 19 with value: 0.12172782513069659.\u001b[0m\n"
     ]
    },
    {
     "name": "stdout",
     "output_type": "stream",
     "text": [
      "Training until validation scores don't improve for 20 rounds\n",
      "[10]\tvalid_0's l2: 0.0380216\n",
      "[20]\tvalid_0's l2: 0.02093\n",
      "[30]\tvalid_0's l2: 0.0174382\n",
      "[40]\tvalid_0's l2: 0.0163489\n",
      "[50]\tvalid_0's l2: 0.0157363\n",
      "[60]\tvalid_0's l2: 0.0153863\n",
      "[70]\tvalid_0's l2: 0.0152525\n",
      "[80]\tvalid_0's l2: 0.0154142\n"
     ]
    },
    {
     "name": "stderr",
     "output_type": "stream",
     "text": [
      "\u001b[32m[I 2023-10-13 14:46:03,558]\u001b[0m Trial 31 finished with value: 0.123328955840054 and parameters: {'num_leaves': 43, 'max_bin': 111, 'bagging_fraction': 0.8, 'bagging_freq': 3, 'feature_fraction': 0.7000000000000001, 'min_data_in_leaf': 3, 'min_sum_hessian_in_leaf': 6}. Best is trial 19 with value: 0.12172782513069659.\u001b[0m\n"
     ]
    },
    {
     "name": "stdout",
     "output_type": "stream",
     "text": [
      "Early stopping, best iteration is:\n",
      "[66]\tvalid_0's l2: 0.01521\n",
      "Training until validation scores don't improve for 20 rounds\n",
      "[10]\tvalid_0's l2: 0.0371459\n",
      "[20]\tvalid_0's l2: 0.020738\n",
      "[30]\tvalid_0's l2: 0.0168374\n",
      "[40]\tvalid_0's l2: 0.0163227\n",
      "[50]\tvalid_0's l2: 0.0159006\n",
      "[60]\tvalid_0's l2: 0.0155717\n",
      "[70]\tvalid_0's l2: 0.0154717\n",
      "[80]\tvalid_0's l2: 0.0155844\n",
      "[90]\tvalid_0's l2: 0.0157531\n",
      "Early stopping, best iteration is:\n",
      "[74]\tvalid_0's l2: 0.0154503\n"
     ]
    },
    {
     "name": "stderr",
     "output_type": "stream",
     "text": [
      "\u001b[32m[I 2023-10-13 14:46:03,946]\u001b[0m Trial 32 finished with value: 0.12429923143484252 and parameters: {'num_leaves': 44, 'max_bin': 86, 'bagging_fraction': 0.5, 'bagging_freq': 3, 'feature_fraction': 0.5, 'min_data_in_leaf': 7, 'min_sum_hessian_in_leaf': 1}. Best is trial 19 with value: 0.12172782513069659.\u001b[0m\n",
      "\u001b[32m[I 2023-10-13 14:46:04,199]\u001b[0m Trial 33 finished with value: 0.12999893392738485 and parameters: {'num_leaves': 12, 'max_bin': 179, 'bagging_fraction': 0.8, 'bagging_freq': 4, 'feature_fraction': 0.7000000000000001, 'min_data_in_leaf': 10, 'min_sum_hessian_in_leaf': 5}. Best is trial 19 with value: 0.12172782513069659.\u001b[0m\n"
     ]
    },
    {
     "name": "stdout",
     "output_type": "stream",
     "text": [
      "Training until validation scores don't improve for 20 rounds\n",
      "[10]\tvalid_0's l2: 0.0427952\n",
      "[20]\tvalid_0's l2: 0.0241761\n",
      "[30]\tvalid_0's l2: 0.0193474\n",
      "[40]\tvalid_0's l2: 0.0178352\n",
      "[50]\tvalid_0's l2: 0.0176521\n",
      "[60]\tvalid_0's l2: 0.0173341\n",
      "[70]\tvalid_0's l2: 0.0170461\n",
      "[80]\tvalid_0's l2: 0.0169894\n",
      "[90]\tvalid_0's l2: 0.0169936\n",
      "Early stopping, best iteration is:\n",
      "[79]\tvalid_0's l2: 0.0168997\n",
      "Training until validation scores don't improve for 20 rounds\n",
      "[10]\tvalid_0's l2: 0.0401541\n",
      "[20]\tvalid_0's l2: 0.0221653\n",
      "[30]\tvalid_0's l2: 0.0180262\n",
      "[40]\tvalid_0's l2: 0.0166387\n",
      "[50]\tvalid_0's l2: 0.016022\n",
      "[60]\tvalid_0's l2: 0.0157035\n",
      "[70]\tvalid_0's l2: 0.0156645\n",
      "[80]\tvalid_0's l2: 0.0156095\n",
      "[90]\tvalid_0's l2: 0.0157663\n",
      "[100]\tvalid_0's l2: 0.0160339\n",
      "Did not meet early stopping. Best iteration is:\n",
      "[83]\tvalid_0's l2: 0.0154439\n"
     ]
    },
    {
     "name": "stderr",
     "output_type": "stream",
     "text": [
      "\u001b[32m[I 2023-10-13 14:46:04,528]\u001b[0m Trial 34 finished with value: 0.12427353121510382 and parameters: {'num_leaves': 40, 'max_bin': 75, 'bagging_fraction': 0.5, 'bagging_freq': 4, 'feature_fraction': 0.9, 'min_data_in_leaf': 15, 'min_sum_hessian_in_leaf': 2}. Best is trial 19 with value: 0.12172782513069659.\u001b[0m\n"
     ]
    },
    {
     "name": "stdout",
     "output_type": "stream",
     "text": [
      "Training until validation scores don't improve for 20 rounds\n",
      "[10]\tvalid_0's l2: 0.0375973\n",
      "[20]\tvalid_0's l2: 0.021111\n",
      "[30]\tvalid_0's l2: 0.0185933\n",
      "[40]\tvalid_0's l2: 0.0173603\n",
      "[50]\tvalid_0's l2: 0.0167247\n",
      "[60]\tvalid_0's l2: 0.0163548\n",
      "[70]\tvalid_0's l2: 0.0162163\n",
      "[80]\tvalid_0's l2: 0.0159594\n",
      "[90]\tvalid_0's l2: 0.0160133\n",
      "[100]\tvalid_0's l2: 0.0158618\n",
      "Did not meet early stopping. Best iteration is:\n",
      "[100]\tvalid_0's l2: 0.0158618\n"
     ]
    },
    {
     "name": "stderr",
     "output_type": "stream",
     "text": [
      "\u001b[32m[I 2023-10-13 14:46:04,856]\u001b[0m Trial 35 finished with value: 0.12594375804199193 and parameters: {'num_leaves': 37, 'max_bin': 196, 'bagging_fraction': 0.7000000000000001, 'bagging_freq': 5, 'feature_fraction': 0.5, 'min_data_in_leaf': 7, 'min_sum_hessian_in_leaf': 6}. Best is trial 19 with value: 0.12172782513069659.\u001b[0m\n",
      "\u001b[32m[I 2023-10-13 14:46:05,110]\u001b[0m Trial 36 finished with value: 0.1272204985968168 and parameters: {'num_leaves': 16, 'max_bin': 94, 'bagging_fraction': 0.8, 'bagging_freq': 3, 'feature_fraction': 0.9, 'min_data_in_leaf': 7, 'min_sum_hessian_in_leaf': 8}. Best is trial 19 with value: 0.12172782513069659.\u001b[0m\n"
     ]
    },
    {
     "name": "stdout",
     "output_type": "stream",
     "text": [
      "Training until validation scores don't improve for 20 rounds\n",
      "[10]\tvalid_0's l2: 0.0427888\n",
      "[20]\tvalid_0's l2: 0.0241075\n",
      "[30]\tvalid_0's l2: 0.0193805\n",
      "[40]\tvalid_0's l2: 0.0177855\n",
      "[50]\tvalid_0's l2: 0.017135\n",
      "[60]\tvalid_0's l2: 0.016669\n",
      "[70]\tvalid_0's l2: 0.0163854\n",
      "[80]\tvalid_0's l2: 0.0163373\n",
      "[90]\tvalid_0's l2: 0.0161851\n",
      "[100]\tvalid_0's l2: 0.0162675\n",
      "Did not meet early stopping. Best iteration is:\n",
      "[90]\tvalid_0's l2: 0.0161851\n"
     ]
    },
    {
     "name": "stderr",
     "output_type": "stream",
     "text": [
      "\u001b[32m[I 2023-10-13 14:46:05,417]\u001b[0m Trial 37 finished with value: 0.12834318664325964 and parameters: {'num_leaves': 43, 'max_bin': 200, 'bagging_fraction': 0.6000000000000001, 'bagging_freq': 7, 'feature_fraction': 0.9, 'min_data_in_leaf': 14, 'min_sum_hessian_in_leaf': 4}. Best is trial 19 with value: 0.12172782513069659.\u001b[0m\n"
     ]
    },
    {
     "name": "stdout",
     "output_type": "stream",
     "text": [
      "Training until validation scores don't improve for 20 rounds\n",
      "[10]\tvalid_0's l2: 0.038896\n",
      "[20]\tvalid_0's l2: 0.0224227\n",
      "[30]\tvalid_0's l2: 0.0183555\n",
      "[40]\tvalid_0's l2: 0.0167552\n",
      "[50]\tvalid_0's l2: 0.0167317\n",
      "[60]\tvalid_0's l2: 0.0165061\n",
      "[70]\tvalid_0's l2: 0.0166069\n",
      "[80]\tvalid_0's l2: 0.0166279\n",
      "Early stopping, best iteration is:\n",
      "[62]\tvalid_0's l2: 0.016472\n",
      "Training until validation scores don't improve for 20 rounds\n",
      "[10]\tvalid_0's l2: 0.0389032\n",
      "[20]\tvalid_0's l2: 0.0224551\n",
      "[30]\tvalid_0's l2: 0.018939\n",
      "[40]\tvalid_0's l2: 0.0171847\n",
      "[50]\tvalid_0's l2: 0.01654\n",
      "[60]\tvalid_0's l2: 0.0163803\n",
      "[70]\tvalid_0's l2: 0.016271\n",
      "[80]\tvalid_0's l2: 0.0163443\n",
      "[90]\tvalid_0's l2: 0.0165364\n",
      "Early stopping, best iteration is:\n",
      "[74]\tvalid_0's l2: 0.0161363\n"
     ]
    },
    {
     "name": "stderr",
     "output_type": "stream",
     "text": [
      "\u001b[32m[I 2023-10-13 14:46:05,784]\u001b[0m Trial 38 finished with value: 0.12702878173239165 and parameters: {'num_leaves': 53, 'max_bin': 91, 'bagging_fraction': 0.4, 'bagging_freq': 6, 'feature_fraction': 0.8, 'min_data_in_leaf': 4, 'min_sum_hessian_in_leaf': 1}. Best is trial 19 with value: 0.12172782513069659.\u001b[0m\n"
     ]
    },
    {
     "name": "stdout",
     "output_type": "stream",
     "text": [
      "Training until validation scores don't improve for 20 rounds\n",
      "[10]\tvalid_0's l2: 0.0396227\n",
      "[20]\tvalid_0's l2: 0.0218221\n",
      "[30]\tvalid_0's l2: 0.0187369\n",
      "[40]\tvalid_0's l2: 0.0180458\n",
      "[50]\tvalid_0's l2: 0.0177038\n",
      "[60]\tvalid_0's l2: 0.0176539\n",
      "[70]\tvalid_0's l2: 0.0174618\n",
      "[80]\tvalid_0's l2: 0.0175032\n",
      "[90]\tvalid_0's l2: 0.017191\n",
      "[100]\tvalid_0's l2: 0.0170845\n",
      "Did not meet early stopping. Best iteration is:\n",
      "[100]\tvalid_0's l2: 0.0170845\n"
     ]
    },
    {
     "name": "stderr",
     "output_type": "stream",
     "text": [
      "\u001b[32m[I 2023-10-13 14:46:06,120]\u001b[0m Trial 39 finished with value: 0.13070774524579098 and parameters: {'num_leaves': 31, 'max_bin': 123, 'bagging_fraction': 0.7000000000000001, 'bagging_freq': 2, 'feature_fraction': 0.9, 'min_data_in_leaf': 2, 'min_sum_hessian_in_leaf': 7}. Best is trial 19 with value: 0.12172782513069659.\u001b[0m\n",
      "\u001b[32m[I 2023-10-13 14:46:06,396]\u001b[0m Trial 40 finished with value: 0.1283559568083025 and parameters: {'num_leaves': 20, 'max_bin': 156, 'bagging_fraction': 0.4, 'bagging_freq': 9, 'feature_fraction': 0.8, 'min_data_in_leaf': 5, 'min_sum_hessian_in_leaf': 4}. Best is trial 19 with value: 0.12172782513069659.\u001b[0m\n"
     ]
    },
    {
     "name": "stdout",
     "output_type": "stream",
     "text": [
      "Training until validation scores don't improve for 20 rounds\n",
      "[10]\tvalid_0's l2: 0.0407755\n",
      "[20]\tvalid_0's l2: 0.0231979\n",
      "[30]\tvalid_0's l2: 0.0189019\n",
      "[40]\tvalid_0's l2: 0.0176546\n",
      "[50]\tvalid_0's l2: 0.017239\n",
      "[60]\tvalid_0's l2: 0.0168316\n",
      "[70]\tvalid_0's l2: 0.0164752\n",
      "[80]\tvalid_0's l2: 0.0166272\n",
      "[90]\tvalid_0's l2: 0.0168367\n",
      "Early stopping, best iteration is:\n",
      "[70]\tvalid_0's l2: 0.0164752\n"
     ]
    },
    {
     "name": "stderr",
     "output_type": "stream",
     "text": [
      "\u001b[32m[I 2023-10-13 14:46:06,629]\u001b[0m Trial 41 finished with value: 0.12524127494813572 and parameters: {'num_leaves': 12, 'max_bin': 141, 'bagging_fraction': 0.5, 'bagging_freq': 8, 'feature_fraction': 0.4, 'min_data_in_leaf': 10, 'min_sum_hessian_in_leaf': 8}. Best is trial 19 with value: 0.12172782513069659.\u001b[0m\n"
     ]
    },
    {
     "name": "stdout",
     "output_type": "stream",
     "text": [
      "Training until validation scores don't improve for 20 rounds\n",
      "[10]\tvalid_0's l2: 0.0431536\n",
      "[20]\tvalid_0's l2: 0.024117\n",
      "[30]\tvalid_0's l2: 0.0189464\n",
      "[40]\tvalid_0's l2: 0.0168583\n",
      "[50]\tvalid_0's l2: 0.0163288\n",
      "[60]\tvalid_0's l2: 0.0158803\n",
      "[70]\tvalid_0's l2: 0.0160515\n",
      "[80]\tvalid_0's l2: 0.0158301\n",
      "[90]\tvalid_0's l2: 0.0157524\n",
      "[100]\tvalid_0's l2: 0.0158105\n",
      "Did not meet early stopping. Best iteration is:\n",
      "[85]\tvalid_0's l2: 0.0156854\n"
     ]
    },
    {
     "name": "stderr",
     "output_type": "stream",
     "text": [
      "\u001b[32m[I 2023-10-13 14:46:06,929]\u001b[0m Trial 42 finished with value: 0.12748362388133552 and parameters: {'num_leaves': 27, 'max_bin': 63, 'bagging_fraction': 0.9, 'bagging_freq': 9, 'feature_fraction': 0.9, 'min_data_in_leaf': 2, 'min_sum_hessian_in_leaf': 5}. Best is trial 19 with value: 0.12172782513069659.\u001b[0m\n"
     ]
    },
    {
     "name": "stdout",
     "output_type": "stream",
     "text": [
      "Training until validation scores don't improve for 20 rounds\n",
      "[10]\tvalid_0's l2: 0.039819\n",
      "[20]\tvalid_0's l2: 0.0226804\n",
      "[30]\tvalid_0's l2: 0.0182654\n",
      "[40]\tvalid_0's l2: 0.0171787\n",
      "[50]\tvalid_0's l2: 0.0166869\n",
      "[60]\tvalid_0's l2: 0.0165719\n",
      "[70]\tvalid_0's l2: 0.0163445\n",
      "[80]\tvalid_0's l2: 0.0163266\n",
      "[90]\tvalid_0's l2: 0.0162854\n",
      "Early stopping, best iteration is:\n",
      "[76]\tvalid_0's l2: 0.0162521\n",
      "Training until validation scores don't improve for 20 rounds\n",
      "[10]\tvalid_0's l2: 0.0394289\n",
      "[20]\tvalid_0's l2: 0.0205395\n",
      "[30]\tvalid_0's l2: 0.0170111\n",
      "[40]\tvalid_0's l2: 0.0155037\n",
      "[50]\tvalid_0's l2: 0.0150722\n",
      "[60]\tvalid_0's l2: 0.0151138\n",
      "[70]\tvalid_0's l2: 0.0147593\n",
      "[80]\tvalid_0's l2: 0.0148551\n",
      "[90]\tvalid_0's l2: 0.0147592\n",
      "[100]\tvalid_0's l2: 0.0148136\n",
      "Did not meet early stopping. Best iteration is:\n",
      "[85]\tvalid_0's l2: 0.0147253\n"
     ]
    },
    {
     "name": "stderr",
     "output_type": "stream",
     "text": [
      "\u001b[32m[I 2023-10-13 14:46:07,233]\u001b[0m Trial 43 finished with value: 0.12134767103950991 and parameters: {'num_leaves': 29, 'max_bin': 82, 'bagging_fraction': 0.8, 'bagging_freq': 7, 'feature_fraction': 0.5, 'min_data_in_leaf': 4, 'min_sum_hessian_in_leaf': 5}. Best is trial 43 with value: 0.12134767103950991.\u001b[0m\n"
     ]
    },
    {
     "name": "stdout",
     "output_type": "stream",
     "text": [
      "Training until validation scores don't improve for 20 rounds\n",
      "[10]\tvalid_0's l2: 0.0389302\n",
      "[20]\tvalid_0's l2: 0.0233823\n",
      "[30]\tvalid_0's l2: 0.0193876\n",
      "[40]\tvalid_0's l2: 0.0180893\n",
      "[50]\tvalid_0's l2: 0.0178028\n",
      "[60]\tvalid_0's l2: 0.0171464\n",
      "[70]\tvalid_0's l2: 0.0171815\n",
      "[80]\tvalid_0's l2: 0.0173227\n",
      "[90]\tvalid_0's l2: 0.0169699\n",
      "[100]\tvalid_0's l2: 0.0170468\n",
      "Did not meet early stopping. Best iteration is:\n",
      "[97]\tvalid_0's l2: 0.0169335\n"
     ]
    },
    {
     "name": "stderr",
     "output_type": "stream",
     "text": [
      "\u001b[32m[I 2023-10-13 14:46:07,543]\u001b[0m Trial 44 finished with value: 0.13012883102450765 and parameters: {'num_leaves': 26, 'max_bin': 172, 'bagging_fraction': 0.5, 'bagging_freq': 9, 'feature_fraction': 0.8, 'min_data_in_leaf': 7, 'min_sum_hessian_in_leaf': 1}. Best is trial 43 with value: 0.12134767103950991.\u001b[0m\n",
      "\u001b[32m[I 2023-10-13 14:46:07,780]\u001b[0m Trial 45 finished with value: 0.123947069335185 and parameters: {'num_leaves': 12, 'max_bin': 189, 'bagging_fraction': 0.9, 'bagging_freq': 5, 'feature_fraction': 0.5, 'min_data_in_leaf': 13, 'min_sum_hessian_in_leaf': 4}. Best is trial 43 with value: 0.12134767103950991.\u001b[0m\n"
     ]
    },
    {
     "name": "stdout",
     "output_type": "stream",
     "text": [
      "Training until validation scores don't improve for 20 rounds\n",
      "[10]\tvalid_0's l2: 0.0439707\n",
      "[20]\tvalid_0's l2: 0.0237164\n",
      "[30]\tvalid_0's l2: 0.0184788\n",
      "[40]\tvalid_0's l2: 0.0168678\n",
      "[50]\tvalid_0's l2: 0.0159502\n",
      "[60]\tvalid_0's l2: 0.0157787\n",
      "[70]\tvalid_0's l2: 0.0155768\n",
      "[80]\tvalid_0's l2: 0.0154855\n",
      "[90]\tvalid_0's l2: 0.0154741\n",
      "[100]\tvalid_0's l2: 0.0153762\n",
      "Did not meet early stopping. Best iteration is:\n",
      "[99]\tvalid_0's l2: 0.0153629\n",
      "Training until validation scores don't improve for 20 rounds\n",
      "[10]\tvalid_0's l2: 0.0398464\n",
      "[20]\tvalid_0's l2: 0.0215808\n",
      "[30]\tvalid_0's l2: 0.0179457\n",
      "[40]\tvalid_0's l2: 0.0166649\n",
      "[50]\tvalid_0's l2: 0.0159097\n",
      "[60]\tvalid_0's l2: 0.0157621\n",
      "[70]\tvalid_0's l2: 0.0155551\n",
      "[80]\tvalid_0's l2: 0.0155129\n",
      "[90]\tvalid_0's l2: 0.0154569\n",
      "[100]\tvalid_0's l2: 0.015537\n",
      "Did not meet early stopping. Best iteration is:\n",
      "[90]\tvalid_0's l2: 0.0154569\n"
     ]
    },
    {
     "name": "stderr",
     "output_type": "stream",
     "text": [
      "\u001b[32m[I 2023-10-13 14:46:08,140]\u001b[0m Trial 46 finished with value: 0.12432567580027962 and parameters: {'num_leaves': 39, 'max_bin': 155, 'bagging_fraction': 0.9, 'bagging_freq': 3, 'feature_fraction': 0.4, 'min_data_in_leaf': 7, 'min_sum_hessian_in_leaf': 8}. Best is trial 43 with value: 0.12134767103950991.\u001b[0m\n"
     ]
    },
    {
     "name": "stdout",
     "output_type": "stream",
     "text": [
      "Training until validation scores don't improve for 20 rounds\n",
      "[10]\tvalid_0's l2: 0.0363001\n",
      "[20]\tvalid_0's l2: 0.0206209\n",
      "[30]\tvalid_0's l2: 0.018117\n",
      "[40]\tvalid_0's l2: 0.0173296\n",
      "[50]\tvalid_0's l2: 0.0167964\n",
      "[60]\tvalid_0's l2: 0.0166616\n"
     ]
    },
    {
     "name": "stderr",
     "output_type": "stream",
     "text": [
      "\u001b[32m[I 2023-10-13 14:46:08,588]\u001b[0m Trial 47 finished with value: 0.12849417421011655 and parameters: {'num_leaves': 64, 'max_bin': 68, 'bagging_fraction': 0.8, 'bagging_freq': 2, 'feature_fraction': 0.9, 'min_data_in_leaf': 7, 'min_sum_hessian_in_leaf': 1}. Best is trial 43 with value: 0.12134767103950991.\u001b[0m\n"
     ]
    },
    {
     "name": "stdout",
     "output_type": "stream",
     "text": [
      "[70]\tvalid_0's l2: 0.0166352\n",
      "[80]\tvalid_0's l2: 0.0166241\n",
      "[90]\tvalid_0's l2: 0.0166272\n",
      "Early stopping, best iteration is:\n",
      "[74]\tvalid_0's l2: 0.0165108\n",
      "Training until validation scores don't improve for 20 rounds\n",
      "[10]\tvalid_0's l2: 0.0390601\n",
      "[20]\tvalid_0's l2: 0.0216828\n",
      "[30]\tvalid_0's l2: 0.0176657\n",
      "[40]\tvalid_0's l2: 0.0166772\n",
      "[50]\tvalid_0's l2: 0.0158865\n",
      "[60]\tvalid_0's l2: 0.0156611\n",
      "[70]\tvalid_0's l2: 0.0155298\n",
      "[80]\tvalid_0's l2: 0.0153533\n",
      "[90]\tvalid_0's l2: 0.0155747\n",
      "[100]\tvalid_0's l2: 0.0153986\n",
      "Did not meet early stopping. Best iteration is:\n",
      "[84]\tvalid_0's l2: 0.0153433\n"
     ]
    },
    {
     "name": "stderr",
     "output_type": "stream",
     "text": [
      "\u001b[32m[I 2023-10-13 14:46:08,908]\u001b[0m Trial 48 finished with value: 0.1238679434520592 and parameters: {'num_leaves': 34, 'max_bin': 109, 'bagging_fraction': 0.7000000000000001, 'bagging_freq': 4, 'feature_fraction': 0.5, 'min_data_in_leaf': 12, 'min_sum_hessian_in_leaf': 10}. Best is trial 43 with value: 0.12134767103950991.\u001b[0m\n",
      "\u001b[32m[I 2023-10-13 14:46:09,182]\u001b[0m Trial 49 finished with value: 0.13001999673063588 and parameters: {'num_leaves': 48, 'max_bin': 63, 'bagging_fraction': 0.4, 'bagging_freq': 7, 'feature_fraction': 0.4, 'min_data_in_leaf': 15, 'min_sum_hessian_in_leaf': 9}. Best is trial 43 with value: 0.12134767103950991.\u001b[0m\n"
     ]
    },
    {
     "name": "stdout",
     "output_type": "stream",
     "text": [
      "Training until validation scores don't improve for 20 rounds\n",
      "[10]\tvalid_0's l2: 0.0411362\n",
      "[20]\tvalid_0's l2: 0.0232991\n",
      "[30]\tvalid_0's l2: 0.0198805\n",
      "[40]\tvalid_0's l2: 0.0184428\n",
      "[50]\tvalid_0's l2: 0.0181522\n",
      "[60]\tvalid_0's l2: 0.0179079\n",
      "[70]\tvalid_0's l2: 0.0172748\n",
      "[80]\tvalid_0's l2: 0.016954\n",
      "[90]\tvalid_0's l2: 0.017195\n",
      "[100]\tvalid_0's l2: 0.0169252\n",
      "Did not meet early stopping. Best iteration is:\n",
      "[98]\tvalid_0's l2: 0.0169052\n"
     ]
    },
    {
     "data": {
      "text/plain": [
       "{'num_leaves': 29,\n",
       " 'max_bin': 82,\n",
       " 'bagging_fraction': 0.8,\n",
       " 'bagging_freq': 7,\n",
       " 'feature_fraction': 0.5,\n",
       " 'min_data_in_leaf': 4,\n",
       " 'min_sum_hessian_in_leaf': 5}"
      ]
     },
     "execution_count": 188,
     "metadata": {},
     "output_type": "execute_result"
    }
   ],
   "source": [
    "study = optuna.create_study(sampler=optuna.samplers.RandomSampler(seed=0))\n",
    "study.optimize(objective, n_trials=50)\n",
    "study.best_params"
   ]
  },
  {
   "cell_type": "code",
   "execution_count": 207,
   "metadata": {},
   "outputs": [],
   "source": [
    "lgbm_params = {\n",
    "    \"objective\": \"regression\",\n",
    "    \"random_seed\": 1234,\n",
    "    \"learning_rate\": 0.05,\n",
    "    \"n_estimators\": 1000,\n",
    "    \"num_leaves\": 29,\n",
    "    \"bagging_fraction\": 0.8,\n",
    "    \"bagging_freq\": 7,\n",
    "    \"feature_fraction\": 0.5,\n",
    "    \"max_bin\": 82,\n",
    "    \"min_data_in_leaf\": 4,\n",
    "    \"min_sum_hessian_in_leaf\": 5,\n",
    "}"
   ]
  },
  {
   "cell_type": "code",
   "execution_count": 208,
   "metadata": {},
   "outputs": [],
   "source": [
    "train_df_le = all_df[~all_df[\"SalePrice\"].isnull()]\n",
    "test_df_le = all_df[all_df[\"SalePrice\"].isnull()]\n",
    "\n",
    "train_df_le[\"SalePrice_log\"] = np.log(train_df_le[\"SalePrice\"])\n",
    "train_X = train_df_le.drop([\"SalePrice\", \"SalePrice_log\", \"Id\"], axis=1)\n",
    "train_Y = train_df_le[\"SalePrice_log\"]"
   ]
  },
  {
   "cell_type": "code",
   "execution_count": 209,
   "metadata": {},
   "outputs": [
    {
     "name": "stdout",
     "output_type": "stream",
     "text": [
      "Training until validation scores don't improve for 20 rounds\n",
      "[10]\tvalid_0's l2: 0.073634\n",
      "[20]\tvalid_0's l2: 0.0399758\n",
      "[30]\tvalid_0's l2: 0.0259426\n",
      "[40]\tvalid_0's l2: 0.0203451\n",
      "[50]\tvalid_0's l2: 0.017389\n",
      "[60]\tvalid_0's l2: 0.015956\n",
      "[70]\tvalid_0's l2: 0.0152198\n",
      "[80]\tvalid_0's l2: 0.0149164\n",
      "[90]\tvalid_0's l2: 0.0147609\n",
      "[100]\tvalid_0's l2: 0.0146523\n",
      "[110]\tvalid_0's l2: 0.0145634\n",
      "[120]\tvalid_0's l2: 0.0145848\n",
      "[130]\tvalid_0's l2: 0.0145795\n",
      "Early stopping, best iteration is:\n",
      "[110]\tvalid_0's l2: 0.0145634\n",
      "0.12067499131049315\n",
      "Training until validation scores don't improve for 20 rounds\n",
      "[10]\tvalid_0's l2: 0.0801298\n",
      "[20]\tvalid_0's l2: 0.0469296\n",
      "[30]\tvalid_0's l2: 0.0318212\n",
      "[40]\tvalid_0's l2: 0.025031\n",
      "[50]\tvalid_0's l2: 0.0215535\n",
      "[60]\tvalid_0's l2: 0.0199119\n",
      "[70]\tvalid_0's l2: 0.0189881\n",
      "[80]\tvalid_0's l2: 0.0184941\n",
      "[90]\tvalid_0's l2: 0.0182744\n",
      "[100]\tvalid_0's l2: 0.0181879\n",
      "[110]\tvalid_0's l2: 0.0180824\n",
      "[120]\tvalid_0's l2: 0.0180563\n",
      "[130]\tvalid_0's l2: 0.0180796\n",
      "Early stopping, best iteration is:\n",
      "[116]\tvalid_0's l2: 0.0180326\n",
      "0.1342854889085316\n",
      "Training until validation scores don't improve for 20 rounds\n",
      "[10]\tvalid_0's l2: 0.0649255\n",
      "[20]\tvalid_0's l2: 0.0346798\n",
      "[30]\tvalid_0's l2: 0.0227636\n",
      "[40]\tvalid_0's l2: 0.0179376\n",
      "[50]\tvalid_0's l2: 0.0157694\n",
      "[60]\tvalid_0's l2: 0.0148108\n",
      "[70]\tvalid_0's l2: 0.0143508\n",
      "[80]\tvalid_0's l2: 0.0140967\n",
      "[90]\tvalid_0's l2: 0.0139253\n",
      "[100]\tvalid_0's l2: 0.0138617\n",
      "[110]\tvalid_0's l2: 0.0138021\n",
      "[120]\tvalid_0's l2: 0.0137909\n",
      "[130]\tvalid_0's l2: 0.0137824\n",
      "[140]\tvalid_0's l2: 0.0137418\n",
      "[150]\tvalid_0's l2: 0.0137539\n",
      "[160]\tvalid_0's l2: 0.0138383\n",
      "Early stopping, best iteration is:\n",
      "[142]\tvalid_0's l2: 0.0137281\n",
      "0.11716697569144242\n"
     ]
    }
   ],
   "source": [
    "models = []\n",
    "rmses = []\n",
    "oof = np.zeros(len(train_X))\n",
    "\n",
    "for train_index, val_index in kf.split(train_X):\n",
    "    X_train = train_X.iloc[train_index]\n",
    "    X_valid = train_X.iloc[val_index]\n",
    "    y_train = train_Y.iloc[train_index]\n",
    "    y_valid = train_Y.iloc[val_index]\n",
    "\n",
    "    lgb_train = lgb.Dataset(X_train, y_train)\n",
    "    lgb_eval = lgb.Dataset(X_valid, y_valid, reference=lgb_train)\n",
    "\n",
    "    model_lgb = lgb.train(\n",
    "        lgbm_params,\n",
    "        lgb_train,\n",
    "        valid_sets=lgb_eval,\n",
    "        num_boost_round=100,\n",
    "        early_stopping_rounds=20,\n",
    "        verbose_eval=10,\n",
    "    )\n",
    "\n",
    "    y_pred = model_lgb.predict(X_valid, num_iteration=model_lgb.best_iteration)\n",
    "    tmp_rmse = np.sqrt(mean_squared_error(y_valid, y_pred))\n",
    "    print(tmp_rmse)\n",
    "\n",
    "    models.append(model_lgb)\n",
    "    rmses.append(tmp_rmse)\n",
    "    oof[val_index] = y_pred"
   ]
  },
  {
   "cell_type": "code",
   "execution_count": 210,
   "metadata": {},
   "outputs": [
    {
     "data": {
      "text/plain": [
       "0.12404248530348905"
      ]
     },
     "execution_count": 210,
     "metadata": {},
     "output_type": "execute_result"
    }
   ],
   "source": [
    "sum(rmses) / len(rmses)"
   ]
  },
  {
   "cell_type": "code",
   "execution_count": 211,
   "metadata": {},
   "outputs": [],
   "source": [
    "test_X = test_df_le.drop([\"SalePrice\", \"Id\"], axis=1)"
   ]
  },
  {
   "cell_type": "code",
   "execution_count": 212,
   "metadata": {},
   "outputs": [],
   "source": [
    "preds = []\n",
    "\n",
    "for model in models:\n",
    "    pred = model.predict(test_X)\n",
    "    preds.append(pred)"
   ]
  },
  {
   "cell_type": "code",
   "execution_count": 213,
   "metadata": {},
   "outputs": [],
   "source": [
    "preds_array = np.array(preds)\n",
    "preds_mean = np.mean(preds_array, axis=0)"
   ]
  },
  {
   "cell_type": "code",
   "execution_count": 214,
   "metadata": {},
   "outputs": [],
   "source": [
    "preds_exp = np.exp(preds_mean)"
   ]
  },
  {
   "cell_type": "code",
   "execution_count": 215,
   "metadata": {},
   "outputs": [
    {
     "data": {
      "text/plain": [
       "1459"
      ]
     },
     "execution_count": 215,
     "metadata": {},
     "output_type": "execute_result"
    }
   ],
   "source": [
    "len(preds_exp)"
   ]
  },
  {
   "cell_type": "code",
   "execution_count": 216,
   "metadata": {},
   "outputs": [],
   "source": [
    "submission[\"SalePrice\"] = preds_exp"
   ]
  },
  {
   "cell_type": "code",
   "execution_count": 217,
   "metadata": {},
   "outputs": [],
   "source": [
    "submission.to_csv(\"./submit/submission05.csv\", index=False)"
   ]
  },
  {
   "cell_type": "code",
   "execution_count": null,
   "metadata": {},
   "outputs": [],
   "source": []
  },
  {
   "cell_type": "code",
   "execution_count": null,
   "metadata": {},
   "outputs": [],
   "source": []
  }
 ],
 "metadata": {
  "kernelspec": {
   "display_name": "kaggle_book",
   "language": "python",
   "name": "python3"
  },
  "language_info": {
   "codemirror_mode": {
    "name": "ipython",
    "version": 3
   },
   "file_extension": ".py",
   "mimetype": "text/x-python",
   "name": "python",
   "nbconvert_exporter": "python",
   "pygments_lexer": "ipython3",
   "version": "3.7.16"
  },
  "orig_nbformat": 4
 },
 "nbformat": 4,
 "nbformat_minor": 2
}
