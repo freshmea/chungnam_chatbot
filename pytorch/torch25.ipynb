{
 "cells": [
  {
   "cell_type": "code",
   "execution_count": 3,
   "metadata": {},
   "outputs": [],
   "source": [
    "# 1번 셀\n",
    "import torch\n",
    "import torchtext\n",
    "import numpy as np\n",
    "import torch.nn as nn\n",
    "import torch.nn.functional as F\n",
    "import time\n",
    "import random\n",
    "from torchtext.datasets import IMDB"
   ]
  },
  {
   "cell_type": "code",
   "execution_count": 2,
   "metadata": {},
   "outputs": [],
   "source": [
    "start = time.time()\n",
    "TEXT = torchtext.data.Field(sequential=True, lower=True, batch_first=True)\n",
    "LABEL = torchtext.data.Field(sequential=False, batch_first=True)"
   ]
  },
  {
   "cell_type": "code",
   "execution_count": 4,
   "metadata": {},
   "outputs": [],
   "source": [
    "# 3번 셀\n",
    "train_data, test_data = IMDB.splits(TEXT, LABEL)\n",
    "train_data, valid_data = train_data.split(random_state=random.seed(0), split_ratio=0.8)\n",
    "\n",
    "TEXT.build_vocab(train_data, max_size=10000, min_freq=10, vectors=None)\n",
    "LABEL.build_vocab(train_data)\n",
    "\n",
    "BATCH_SIZE = 64\n",
    "device = torch.device('cuda' if torch.cuda.is_available() else 'cpu')"
   ]
  },
  {
   "cell_type": "code",
   "execution_count": 5,
   "metadata": {},
   "outputs": [],
   "source": [
    "# 4번 셀\n",
    "train_iter, valid_iter, test_iter = torchtext.data.BucketIterator.splits(\n",
    "    (train_data, valid_data, test_data),\n",
    "    batch_size=BATCH_SIZE,\n",
    "    device=device,\n",
    ")\n"
   ]
  },
  {
   "cell_type": "code",
   "execution_count": 6,
   "metadata": {},
   "outputs": [],
   "source": [
    "# 5번 셀\n",
    "vocab_size = len(TEXT.vocab)\n",
    "n_classes = 2"
   ]
  },
  {
   "cell_type": "code",
   "execution_count": 7,
   "metadata": {},
   "outputs": [],
   "source": [
    "# 6번 셀\n",
    "class BasicRNN(nn.Module):\n",
    "    def __init__(self, n_layers, hidden_dim, n_vocab, embed_dim, n_classes, dropout_p=0.2):\n",
    "        super().__init__()\n",
    "        self.n_layers = n_layers\n",
    "        self.embed = nn.Embedding(n_vocab, embed_dim)\n",
    "        self.hidden_dim = hidden_dim\n",
    "        self.dropout = nn.Dropout(dropout_p)\n",
    "        self.rnn = nn.RNN(embed_dim, self.hidden_dim, num_layers=self.n_layers, batch_first=True)\n",
    "        self.out = nn.Linear(self.hidden_dim, n_classes)\n",
    "    \n",
    "    def forward(self, x):\n",
    "        x = self.embed(x)\n",
    "        h_0 = self._init_state(batch_size=x.size(0))\n",
    "        x, _ = self.rnn(x, h_0)\n",
    "        h_t = x[:,-1,:]\n",
    "        self.dropout(h_t)\n",
    "        logit = torch.sigmoid(self.out(h_t))\n",
    "        return logit\n",
    "    \n",
    "    def _init_state(self, batch_size=1):\n",
    "        weight = next(self.parameters()).data\n",
    "        return weight.new(self.n_layers, batch_size, self.hidden_dim).zero_()"
   ]
  },
  {
   "cell_type": "code",
   "execution_count": 8,
   "metadata": {},
   "outputs": [],
   "source": [
    "# 7번 셀\n",
    "model = BasicRNN(\n",
    "    n_layers=1,\n",
    "    hidden_dim=256,\n",
    "    n_vocab=vocab_size,\n",
    "    embed_dim=128,\n",
    "    n_classes=n_classes,\n",
    "    dropout_p=0.5,\n",
    ").to(device)\n",
    "\n",
    "loss_fn = nn.CrossEntropyLoss()\n",
    "optimizer = torch.optim.Adam(model.parameters(), lr=0.0001)\n"
   ]
  },
  {
   "cell_type": "code",
   "execution_count": 12,
   "metadata": {},
   "outputs": [],
   "source": [
    "# 8번 셀\n",
    "def train(epoch, model, optimizer, train_iter):\n",
    "    model.train()\n",
    "    for b, batch in enumerate(train_iter):\n",
    "        x, y = batch.text.to(device), batch.label.to(device)\n",
    "        y.data.sub_(1)\n",
    "        optimizer.zero_grad()\n",
    "\n",
    "        logit = model(x)\n",
    "        loss = F.cross_entropy(logit, y)\n",
    "        loss.backward()\n",
    "        optimizer.step()\n",
    "        if b % 50 == 0:\n",
    "            print(f\"Train Epoch: {epoch} [{b * len(x)}/{len(train_iter.dataset)} \", end=\"\")\n",
    "            print(f\"({len(train_iter.dataset):.0f}%)]\\tLoss: {loss.item():.6f}\")"
   ]
  },
  {
   "cell_type": "code",
   "execution_count": 10,
   "metadata": {},
   "outputs": [],
   "source": [
    "# 9번 셀\n",
    "def evaluate(model, val_iter):\n",
    "    model.eval()\n",
    "    corrects, total, total_loss = 0, 0, 0\n",
    "\n",
    "    for batch in val_iter:\n",
    "        x, y = batch.text.to(device), batch.label.to(device)\n",
    "        y.data.sub_(1)\n",
    "        logit = model(x)\n",
    "        loss = F.cross_entropy(logit, y, reduction=\"sum\")\n",
    "        total += y.size(0)\n",
    "        total_loss += loss.item()\n",
    "        corrects += (logit.max(1)[1].view(y.size()).data == y.data).sum()\n",
    "\n",
    "    avg_loss = total_loss / len(val_iter.dataset)\n",
    "    avg_accuracy = corrects / total\n",
    "    return avg_loss, avg_accuracy\n"
   ]
  },
  {
   "cell_type": "code",
   "execution_count": 11,
   "metadata": {},
   "outputs": [
    {
     "name": "stdout",
     "output_type": "stream",
     "text": [
      "Train Epoch: 1 [0/20000 \n",
      "(20000%)]\tLoss: 0.693893\n",
      "Train Epoch: 1 [3200/20000 \n",
      "(20000%)]\tLoss: 0.692979\n",
      "Train Epoch: 1 [6400/20000 \n",
      "(20000%)]\tLoss: 0.693708\n",
      "Train Epoch: 1 [9600/20000 \n",
      "(20000%)]\tLoss: 0.696808\n",
      "Train Epoch: 1 [12800/20000 \n",
      "(20000%)]\tLoss: 0.692131\n",
      "Train Epoch: 1 [16000/20000 \n",
      "(20000%)]\tLoss: 0.693884\n",
      "Train Epoch: 1 [19200/20000 \n",
      "(20000%)]\tLoss: 0.694035\n",
      "\n",
      "[epoch:   1] Validation_loss: 0.69 | Validation_acc: 0.49\n",
      "Train Epoch: 2 [0/20000 \n",
      "(20000%)]\tLoss: 0.693987\n",
      "Train Epoch: 2 [3200/20000 \n",
      "(20000%)]\tLoss: 0.710269\n",
      "Train Epoch: 2 [6400/20000 \n",
      "(20000%)]\tLoss: 0.692860\n",
      "Train Epoch: 2 [9600/20000 \n",
      "(20000%)]\tLoss: 0.691727\n",
      "Train Epoch: 2 [12800/20000 \n",
      "(20000%)]\tLoss: 0.692469\n",
      "Train Epoch: 2 [16000/20000 \n",
      "(20000%)]\tLoss: 0.692317\n",
      "Train Epoch: 2 [19200/20000 \n",
      "(20000%)]\tLoss: 0.693563\n",
      "\n",
      "[epoch:   2] Validation_loss: 0.69 | Validation_acc: 0.49\n",
      "Train Epoch: 3 [0/20000 \n",
      "(20000%)]\tLoss: 0.692214\n",
      "Train Epoch: 3 [3200/20000 \n",
      "(20000%)]\tLoss: 0.691759\n",
      "Train Epoch: 3 [6400/20000 \n",
      "(20000%)]\tLoss: 0.694765\n",
      "Train Epoch: 3 [9600/20000 \n",
      "(20000%)]\tLoss: 0.694130\n",
      "Train Epoch: 3 [12800/20000 \n",
      "(20000%)]\tLoss: 0.692066\n",
      "Train Epoch: 3 [16000/20000 \n",
      "(20000%)]\tLoss: 0.692520\n",
      "Train Epoch: 3 [19200/20000 \n",
      "(20000%)]\tLoss: 0.693919\n",
      "\n",
      "[epoch:   3] Validation_loss: 0.70 | Validation_acc: 0.49\n",
      "Train Epoch: 4 [0/20000 \n",
      "(20000%)]\tLoss: 0.695756\n",
      "Train Epoch: 4 [3200/20000 \n",
      "(20000%)]\tLoss: 0.692269\n",
      "Train Epoch: 4 [6400/20000 \n",
      "(20000%)]\tLoss: 0.696186\n",
      "Train Epoch: 4 [9600/20000 \n",
      "(20000%)]\tLoss: 0.692206\n",
      "Train Epoch: 4 [12800/20000 \n",
      "(20000%)]\tLoss: 0.693428\n",
      "Train Epoch: 4 [16000/20000 \n",
      "(20000%)]\tLoss: 0.692428\n",
      "Train Epoch: 4 [19200/20000 \n",
      "(20000%)]\tLoss: 0.693672\n",
      "\n",
      "[epoch:   4] Validation_loss: 0.70 | Validation_acc: 0.49\n",
      "Train Epoch: 5 [0/20000 \n",
      "(20000%)]\tLoss: 0.693605\n",
      "Train Epoch: 5 [3200/20000 \n",
      "(20000%)]\tLoss: 0.696666\n",
      "Train Epoch: 5 [6400/20000 \n",
      "(20000%)]\tLoss: 0.690449\n",
      "Train Epoch: 5 [9600/20000 \n",
      "(20000%)]\tLoss: 0.694455\n",
      "Train Epoch: 5 [12800/20000 \n",
      "(20000%)]\tLoss: 0.694537\n",
      "Train Epoch: 5 [16000/20000 \n",
      "(20000%)]\tLoss: 0.694753\n",
      "Train Epoch: 5 [19200/20000 \n",
      "(20000%)]\tLoss: 0.690334\n",
      "\n",
      "[epoch:   5] Validation_loss: 0.70 | Validation_acc: 0.49\n"
     ]
    }
   ],
   "source": [
    "BATCH_SIZE = 100\n",
    "LR = 0.001\n",
    "EPOCHS = 5\n",
    "for e in range(1, EPOCHS+1):\n",
    "    train(e, model, optimizer, train_iter)\n",
    "    valid_loss, valid_accuracy = evaluate(model, valid_iter)\n",
    "    print(f\"\\n[epoch: {e:3d}] Validation_loss: {valid_loss:4.2f} | Validation_acc: {valid_accuracy:4.2f}\")"
   ]
  }
 ],
 "metadata": {
  "kernelspec": {
   "display_name": "pytorch",
   "language": "python",
   "name": "python3"
  },
  "language_info": {
   "codemirror_mode": {
    "name": "ipython",
    "version": 3
   },
   "file_extension": ".py",
   "mimetype": "text/x-python",
   "name": "python",
   "nbconvert_exporter": "python",
   "pygments_lexer": "ipython3",
   "version": "3.11.4"
  },
  "orig_nbformat": 4
 },
 "nbformat": 4,
 "nbformat_minor": 2
}
