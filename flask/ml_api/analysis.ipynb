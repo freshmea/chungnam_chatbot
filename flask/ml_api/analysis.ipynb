{
 "cells": [
  {
   "cell_type": "markdown",
   "metadata": {},
   "source": [
    "# 1.1. 코드 리딩/코드 도큐먼테이션"
   ]
  },
  {
   "cell_type": "code",
   "execution_count": 4,
   "metadata": {},
   "outputs": [
    {
     "name": "stdout",
     "output_type": "stream",
     "text": [
      "손글씨 문자의 판별 결과\n",
      "관측 결과: [0 1 2 3 4 5 6 7 8 9]\n",
      "예측 결과: [4 4 4 4 4 4 4 7 4 4]\n",
      "정답률: 0.2\n"
     ]
    }
   ],
   "source": [
    "import os\n",
    "import numpy as np\n",
    "from PIL import Image\n",
    "import sqlite3\n",
    "from sklearn.datasets import load_digits\n",
    "from sklearn.linear_model import LogisticRegression\n",
    "from sklearn.model_selection import train_test_split\n",
    "\n",
    "INCLUDED_EXTENTION = [\".png\", \".jpg\"]\n",
    "\n",
    "dbname = 'images.db'\n",
    "conn = sqlite3.connect(dbname)\n",
    "cur = conn.cursor()\n",
    "cur.execute('DROP TABLE image_info')\n",
    "cur.execute('CREATE TABLE image_info(id INTEGER PRIMARY KEY AUTOINCREMENT, filename STRING)')\n",
    "conn.commit()\n",
    "conn.close()\n",
    "\n",
    "conn = sqlite3.connect(dbname)\n",
    "cur = conn.cursor()\n",
    "filenames = sorted(os.listdir('handwriting_pics'))\n",
    "for filename in filenames:\n",
    "    base, ext = os.path.splitext(filename)\n",
    "    if ext not in INCLUDED_EXTENTION:\n",
    "        continue\n",
    "    cur.execute('INSERT INTO image_info(filename) values(?)', (filename,))\n",
    "conn.commit()\n",
    "cur.close()\n",
    "conn.close()\n",
    "\n",
    "conn = sqlite3.connect(dbname)\n",
    "cur = conn.cursor()\n",
    "cur.execute('SELECT * FROM image_info')\n",
    "pics_info = cur.fetchall()\n",
    "cur.close()\n",
    "conn.close()\n",
    "\n",
    "img_test = np.empty((0, 64))\n",
    "for pic_info in pics_info:\n",
    "    filename = pic_info[1]\n",
    "    base, ext = os.path.splitext(filename)\n",
    "    if ext not in INCLUDED_EXTENTION:\n",
    "        continue\n",
    "    img = Image.open(f'handwriting_pics/{filename}').convert('L')\n",
    "    img_data256 = 255 - np.array(img.resize((8, 8)))\n",
    "\n",
    "    min_bright = img_data256.min()\n",
    "    max_bright = img_data256.max()\n",
    "    img_data16 = (img_data256 - min_bright) / (max_bright - min_bright) * 16\n",
    "    img_test = np.r_[img_test, img_data16.astype(np.uint8).reshape(1, -1)]\n",
    "\n",
    "digits = load_digits()\n",
    "X = digits.data\n",
    "y = digits.target\n",
    "X_train, X_test, y_train, y_test = train_test_split(X, y, test_size=0.5, random_state=0)\n",
    "logreg = LogisticRegression(max_iter=2000)\n",
    "logreg_model = logreg.fit(X_train, y_train)\n",
    "\n",
    "X_true = []\n",
    "for filename in filenames:\n",
    "    base, ext = os.path.splitext(filename)\n",
    "    if ext not in INCLUDED_EXTENTION:\n",
    "        continue\n",
    "    X_true = X_true + [int(filename[:1])]\n",
    "X_true = np.array(X_true)\n",
    "pred_logreg = logreg_model.predict(img_test)\n",
    "\n",
    "print('손글씨 문자의 판별 결과')\n",
    "print('관측 결과:', X_true)\n",
    "print('예측 결과:', pred_logreg)\n",
    "print('정답률:', logreg_model.score(img_test, X_true))"
   ]
  },
  {
   "cell_type": "markdown",
   "metadata": {},
   "source": [
    "### 데이터로 접근하는 코드"
   ]
  },
  {
   "cell_type": "code",
   "execution_count": 5,
   "metadata": {},
   "outputs": [],
   "source": [
    "INCLUDED_EXTENTION = [\".png\", \".jpg\"]\n",
    "\n",
    "# 이미지가 들어있는 폴더를 지정하고, 내용의 파일명을 취득\n",
    "# images.db를 신규 작성. images.db가 이미 존재하고 있으면 접속.\n",
    "dbname = 'images.db'\n",
    "# 데이터베이스로의 커넥션 오브젝트 작성\n",
    "conn = sqlite3.connect(dbname)\n",
    "# sqlite를 조작하는 커서 오브젝트를 작성\n",
    "cur = conn.cursor()\n",
    "# 데이터베이스의 초기화\n",
    "cur.execute('DROP TABLE image_info')\n",
    "# image_info라는 table을 작성\n",
    "cur.execute('CREATE TABLE image_info (id INTEGER PRIMARY KEY AUTOINCREMENT, filename STRING)')\n",
    "# 데이터베이스에 커밋하고, 변경을 보존\n",
    "conn.commit()\n",
    "conn.close()\n",
    "\n",
    "# 데이터베이스에 이미지의 파일명을 삽입\n",
    "conn = sqlite3.connect(dbname)\n",
    "cur = conn.cursor()\n",
    "filenames = sorted(os.listdir('handwriting_pics'))\n",
    "for filename in filenames:\n",
    "    base, ext = os.path.splitext(filename)\n",
    "    if ext not in INCLUDED_EXTENTION:\n",
    "        continue\n",
    "    cur.execute('INSERT INTO image_info(filename) values(?)', (filename,))\n",
    "conn.commit()\n",
    "cur.close()\n",
    "conn.close()\n",
    "\n",
    "# table의 내용을 취득\n",
    "conn = sqlite3.connect(dbname)\n",
    "cur = conn.cursor()\n",
    "cur.execute('SELECT * FROM image_info')\n",
    "# fetchall()을 사용해서 내용을 전부 취득\n",
    "pics_info = cur.fetchall()\n",
    "cur.close()\n",
    "conn.close()"
   ]
  },
  {
   "cell_type": "markdown",
   "metadata": {},
   "source": [
    "### 데이터 전처리를 하는 코드"
   ]
  },
  {
   "cell_type": "code",
   "execution_count": 6,
   "metadata": {},
   "outputs": [],
   "source": [
    "img_test = np.empty((0, 64))\n",
    "#　폴더 내의 전 이미지를 데이터화\n",
    "for pic_info in pics_info:\n",
    "    filename = pic_info[1]\n",
    "    #　이미지 파일을 취득, 그레이스케일로 하여 크기 변경\n",
    "    base, ext = os.path.splitext(filename)\n",
    "    if ext not in INCLUDED_EXTENTION:\n",
    "        continue\n",
    "    img = Image.open(f'handwriting_pics/{filename}').convert('L')\n",
    "    img_data256 = 255 - np.array(img.resize((8, 8)))\n",
    "\n",
    "    # 이미지 데이터 내의 최솟값이 0, 최댓값이 16이 되도록 계산\n",
    "    min_bright = img_data256.min()\n",
    "    max_bright = img_data256.max()\n",
    "    img_data16 = (img_data256 - min_bright) / (max_bright - min_bright) * 16\n",
    "    # 가공한 이미지 데이터의 배열을 합친다\n",
    "    img_test = np.r_[img_test, img_data16.astype(np.uint8).reshape(1, -1)]"
   ]
  },
  {
   "cell_type": "markdown",
   "metadata": {},
   "source": [
    "### 데이터를 학습/예측/계산하는 코드"
   ]
  },
  {
   "cell_type": "code",
   "execution_count": 7,
   "metadata": {},
   "outputs": [
    {
     "name": "stdout",
     "output_type": "stream",
     "text": [
      "손글씨 문자의 판별 결과\n",
      "관측 결과: [0 1 2 3 4 5 6 7 8 9]\n",
      "예측 결과: [4 4 4 4 4 4 4 7 4 4]\n",
      "정답률: 0.2\n"
     ]
    }
   ],
   "source": [
    "# 지도 데이터로부터의 학습\n",
    "# sklearn의 데이터셋으로부터 취득, 목적 변수 X와 설명 변수 y로 나눈다\n",
    "digits = load_digits()\n",
    "X = digits.data\n",
    "y = digits.target\n",
    "# 지도 데이터와 테스트 데이터로 나눈다\n",
    "X_train, X_test, y_train, y_test = train_test_split(X, y, test_size=0.5, random_state=0)\n",
    "# 로지스틱 회귀의 모델을 작성하고, 지도 데이터를 사용해서 학습시킨다\n",
    "logreg = LogisticRegression(max_iter=2000)\n",
    "logreg_model = logreg.fit(X_train, y_train)\n",
    "\n",
    "# 이미지 데이터의 판별\n",
    "# 이미지 데이터의 정답을 배열로 한다\n",
    "X_true = []\n",
    "for filename in filenames:\n",
    "    base, ext = os.path.splitext(filename)\n",
    "    if ext not in INCLUDED_EXTENTION:\n",
    "        continue\n",
    "    X_true = X_true + [int(filename[:1])]\n",
    "X_true = np.array(X_true)\n",
    "\n",
    "# 로지스틱 회귀의 학습 완료 모델에 이미지 데이터를 넣고, 판별한다\n",
    "pred_logreg = logreg_model.predict(img_test)\n",
    "\n",
    "print('손글씨 문자의 판별 결과')\n",
    "print('관측 결과:', X_true)\n",
    "print('예측 결과:', pred_logreg)\n",
    "print('정답률:', logreg_model.score(img_test, X_true))"
   ]
  },
  {
   "cell_type": "markdown",
   "metadata": {},
   "source": [
    "# 1.2. 모듈 분할/함수 분할"
   ]
  },
  {
   "cell_type": "markdown",
   "metadata": {},
   "source": [
    "### 데이터로 접근하는 코드"
   ]
  },
  {
   "cell_type": "code",
   "execution_count": 8,
   "metadata": {},
   "outputs": [],
   "source": [
    "import os\n",
    "import numpy as np\n",
    "from PIL import Image\n",
    "import sqlite3\n",
    "from sklearn.datasets import load_digits\n",
    "from sklearn.linear_model import LogisticRegression\n",
    "from sklearn.model_selection import train_test_split"
   ]
  },
  {
   "cell_type": "code",
   "execution_count": 9,
   "metadata": {},
   "outputs": [
    {
     "name": "stdout",
     "output_type": "stream",
     "text": [
      "table is successully created\n",
      "image file names are successully inserted\n"
     ]
    },
    {
     "data": {
      "text/plain": [
       "[(1, '0.jpg'),\n",
       " (2, '1.jpg'),\n",
       " (3, '2.jpg'),\n",
       " (4, '3.jpg'),\n",
       " (5, '4.jpg'),\n",
       " (6, '5.jpg'),\n",
       " (7, '6.jpg'),\n",
       " (8, '7.jpg'),\n",
       " (9, '8.jpg'),\n",
       " (10, '9.jpg')]"
      ]
     },
     "execution_count": 9,
     "metadata": {},
     "output_type": "execute_result"
    }
   ],
   "source": [
    "INCLUDED_EXTENTION = [\".png\", \".jpg\"]\n",
    "dbname = 'images.db'\n",
    "dir_name = 'handwriting_pics'\n",
    "\n",
    "def load_filenames(dir_name, included_ext=INCLUDED_EXTENTION):\n",
    "    \"\"\"손글씨 문자 이미지가 놓여 있는 패스로부터 파일명을 취득하고, 리스트를 작성\"\"\"\n",
    "    files = []\n",
    "    filenames = sorted(os.listdir(dir_name))\n",
    "    for filename in filenames:\n",
    "        base, ext = os.path.splitext(filename)\n",
    "        if ext not in included_ext:\n",
    "            continue\n",
    "        files.append(filename)\n",
    "    return files\n",
    "\n",
    "def create_table(dbname):\n",
    "    \"\"\"테이블을 작성하는 함수\"\"\"\n",
    "    conn = sqlite3.connect(dbname)\n",
    "    cur = conn.cursor()\n",
    "    cur.execute('DROP TABLE image_info')\n",
    "    cur.execute( 'CREATE TABLE image_info (id INTEGER PRIMARY KEY AUTOINCREMENT, filename STRING)')\n",
    "    conn.commit()\n",
    "    conn.close()\n",
    "    print(\"table is successully created\")\n",
    "\n",
    "def insert_filenames(dbname, dir_name):\n",
    "    \"\"\"손글씨 문자 이미지의 파일명을 데이터베이스에 보존\"\"\"\n",
    "    filenames = load_filenames(dir_name)\n",
    "    conn = sqlite3.connect(dbname)\n",
    "    cur = conn.cursor()\n",
    "    for filename in filenames:\n",
    "        cur.execute('INSERT INTO image_info(filename) values(?)', (filename,))\n",
    "    conn.commit()\n",
    "    cur.close()\n",
    "    conn.close()\n",
    "    print(\"image file names are successully inserted\")\n",
    "\n",
    "def extract_filenames(dbname):\n",
    "    \"\"\"손글씨 문자 이미지의 파일명을 데이터베이스로부터 취득\"\"\"\n",
    "    conn = sqlite3.connect(dbname)\n",
    "    cur = conn.cursor()\n",
    "    cur.execute( 'SELECT * FROM image_info')\n",
    "    filenames = cur.fetchall()\n",
    "    cur.close()\n",
    "    conn.close()\n",
    "    return filenames\n",
    "\n",
    "create_table(dbname)\n",
    "insert_filenames(dbname, dir_name)\n",
    "extract_filenames(dbname)"
   ]
  },
  {
   "cell_type": "markdown",
   "metadata": {},
   "source": [
    "### 데이터의 전처리를 하는 코드"
   ]
  },
  {
   "cell_type": "code",
   "execution_count": 10,
   "metadata": {},
   "outputs": [
    {
     "data": {
      "text/plain": [
       "array([[ 0.,  0.,  0.,  0.,  0.,  0.,  0.,  0.,  0.,  0.,  0.,  0.,  0.,\n",
       "         0.,  0.,  0.,  0.,  0.,  0.,  8., 16.,  0.,  0.,  0.,  0.,  0.,\n",
       "         0., 16., 16.,  8.,  0.,  0.,  0.,  0.,  0.,  8.,  8.,  8.,  0.,\n",
       "         0.,  0.,  0.,  0.,  8., 16.,  0.,  0.,  0.,  0.,  0.,  0.,  0.,\n",
       "         0.,  0.,  0.,  0.,  0.,  0.,  0.,  0.,  0.,  0.,  0.,  0.],\n",
       "       [ 0.,  0.,  0.,  0.,  0.,  0.,  0.,  0.,  0.,  0.,  0.,  0.,  0.,\n",
       "         0.,  0.,  0.,  0.,  0.,  0., 16.,  0.,  0.,  0.,  0.,  0.,  0.,\n",
       "         0.,  8.,  0.,  0.,  0.,  0.,  0.,  0.,  0.,  8.,  0.,  0.,  0.,\n",
       "         0.,  0.,  0.,  0.,  0.,  0.,  0.,  0.,  0.,  0.,  0.,  0.,  0.,\n",
       "         0.,  0.,  0.,  0.,  0.,  0.,  0.,  0.,  0.,  0.,  0.,  0.],\n",
       "       [ 0.,  0.,  0.,  0.,  0.,  0.,  0.,  0.,  0.,  0.,  0.,  3.,  3.,\n",
       "         0.,  0.,  0.,  0.,  0.,  0.,  6.,  3.,  0.,  0.,  0.,  0.,  0.,\n",
       "         3.,  3.,  3.,  0.,  0.,  0.,  0.,  0.,  0.,  0.,  9.,  3.,  0.,\n",
       "         0.,  0.,  0.,  3., 16.,  9.,  6.,  0.,  0.,  0.,  0.,  3.,  3.,\n",
       "         0.,  0.,  0.,  0.,  0.,  0.,  0.,  0.,  0.,  0.,  0.,  0.],\n",
       "       [ 0.,  0.,  0.,  0.,  0.,  0.,  0.,  0.,  0.,  0.,  8.,  8., 10.,\n",
       "         0.,  0.,  0.,  0.,  2.,  8., 10., 13.,  0.,  0.,  0.,  0.,  5.,\n",
       "        16., 13., 10., 10.,  2.,  0.,  0.,  0.,  0.,  0.,  0., 10.,  5.,\n",
       "         0.,  0.,  8., 10., 10., 10.,  8.,  0.,  0.,  0.,  0.,  2.,  0.,\n",
       "         0.,  0.,  0.,  0.,  0.,  0.,  0.,  0.,  0.,  0.,  0.,  0.],\n",
       "       [ 0.,  0.,  0.,  4.,  2.,  0.,  0.,  0.,  0.,  0.,  2., 16.,  2.,\n",
       "         0.,  0.,  0.,  0.,  2., 10.,  8.,  2.,  0.,  0.,  0.,  0.,  8.,\n",
       "        12., 16., 12.,  8.,  0.,  0.,  0.,  0.,  0.,  8.,  4.,  2.,  0.,\n",
       "         0.,  0.,  0.,  0.,  8.,  2.,  0.,  0.,  0.,  0.,  0.,  0.,  2.,\n",
       "         0.,  0.,  0.,  0.,  0.,  0.,  0.,  0.,  0.,  0.,  0.,  0.],\n",
       "       [ 0.,  0.,  0.,  0.,  0.,  0.,  0.,  0.,  0.,  6.,  6.,  0.,  0.,\n",
       "         0.,  0.,  0.,  0., 12., 16., 12.,  9.,  0.,  0.,  0.,  0.,  9.,\n",
       "         9.,  9.,  6.,  0.,  0.,  0.,  0.,  3.,  9.,  6.,  9.,  9.,  0.,\n",
       "         0.,  0.,  0.,  3.,  3.,  9., 12.,  0.,  0.,  0.,  0.,  9.,  9.,\n",
       "         6.,  0.,  0.,  0.,  0.,  0.,  0.,  0.,  0.,  0.,  0.,  0.],\n",
       "       [ 0.,  0.,  5.,  2.,  0.,  0.,  0.,  0.,  0.,  8.,  8.,  2.,  0.,\n",
       "         0.,  0.,  0.,  0., 10.,  0.,  0.,  0.,  0.,  0.,  0.,  0., 16.,\n",
       "        10., 10.,  8.,  0.,  0.,  0.,  0., 10.,  5.,  0.,  8.,  5.,  0.,\n",
       "         0.,  0.,  0., 10.,  5.,  8.,  8.,  0.,  0.,  0.,  0.,  0.,  5.,\n",
       "         8.,  0.,  0.,  0.,  0.,  0.,  0.,  0.,  0.,  0.,  0.,  0.],\n",
       "       [ 0.,  0.,  0.,  0.,  0.,  0.,  0.,  0.,  0., 12., 12., 12., 12.,\n",
       "         8.,  0.,  0.,  4., 16.,  4.,  4.,  8., 16.,  0.,  0.,  0.,  0.,\n",
       "         0.,  0., 12.,  8.,  0.,  0.,  0.,  0.,  0.,  0., 16.,  0.,  0.,\n",
       "         0.,  0.,  0.,  0.,  8., 12.,  0.,  0.,  0.,  0.,  0.,  0.,  8.,\n",
       "         4.,  0.,  0.,  0.,  0.,  0.,  0.,  0.,  0.,  0.,  0.,  0.],\n",
       "       [ 0.,  0.,  4.,  2.,  0.,  0.,  0.,  0.,  0.,  8.,  6.,  8.,  4.,\n",
       "         0.,  0.,  0.,  0.,  8.,  4.,  0., 10.,  2.,  0.,  0.,  0.,  0.,\n",
       "        10., 16.,  8.,  0.,  0.,  0.,  0.,  4.,  8.,  2.,  8.,  0.,  0.,\n",
       "         0.,  0., 10.,  0.,  0.,  8.,  0.,  0.,  0.,  0.,  4.,  8.,  8.,\n",
       "         2.,  0.,  0.,  0.,  0.,  0.,  0.,  0.,  0.,  0.,  0.,  0.],\n",
       "       [ 0.,  2.,  4.,  2.,  2.,  0.,  0.,  0.,  2.,  8.,  4.,  4.,  6.,\n",
       "         6.,  2.,  0.,  0.,  8.,  2.,  0.,  0., 16.,  4.,  0.,  0.,  2.,\n",
       "         8.,  6.,  8., 12.,  0.,  0.,  0.,  0.,  0.,  0.,  8.,  2.,  0.,\n",
       "         0.,  0.,  0.,  0.,  2.,  6.,  0.,  0.,  0.,  0.,  0.,  0.,  6.,\n",
       "         2.,  0.,  0.,  0.,  0.,  0.,  0.,  2.,  0.,  0.,  0.,  0.]])"
      ]
     },
     "execution_count": 10,
     "metadata": {},
     "output_type": "execute_result"
    }
   ],
   "source": [
    "# p425, 아웃풋을 확인 필요\n",
    "def load_filenames(dir_name, included_ext=INCLUDED_EXTENTION):\n",
    "    \"\"\"손글씨 문자 이미지가 놓여 있는 패스로부터 파일명을 취득하고, 리스트를 작성하는 함수\"\"\"\n",
    "    files = []\n",
    "    filenames = sorted(os.listdir(dir_name))\n",
    "    for filename in filenames:\n",
    "        base, ext = os.path.splitext(filename)\n",
    "        if ext not in included_ext:\n",
    "            continue\n",
    "        files.append(filename)\n",
    "    return files\n",
    "\n",
    "def get_grayscale(dir_name):\n",
    "    \"\"\"읽어 들인 손글씨 문자 이미지의 색을 그레이스케일로 변환하는 함수(그레이스케일은 색의 농담의 명함을 나누는 방법)\"\"\"\n",
    "    filenames = load_filenames(dir_name)\n",
    "    for filename in filenames:\n",
    "        img = Image.open(f'{dir_name}/{filename}').convert('L')\n",
    "        yield img\n",
    "\n",
    "def get_shrinked_img(dir_name):\n",
    "    \"\"\"이미지 크기를 8×8 픽셀의 크기로 통일하고, 밝기도 16계조의 그레이스케일로 흑백으로 변환하는 함수\"\"\"\n",
    "    img_test = np.empty((0, 64))\n",
    "    crop_size = 8\n",
    "    for img in get_grayscale(dir_name):\n",
    "        img_data256 = 255 - np.array(img.resize((crop_size, crop_size)))\n",
    "        min_bright, max_bright = img_data256.min(),  img_data256.max()\n",
    "        img_data16 = (img_data256 - min_bright) / (max_bright - min_bright) * 16\n",
    "        img_test = np.r_[img_test, img_data16.astype(np.uint8).reshape(1, -1)]\n",
    "    return img_test\n",
    "\n",
    "img_test = get_shrinked_img(dir_name)\n",
    "get_shrinked_img(dir_name)"
   ]
  },
  {
   "cell_type": "markdown",
   "metadata": {},
   "source": [
    "### 데이터를 학습/예측/계산하는 코드"
   ]
  },
  {
   "cell_type": "code",
   "execution_count": 11,
   "metadata": {},
   "outputs": [
    {
     "name": "stdout",
     "output_type": "stream",
     "text": [
      "손글씨 문자의 판별 결과\n",
      "관측 결과: [0 1 2 3 4 5 6 7 8 9]\n",
      "예측 결과: [4 4 4 4 4 4 4 7 4 4]\n",
      "정답률: 0.2\n"
     ]
    },
    {
     "data": {
      "text/plain": [
       "'Propability calculation is successfully finished'"
      ]
     },
     "execution_count": 11,
     "metadata": {},
     "output_type": "execute_result"
    }
   ],
   "source": [
    "import os\n",
    "import numpy as np\n",
    "from PIL import Image\n",
    "from sklearn.datasets import load_digits\n",
    "from sklearn.linear_model import LogisticRegression\n",
    "from sklearn.model_selection import train_test_split\n",
    "\n",
    "def load_filenames(dir_name, included_ext=INCLUDED_EXTENTION):\n",
    "    \"\"\"손글씨 문자 이미지가 놓여 있는 파일명을 취득하고, 리스트를 작성\"\"\"\n",
    "    files = []\n",
    "    filenames = sorted(os.listdir(dir_name))\n",
    "    for filename in filenames:\n",
    "        base, ext = os.path.splitext(filename)\n",
    "        if ext not in included_ext:\n",
    "            continue\n",
    "        files.append(filename)\n",
    "    return files\n",
    "\n",
    "def create_logreg_model():\n",
    "    \"\"\"로지스틱 회귀의 학습 완료 모델을 생성\"\"\"\n",
    "    digits = load_digits()\n",
    "    X = digits.data\n",
    "    y = digits.target\n",
    "    X_train, X_test, y_train, y_test = train_test_split(X, y, test_size=0.5, random_state=0)\n",
    "    logreg = LogisticRegression(max_iter=2000)\n",
    "    logreg_model = logreg.fit(X_train, y_train)\n",
    "    return logreg_model\n",
    "\n",
    "def evaluate_probs(dir_name, img_test, logreg_model):\n",
    "    \"\"\"테스트 데이터를 이용하여 로지스틱 회귀의 학습 완료 모델의 아웃풋을 평가\"\"\"\n",
    "    filenames = load_filenames(dir_name)\n",
    "    X_true = [int(filename[:1]) for filename in filenames]  \n",
    "    X_true = np.array(X_true)\n",
    "    pred_logreg = logreg_model.predict(img_test)\n",
    "    \n",
    "    print('손글씨 문자의 판별 결과')\n",
    "    print('관측 결과:', X_true)\n",
    "    print('예측 결과:', pred_logreg)\n",
    "    print('정답률:', logreg_model.score(img_test, X_true))\n",
    "    return \"Propability calculation is successfully finished\"\n",
    "\n",
    "logreg_model = create_logreg_model()\n",
    "evaluate_probs(dir_name, img_test, logreg_model)"
   ]
  },
  {
   "cell_type": "markdown",
   "metadata": {},
   "source": [
    "# 로지스틱 회귀의 학습 완료 모델을 생성"
   ]
  },
  {
   "cell_type": "code",
   "execution_count": 24,
   "metadata": {},
   "outputs": [],
   "source": [
    "import pickle\n",
    "from sklearn.datasets import load_digits\n",
    "from sklearn.linear_model import LogisticRegression\n",
    "from sklearn.model_selection import train_test_split\n",
    "\n",
    "digits = load_digits()\n",
    "X = digits.data\n",
    "y = digits.target\n",
    "X_train, X_test, y_train, y_test = train_test_split(X, y, test_size=0.5, random_state=0)\n",
    "\n",
    "logreg = LogisticRegression(max_iter=2000)\n",
    "model = logreg.fit(X_train, y_train)\n",
    "with open('model.pickle', mode='wb') as fp:\n",
    "    pickle.dump(model, fp)"
   ]
  },
  {
   "cell_type": "code",
   "execution_count": null,
   "metadata": {},
   "outputs": [],
   "source": []
  },
  {
   "cell_type": "code",
   "execution_count": null,
   "metadata": {},
   "outputs": [],
   "source": []
  }
 ],
 "metadata": {
  "kernelspec": {
   "display_name": "Python 3 (ipykernel)",
   "language": "python",
   "name": "python3"
  },
  "language_info": {
   "codemirror_mode": {
    "name": "ipython",
    "version": 3
   },
   "file_extension": ".py",
   "mimetype": "text/x-python",
   "name": "python",
   "nbconvert_exporter": "python",
   "pygments_lexer": "ipython3",
   "version": "3.10.7"
  },
  "varInspector": {
   "cols": {
    "lenName": 16,
    "lenType": 16,
    "lenVar": 40
   },
   "kernels_config": {
    "python": {
     "delete_cmd_postfix": "",
     "delete_cmd_prefix": "del ",
     "library": "var_list.py",
     "varRefreshCmd": "print(var_dic_list())"
    },
    "r": {
     "delete_cmd_postfix": ") ",
     "delete_cmd_prefix": "rm(",
     "library": "var_list.r",
     "varRefreshCmd": "cat(var_dic_list()) "
    }
   },
   "types_to_exclude": [
    "module",
    "function",
    "builtin_function_or_method",
    "instance",
    "_Feature"
   ],
   "window_display": false
  }
 },
 "nbformat": 4,
 "nbformat_minor": 4
}
